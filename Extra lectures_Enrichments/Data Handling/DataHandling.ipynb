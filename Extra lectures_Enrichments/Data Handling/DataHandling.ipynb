{
  "nbformat": 4,
  "nbformat_minor": 0,
  "metadata": {
    "colab": {
      "provenance": [],
      "gpuType": "T4"
    },
    "kernelspec": {
      "name": "python3",
      "display_name": "Python 3"
    },
    "language_info": {
      "name": "python"
    },
    "accelerator": "GPU"
  },
  "cells": [
    {
      "cell_type": "markdown",
      "source": [
        "![image.png](https://i.imgur.com/a3uAqnb.png)"
      ],
      "metadata": {
        "id": "_--HmKOg4WzQ"
      }
    },
    {
      "cell_type": "code",
      "source": [
        "from IPython.display import clear_output"
      ],
      "metadata": {
        "id": "-0eTjAds2ycw"
      },
      "execution_count": 2,
      "outputs": []
    },
    {
      "cell_type": "markdown",
      "source": [
        "# **Download and Hnadle Dataset**"
      ],
      "metadata": {
        "id": "tz0KuNBF4iYE"
      }
    },
    {
      "cell_type": "markdown",
      "source": [
        "## **Sign Langauge Problem:**\n",
        "\n",
        " Intution: The AI is so powrful and important because of its various applications on most if not all the different fields. As a result, we want to help in solving the issue of not understanding sign languages.\n",
        "\n",
        "\n",
        "This notebook contains a detailed implementaiton of a NN uisng Pytorch.\n",
        "\n",
        "### 1. **Data set Details:**\n",
        "\n",
        "- The provided data set is ArASL (Arabic Alphabets Sign Language Dataset). It is as its name says, an arabic sighn langauge for Arabic alphabet. It has a total of 54049 images and their corrssponding labels.\n",
        "\n",
        "### 2. S**ize of data:**\n",
        "- Length of train_dataset is 43239,\n",
        "- Length of val_dataset is 10810\n",
        "\n",
        "### 3. **Labels representations:**\n",
        "- Each sample has a label, which can be one of the 32 classes.\n",
        "It consist of 32 classes for the alphabet.\n",
        "- The classes values are integers from 0 up to 31.\n",
        "\n",
        "\n",
        "### 4. **The mapping details:**\n",
        "\n",
        "- Each number represents a charcter. You can see the dictionary in the variable \"mapping\".\n",
        "\n",
        "<br/>\n",
        "-- You can see the mapping in the following:\n",
        "\n",
        "0: 'seen', 1: 'zay', 2: 'aleff', 3: 'dal', 4: 'ta', 5: 'yaa', 6: 'fa', 7: 'ya', 8: 'khaa', 9: 'nun', 10: 'ha', 11: 'toot', 12: 'taa', 13: 'ra', 14: 'kaaf', 15: 'jeem', 16: 'laam', 17: 'la', 18: 'dhad', 19: 'dha', 20: 'waw', 21: 'meem', 22: 'al', 23: 'sheen', 24: 'haa', 25: 'thaa', 26: 'saad', 27: 'ghain', 28: 'ain', 29: 'thal', 30: 'gaaf', 31: 'bb'\n",
        "\n",
        "### 5. **Refrence:**\n",
        "Latif, G., Mohammad, N., Alghazo, J., AlKhalaf, R., & AlKhalaf, R. (2019). ARASL: Arabic Alphabets Sign Language Dataset. *Data in Brief*, 23, 103777. https://doi.org/10.1016/j.dib.2019.103777"
      ],
      "metadata": {
        "id": "UgfVi4Ts44w6"
      }
    },
    {
      "cell_type": "code",
      "source": [
        "https://prod-dcd-datasets-cache-zipfiles.s3.eu-west-1.amazonaws.com/y7pckrw6z2-1.zip"
      ],
      "metadata": {
        "id": "8uBOdD7Xwg26"
      },
      "execution_count": null,
      "outputs": []
    },
    {
      "cell_type": "code",
      "source": [
        "!wget -O arasl_dataset.zip \"https://prod-dcd-datasets-cache-zipfiles.s3.eu-west-1.amazonaws.com/y7pckrw6z2-1.zip\"\n",
        "clear_output()"
      ],
      "metadata": {
        "id": "rmPa8Z82JIKS"
      },
      "execution_count": 3,
      "outputs": []
    },
    {
      "cell_type": "code",
      "source": [
        "!unzip -q /content/arasl_dataset.zip -d /content/arasl_dataset"
      ],
      "metadata": {
        "id": "9wzgRxSeLOyA"
      },
      "execution_count": 4,
      "outputs": []
    },
    {
      "cell_type": "code",
      "source": [
        "!unzip -q /content/arasl_dataset/ArASL_Database_54K_Final.zip -d /content"
      ],
      "metadata": {
        "id": "xjYr3wF9MPz_"
      },
      "execution_count": 5,
      "outputs": []
    },
    {
      "cell_type": "markdown",
      "source": [
        "## 1- Extract the images paths and labels from the dataset folder"
      ],
      "metadata": {
        "id": "muM5oaMs5w_D"
      }
    },
    {
      "cell_type": "code",
      "source": [
        "from PIL import Image\n",
        "import torch\n",
        "from torchvision import transforms\n",
        "import numpy as np\n",
        "from torch.utils.data import Dataset, DataLoader, random_split\n",
        "import os"
      ],
      "metadata": {
        "id": "9y3c7r0ScJpL"
      },
      "execution_count": 8,
      "outputs": []
    },
    {
      "cell_type": "code",
      "source": [
        "imgs_path = \"/content/ArASL_Database_54K_Final\""
      ],
      "metadata": {
        "id": "SsJRLDdEQSbl"
      },
      "execution_count": 6,
      "outputs": []
    },
    {
      "cell_type": "code",
      "source": [
        "\n",
        "image_files = []\n",
        "image_labels = []\n",
        "\n",
        "for root, dirs, files in os.walk(imgs_path):\n",
        "  for file in files:\n",
        "      if file.lower().endswith('.jpg'):\n",
        "          image_files.append(os.path.join(root, file))#/content/ArASL_Database_54K_Final/ain/AIN (1).JPG\n",
        "          image_labels.append(os.path.basename(root))"
      ],
      "metadata": {
        "id": "qw4D_t58PuUT"
      },
      "execution_count": 9,
      "outputs": []
    },
    {
      "cell_type": "code",
      "source": [
        "len(image_files), len(image_labels)"
      ],
      "metadata": {
        "colab": {
          "base_uri": "https://localhost:8080/"
        },
        "id": "ohSTrQYpyAWq",
        "outputId": "0cc02019-fd96-4c7a-cdf7-e2077a48238b"
      },
      "execution_count": 10,
      "outputs": [
        {
          "output_type": "execute_result",
          "data": {
            "text/plain": [
              "(54049, 54049)"
            ]
          },
          "metadata": {},
          "execution_count": 10
        }
      ]
    },
    {
      "cell_type": "code",
      "source": [
        "image_labels[0]"
      ],
      "metadata": {
        "colab": {
          "base_uri": "https://localhost:8080/",
          "height": 35
        },
        "id": "mduVnR_byIRY",
        "outputId": "4b425ef2-e843-47b6-8a3b-1b9754e0d60f"
      },
      "execution_count": 13,
      "outputs": [
        {
          "output_type": "execute_result",
          "data": {
            "text/plain": [
              "'khaa'"
            ],
            "application/vnd.google.colaboratory.intrinsic+json": {
              "type": "string"
            }
          },
          "metadata": {},
          "execution_count": 13
        }
      ]
    },
    {
      "cell_type": "code",
      "source": [
        "LABELS = set(image_labels)"
      ],
      "metadata": {
        "id": "sBZHPI5TXgT0"
      },
      "execution_count": 14,
      "outputs": []
    },
    {
      "cell_type": "code",
      "source": [
        "len(LABELS)"
      ],
      "metadata": {
        "colab": {
          "base_uri": "https://localhost:8080/"
        },
        "id": "u-F5AO63yZhg",
        "outputId": "b5766db1-65d9-4b60-faad-3fe41a410fd4"
      },
      "execution_count": 16,
      "outputs": [
        {
          "output_type": "execute_result",
          "data": {
            "text/plain": [
              "32"
            ]
          },
          "metadata": {},
          "execution_count": 16
        }
      ]
    },
    {
      "cell_type": "code",
      "source": [
        "n_classes = len(LABELS)\n",
        "n_classes"
      ],
      "metadata": {
        "colab": {
          "base_uri": "https://localhost:8080/"
        },
        "id": "U00914N_BRhm",
        "outputId": "43cad517-8b69-40f1-a536-477493429324"
      },
      "execution_count": 17,
      "outputs": [
        {
          "output_type": "execute_result",
          "data": {
            "text/plain": [
              "32"
            ]
          },
          "metadata": {},
          "execution_count": 17
        }
      ]
    },
    {
      "cell_type": "code",
      "source": [
        "LABELS2INDX = {label: indx for indx, label in enumerate(LABELS)}\n",
        "INDX2LABELS = {indx: label for label, indx in LABELS2INDX.items()}\n",
        "lables = [LABELS2INDX[label ] for label in image_labels]"
      ],
      "metadata": {
        "id": "IjLmdvFpYTSB"
      },
      "execution_count": 18,
      "outputs": []
    },
    {
      "cell_type": "code",
      "source": [
        "image_files[0], lables[0]"
      ],
      "metadata": {
        "colab": {
          "base_uri": "https://localhost:8080/"
        },
        "id": "0c5A3btEasuq",
        "outputId": "b452b63d-f66e-4897-dfa8-8ed556fd93e8"
      },
      "execution_count": 19,
      "outputs": [
        {
          "output_type": "execute_result",
          "data": {
            "text/plain": [
              "('/content/ArASL_Database_54K_Final/khaa/KHAA (490).jpg', 19)"
            ]
          },
          "metadata": {},
          "execution_count": 19
        }
      ]
    },
    {
      "cell_type": "code",
      "source": [
        "images = []"
      ],
      "metadata": {
        "id": "I049UuhJdsDr"
      },
      "execution_count": 20,
      "outputs": []
    },
    {
      "cell_type": "code",
      "source": [
        "for img_path in image_files:\n",
        "  with Image.open(img_path) as img:\n",
        "    img = img.convert('L')\n",
        "    img = img.resize((48,48))\n",
        "    img = np.array(img)\n",
        "    img = transforms.ToTensor()(img)\n",
        "    images.append(img)"
      ],
      "metadata": {
        "id": "fMEBV3xocPpy"
      },
      "execution_count": 21,
      "outputs": []
    },
    {
      "cell_type": "code",
      "source": [
        "images[0].shape"
      ],
      "metadata": {
        "colab": {
          "base_uri": "https://localhost:8080/"
        },
        "id": "xrdLR18fda9K",
        "outputId": "757dee44-2bed-4c38-8003-e5c6aa99cc04"
      },
      "execution_count": 22,
      "outputs": [
        {
          "output_type": "execute_result",
          "data": {
            "text/plain": [
              "torch.Size([1, 48, 48])"
            ]
          },
          "metadata": {},
          "execution_count": 22
        }
      ]
    },
    {
      "cell_type": "code",
      "source": [
        "import json\n",
        "class CustomDataset(Dataset):\n",
        "\n",
        "    def __init__(self, root_dir, feature_transform=None):\n",
        "        self.root_dir = root_dir\n",
        "        self.feature_transform = feature_transform\n",
        "\n",
        "        self.image_files = []\n",
        "        self.image_labels = []\n",
        "\n",
        "        for root, dirs, files in os.walk(self.root_dir):\n",
        "            for file in files:\n",
        "                if file.lower().endswith('.jpg'):\n",
        "                    self.image_files.append(os.path.join(root, file))\n",
        "                    self.image_labels.append(os.path.basename(root))\n",
        "\n",
        "        self.LABELS2INDX = {label: indx for indx, label in enumerate(sorted(set(self.image_labels)))}\n",
        "        self.INDX2LABELS = {indx: label for label, indx in self.LABELS2INDX.items()}\n",
        "        self.labels = [self.LABELS2INDX[label] for label in self.image_labels]\n",
        "\n",
        "        label_mappings = {\n",
        "        \"LABELS2INDX\": LABELS2INDX,\n",
        "        \"INDX2LABELS\": INDX2LABELS\n",
        "          }\n",
        "\n",
        "        with open(\"label_mappings.json\", \"w\", encoding=\"utf-8\") as f:\n",
        "            json.dump(label_mappings, f, ensure_ascii=False)\n",
        "\n",
        "    def __len__(self):\n",
        "        return len(self.image_files)\n",
        "\n",
        "    def __getitem__(self, idx):\n",
        "        img_path = self.image_files[idx]\n",
        "        label = self.labels[idx]\n",
        "\n",
        "        img = Image.open(img_path).convert(\"L\")  # Ensure image is loaded correctly\n",
        "\n",
        "        if self.feature_transform:\n",
        "            img = self.feature_transform(img)\n",
        "\n",
        "        label = torch.tensor(label)\n",
        "\n",
        "        return img, label"
      ],
      "metadata": {
        "id": "CPTc9jzSfJTx"
      },
      "execution_count": 29,
      "outputs": []
    },
    {
      "cell_type": "code",
      "source": [],
      "metadata": {
        "id": "_7-8rYse0ccv"
      },
      "execution_count": null,
      "outputs": []
    },
    {
      "cell_type": "code",
      "source": [
        "fetaure_transform = transforms.Compose([\n",
        "    transforms.Grayscale(num_output_channels=1),  # Convert to grayscale\n",
        "    transforms.Resize((48, 48)),                   # Resize image\n",
        "    transforms.ToTensor()                          # Convert to tensor (optional)\n",
        "])"
      ],
      "metadata": {
        "id": "TR5QwlHmbRZp"
      },
      "execution_count": 30,
      "outputs": []
    },
    {
      "cell_type": "code",
      "source": [
        "dataset = CustomDataset(imgs_path,fetaure_transform)"
      ],
      "metadata": {
        "id": "qIoewruUjbmo"
      },
      "execution_count": 31,
      "outputs": []
    },
    {
      "cell_type": "code",
      "source": [
        "dataset[0][2]"
      ],
      "metadata": {
        "colab": {
          "base_uri": "https://localhost:8080/",
          "height": 141
        },
        "id": "dhEsGevXjtqV",
        "outputId": "89552aee-de2e-4fe0-9f6e-1d8d3ffe06d8"
      },
      "execution_count": 34,
      "outputs": [
        {
          "output_type": "error",
          "ename": "IndexError",
          "evalue": "tuple index out of range",
          "traceback": [
            "\u001b[0;31m---------------------------------------------------------------------------\u001b[0m",
            "\u001b[0;31mIndexError\u001b[0m                                Traceback (most recent call last)",
            "\u001b[0;32m/tmp/ipython-input-34-3358553758.py\u001b[0m in \u001b[0;36m<cell line: 0>\u001b[0;34m()\u001b[0m\n\u001b[0;32m----> 1\u001b[0;31m \u001b[0mdataset\u001b[0m\u001b[0;34m[\u001b[0m\u001b[0;36m0\u001b[0m\u001b[0;34m]\u001b[0m\u001b[0;34m[\u001b[0m\u001b[0;36m2\u001b[0m\u001b[0;34m]\u001b[0m\u001b[0;34m\u001b[0m\u001b[0;34m\u001b[0m\u001b[0m\n\u001b[0m",
            "\u001b[0;31mIndexError\u001b[0m: tuple index out of range"
          ]
        }
      ]
    },
    {
      "cell_type": "markdown",
      "source": [
        "## 2- Reading the images paths and labels from the csv file"
      ],
      "metadata": {
        "id": "VyG20vLJ5mOz"
      }
    },
    {
      "cell_type": "code",
      "source": [
        "import pandas as pd\n",
        "\n",
        "csv_path = \"/content/arasl_dataset/ArSL_Data_Labels.csv\"\n",
        "df = pd.read_csv(csv_path)\n",
        "df.head()"
      ],
      "metadata": {
        "colab": {
          "base_uri": "https://localhost:8080/",
          "height": 206
        },
        "id": "IZ-ftyrx5lKj",
        "outputId": "75b1f247-0670-483b-e9e5-eddd727e8200"
      },
      "execution_count": 35,
      "outputs": [
        {
          "output_type": "execute_result",
          "data": {
            "text/plain": [
              "   #       File_Name Class\n",
              "0  1     AIN (1).JPG   ain\n",
              "1  2    AIN (10).JPG   ain\n",
              "2  3   AIN (100).jpg   ain\n",
              "3  4  AIN (1000).JPG   ain\n",
              "4  5  AIN (1001).JPG   ain"
            ],
            "text/html": [
              "\n",
              "  <div id=\"df-3b75608c-7d1b-4813-9805-542a08c831c2\" class=\"colab-df-container\">\n",
              "    <div>\n",
              "<style scoped>\n",
              "    .dataframe tbody tr th:only-of-type {\n",
              "        vertical-align: middle;\n",
              "    }\n",
              "\n",
              "    .dataframe tbody tr th {\n",
              "        vertical-align: top;\n",
              "    }\n",
              "\n",
              "    .dataframe thead th {\n",
              "        text-align: right;\n",
              "    }\n",
              "</style>\n",
              "<table border=\"1\" class=\"dataframe\">\n",
              "  <thead>\n",
              "    <tr style=\"text-align: right;\">\n",
              "      <th></th>\n",
              "      <th>#</th>\n",
              "      <th>File_Name</th>\n",
              "      <th>Class</th>\n",
              "    </tr>\n",
              "  </thead>\n",
              "  <tbody>\n",
              "    <tr>\n",
              "      <th>0</th>\n",
              "      <td>1</td>\n",
              "      <td>AIN (1).JPG</td>\n",
              "      <td>ain</td>\n",
              "    </tr>\n",
              "    <tr>\n",
              "      <th>1</th>\n",
              "      <td>2</td>\n",
              "      <td>AIN (10).JPG</td>\n",
              "      <td>ain</td>\n",
              "    </tr>\n",
              "    <tr>\n",
              "      <th>2</th>\n",
              "      <td>3</td>\n",
              "      <td>AIN (100).jpg</td>\n",
              "      <td>ain</td>\n",
              "    </tr>\n",
              "    <tr>\n",
              "      <th>3</th>\n",
              "      <td>4</td>\n",
              "      <td>AIN (1000).JPG</td>\n",
              "      <td>ain</td>\n",
              "    </tr>\n",
              "    <tr>\n",
              "      <th>4</th>\n",
              "      <td>5</td>\n",
              "      <td>AIN (1001).JPG</td>\n",
              "      <td>ain</td>\n",
              "    </tr>\n",
              "  </tbody>\n",
              "</table>\n",
              "</div>\n",
              "    <div class=\"colab-df-buttons\">\n",
              "\n",
              "  <div class=\"colab-df-container\">\n",
              "    <button class=\"colab-df-convert\" onclick=\"convertToInteractive('df-3b75608c-7d1b-4813-9805-542a08c831c2')\"\n",
              "            title=\"Convert this dataframe to an interactive table.\"\n",
              "            style=\"display:none;\">\n",
              "\n",
              "  <svg xmlns=\"http://www.w3.org/2000/svg\" height=\"24px\" viewBox=\"0 -960 960 960\">\n",
              "    <path d=\"M120-120v-720h720v720H120Zm60-500h600v-160H180v160Zm220 220h160v-160H400v160Zm0 220h160v-160H400v160ZM180-400h160v-160H180v160Zm440 0h160v-160H620v160ZM180-180h160v-160H180v160Zm440 0h160v-160H620v160Z\"/>\n",
              "  </svg>\n",
              "    </button>\n",
              "\n",
              "  <style>\n",
              "    .colab-df-container {\n",
              "      display:flex;\n",
              "      gap: 12px;\n",
              "    }\n",
              "\n",
              "    .colab-df-convert {\n",
              "      background-color: #E8F0FE;\n",
              "      border: none;\n",
              "      border-radius: 50%;\n",
              "      cursor: pointer;\n",
              "      display: none;\n",
              "      fill: #1967D2;\n",
              "      height: 32px;\n",
              "      padding: 0 0 0 0;\n",
              "      width: 32px;\n",
              "    }\n",
              "\n",
              "    .colab-df-convert:hover {\n",
              "      background-color: #E2EBFA;\n",
              "      box-shadow: 0px 1px 2px rgba(60, 64, 67, 0.3), 0px 1px 3px 1px rgba(60, 64, 67, 0.15);\n",
              "      fill: #174EA6;\n",
              "    }\n",
              "\n",
              "    .colab-df-buttons div {\n",
              "      margin-bottom: 4px;\n",
              "    }\n",
              "\n",
              "    [theme=dark] .colab-df-convert {\n",
              "      background-color: #3B4455;\n",
              "      fill: #D2E3FC;\n",
              "    }\n",
              "\n",
              "    [theme=dark] .colab-df-convert:hover {\n",
              "      background-color: #434B5C;\n",
              "      box-shadow: 0px 1px 3px 1px rgba(0, 0, 0, 0.15);\n",
              "      filter: drop-shadow(0px 1px 2px rgba(0, 0, 0, 0.3));\n",
              "      fill: #FFFFFF;\n",
              "    }\n",
              "  </style>\n",
              "\n",
              "    <script>\n",
              "      const buttonEl =\n",
              "        document.querySelector('#df-3b75608c-7d1b-4813-9805-542a08c831c2 button.colab-df-convert');\n",
              "      buttonEl.style.display =\n",
              "        google.colab.kernel.accessAllowed ? 'block' : 'none';\n",
              "\n",
              "      async function convertToInteractive(key) {\n",
              "        const element = document.querySelector('#df-3b75608c-7d1b-4813-9805-542a08c831c2');\n",
              "        const dataTable =\n",
              "          await google.colab.kernel.invokeFunction('convertToInteractive',\n",
              "                                                    [key], {});\n",
              "        if (!dataTable) return;\n",
              "\n",
              "        const docLinkHtml = 'Like what you see? Visit the ' +\n",
              "          '<a target=\"_blank\" href=https://colab.research.google.com/notebooks/data_table.ipynb>data table notebook</a>'\n",
              "          + ' to learn more about interactive tables.';\n",
              "        element.innerHTML = '';\n",
              "        dataTable['output_type'] = 'display_data';\n",
              "        await google.colab.output.renderOutput(dataTable, element);\n",
              "        const docLink = document.createElement('div');\n",
              "        docLink.innerHTML = docLinkHtml;\n",
              "        element.appendChild(docLink);\n",
              "      }\n",
              "    </script>\n",
              "  </div>\n",
              "\n",
              "\n",
              "    <div id=\"df-ef951a07-675b-46af-8748-42bb323b581c\">\n",
              "      <button class=\"colab-df-quickchart\" onclick=\"quickchart('df-ef951a07-675b-46af-8748-42bb323b581c')\"\n",
              "                title=\"Suggest charts\"\n",
              "                style=\"display:none;\">\n",
              "\n",
              "<svg xmlns=\"http://www.w3.org/2000/svg\" height=\"24px\"viewBox=\"0 0 24 24\"\n",
              "     width=\"24px\">\n",
              "    <g>\n",
              "        <path d=\"M19 3H5c-1.1 0-2 .9-2 2v14c0 1.1.9 2 2 2h14c1.1 0 2-.9 2-2V5c0-1.1-.9-2-2-2zM9 17H7v-7h2v7zm4 0h-2V7h2v10zm4 0h-2v-4h2v4z\"/>\n",
              "    </g>\n",
              "</svg>\n",
              "      </button>\n",
              "\n",
              "<style>\n",
              "  .colab-df-quickchart {\n",
              "      --bg-color: #E8F0FE;\n",
              "      --fill-color: #1967D2;\n",
              "      --hover-bg-color: #E2EBFA;\n",
              "      --hover-fill-color: #174EA6;\n",
              "      --disabled-fill-color: #AAA;\n",
              "      --disabled-bg-color: #DDD;\n",
              "  }\n",
              "\n",
              "  [theme=dark] .colab-df-quickchart {\n",
              "      --bg-color: #3B4455;\n",
              "      --fill-color: #D2E3FC;\n",
              "      --hover-bg-color: #434B5C;\n",
              "      --hover-fill-color: #FFFFFF;\n",
              "      --disabled-bg-color: #3B4455;\n",
              "      --disabled-fill-color: #666;\n",
              "  }\n",
              "\n",
              "  .colab-df-quickchart {\n",
              "    background-color: var(--bg-color);\n",
              "    border: none;\n",
              "    border-radius: 50%;\n",
              "    cursor: pointer;\n",
              "    display: none;\n",
              "    fill: var(--fill-color);\n",
              "    height: 32px;\n",
              "    padding: 0;\n",
              "    width: 32px;\n",
              "  }\n",
              "\n",
              "  .colab-df-quickchart:hover {\n",
              "    background-color: var(--hover-bg-color);\n",
              "    box-shadow: 0 1px 2px rgba(60, 64, 67, 0.3), 0 1px 3px 1px rgba(60, 64, 67, 0.15);\n",
              "    fill: var(--button-hover-fill-color);\n",
              "  }\n",
              "\n",
              "  .colab-df-quickchart-complete:disabled,\n",
              "  .colab-df-quickchart-complete:disabled:hover {\n",
              "    background-color: var(--disabled-bg-color);\n",
              "    fill: var(--disabled-fill-color);\n",
              "    box-shadow: none;\n",
              "  }\n",
              "\n",
              "  .colab-df-spinner {\n",
              "    border: 2px solid var(--fill-color);\n",
              "    border-color: transparent;\n",
              "    border-bottom-color: var(--fill-color);\n",
              "    animation:\n",
              "      spin 1s steps(1) infinite;\n",
              "  }\n",
              "\n",
              "  @keyframes spin {\n",
              "    0% {\n",
              "      border-color: transparent;\n",
              "      border-bottom-color: var(--fill-color);\n",
              "      border-left-color: var(--fill-color);\n",
              "    }\n",
              "    20% {\n",
              "      border-color: transparent;\n",
              "      border-left-color: var(--fill-color);\n",
              "      border-top-color: var(--fill-color);\n",
              "    }\n",
              "    30% {\n",
              "      border-color: transparent;\n",
              "      border-left-color: var(--fill-color);\n",
              "      border-top-color: var(--fill-color);\n",
              "      border-right-color: var(--fill-color);\n",
              "    }\n",
              "    40% {\n",
              "      border-color: transparent;\n",
              "      border-right-color: var(--fill-color);\n",
              "      border-top-color: var(--fill-color);\n",
              "    }\n",
              "    60% {\n",
              "      border-color: transparent;\n",
              "      border-right-color: var(--fill-color);\n",
              "    }\n",
              "    80% {\n",
              "      border-color: transparent;\n",
              "      border-right-color: var(--fill-color);\n",
              "      border-bottom-color: var(--fill-color);\n",
              "    }\n",
              "    90% {\n",
              "      border-color: transparent;\n",
              "      border-bottom-color: var(--fill-color);\n",
              "    }\n",
              "  }\n",
              "</style>\n",
              "\n",
              "      <script>\n",
              "        async function quickchart(key) {\n",
              "          const quickchartButtonEl =\n",
              "            document.querySelector('#' + key + ' button');\n",
              "          quickchartButtonEl.disabled = true;  // To prevent multiple clicks.\n",
              "          quickchartButtonEl.classList.add('colab-df-spinner');\n",
              "          try {\n",
              "            const charts = await google.colab.kernel.invokeFunction(\n",
              "                'suggestCharts', [key], {});\n",
              "          } catch (error) {\n",
              "            console.error('Error during call to suggestCharts:', error);\n",
              "          }\n",
              "          quickchartButtonEl.classList.remove('colab-df-spinner');\n",
              "          quickchartButtonEl.classList.add('colab-df-quickchart-complete');\n",
              "        }\n",
              "        (() => {\n",
              "          let quickchartButtonEl =\n",
              "            document.querySelector('#df-ef951a07-675b-46af-8748-42bb323b581c button');\n",
              "          quickchartButtonEl.style.display =\n",
              "            google.colab.kernel.accessAllowed ? 'block' : 'none';\n",
              "        })();\n",
              "      </script>\n",
              "    </div>\n",
              "\n",
              "    </div>\n",
              "  </div>\n"
            ],
            "application/vnd.google.colaboratory.intrinsic+json": {
              "type": "dataframe",
              "variable_name": "df",
              "summary": "{\n  \"name\": \"df\",\n  \"rows\": 54049,\n  \"fields\": [\n    {\n      \"column\": \"#\",\n      \"properties\": {\n        \"dtype\": \"number\",\n        \"std\": 15602,\n        \"min\": 1,\n        \"max\": 54049,\n        \"num_unique_values\": 54049,\n        \"samples\": [\n          17449,\n          16774,\n          30752\n        ],\n        \"semantic_type\": \"\",\n        \"description\": \"\"\n      }\n    },\n    {\n      \"column\": \"File_Name\",\n      \"properties\": {\n        \"dtype\": \"string\",\n        \"num_unique_values\": 54049,\n        \"samples\": [\n          \"GHAIN (877).JPG\",\n          \"GHAIN (269).jpg\",\n          \"MEEM (795).JPG\"\n        ],\n        \"semantic_type\": \"\",\n        \"description\": \"\"\n      }\n    },\n    {\n      \"column\": \"Class\",\n      \"properties\": {\n        \"dtype\": \"category\",\n        \"num_unique_values\": 32,\n        \"samples\": [\n          \"ya\",\n          \"la\",\n          \"taa\"\n        ],\n        \"semantic_type\": \"\",\n        \"description\": \"\"\n      }\n    }\n  ]\n}"
            }
          },
          "metadata": {},
          "execution_count": 35
        }
      ]
    },
    {
      "cell_type": "code",
      "source": [
        "class CustomDatasetCSV(Dataset):\n",
        "\n",
        "  def __init__(self,csv_file_path,root_dir, feture_transform = None):\n",
        "\n",
        "    self.root_dir = root_dir\n",
        "    self.feture_transform = feture_transform\n",
        "    self.df = pd.read_csv(csv_file_path)\n",
        "    self.image_files = self.df['File_Name']\n",
        "    self.image_labels = self.df['Class']\n",
        "\n",
        "\n",
        "    self.LABELS2INDX = {label: indx for indx, label in enumerate(set(self.image_labels))}\n",
        "    self.INDX2LABELS = {indx: label for label, indx in self.LABELS2INDX.items()}\n",
        "    self.lables = [self.LABELS2INDX[label ] for label in self.image_labels]\n",
        "\n",
        "  def __len__(self):\n",
        "    return len(image_files)\n",
        "\n",
        "  def __getitem__(self, idx):\n",
        "    img_path = self.image_files[idx]\n",
        "    label = self.lables[idx]\n",
        "\n",
        "    with Image.open(os.path.join(os.path.join(self.root_dir, self.image_labels[idx]), img_path)) as img:\n",
        "\n",
        "      if self.feture_transform:\n",
        "        img = self.feture_transform(img)\n",
        "      label = torch.tensor(label)\n",
        "\n",
        "    return img, label\n"
      ],
      "metadata": {
        "id": "SYH66H5QxMiQ"
      },
      "execution_count": 36,
      "outputs": []
    },
    {
      "cell_type": "code",
      "source": [
        "dataset = CustomDatasetCSV(csv_path,imgs_path,fetaure_transform)"
      ],
      "metadata": {
        "id": "Xkv-X0Ieyi9P"
      },
      "execution_count": 42,
      "outputs": []
    },
    {
      "cell_type": "code",
      "source": [
        "dataset[5000][1]"
      ],
      "metadata": {
        "colab": {
          "base_uri": "https://localhost:8080/"
        },
        "id": "vX4tLGAQyuJB",
        "outputId": "768ce0af-bee4-42ff-c485-87f6516f8b08"
      },
      "execution_count": 43,
      "outputs": [
        {
          "output_type": "execute_result",
          "data": {
            "text/plain": [
              "tensor(16)"
            ]
          },
          "metadata": {},
          "execution_count": 43
        }
      ]
    },
    {
      "cell_type": "markdown",
      "source": [
        "## Splitting the data"
      ],
      "metadata": {
        "id": "3j3m73tX7xaC"
      }
    },
    {
      "cell_type": "code",
      "source": [
        "train_s = int(0.8* dataset.__len__())\n",
        "test_s = dataset.__len__() - train_s\n",
        "train_s, test_s"
      ],
      "metadata": {
        "colab": {
          "base_uri": "https://localhost:8080/"
        },
        "id": "aLG-OG2roAxR",
        "outputId": "c0ed1447-b398-4f76-826e-64bc21641abe"
      },
      "execution_count": 38,
      "outputs": [
        {
          "output_type": "execute_result",
          "data": {
            "text/plain": [
              "(43239, 10810)"
            ]
          },
          "metadata": {},
          "execution_count": 38
        }
      ]
    },
    {
      "cell_type": "code",
      "source": [
        "val_s = int(0.2*train_s)\n",
        "train_size = train_s - val_s"
      ],
      "metadata": {
        "id": "fusB97Wk77e1"
      },
      "execution_count": 39,
      "outputs": []
    },
    {
      "cell_type": "code",
      "source": [
        "train_set, test_set = random_split(dataset, [train_s, test_s])"
      ],
      "metadata": {
        "id": "CKWknNRX7wNu"
      },
      "execution_count": 40,
      "outputs": []
    },
    {
      "cell_type": "code",
      "source": [
        "train_set, val_set = random_split(train_set, [train_size, val_s])"
      ],
      "metadata": {
        "id": "MrXAkaZC8WqD"
      },
      "execution_count": 41,
      "outputs": []
    },
    {
      "cell_type": "code",
      "source": [
        "train_size,val_s, test_s"
      ],
      "metadata": {
        "colab": {
          "base_uri": "https://localhost:8080/"
        },
        "id": "ZcgDCtQb9rjA",
        "outputId": "5f7bb4b7-13ab-42be-8128-d14dbd965939"
      },
      "execution_count": 42,
      "outputs": [
        {
          "output_type": "execute_result",
          "data": {
            "text/plain": [
              "(34592, 8647, 10810)"
            ]
          },
          "metadata": {},
          "execution_count": 42
        }
      ]
    },
    {
      "cell_type": "markdown",
      "source": [
        "## Data Loader"
      ],
      "metadata": {
        "id": "eTjVUQgR6g9h"
      }
    },
    {
      "cell_type": "markdown",
      "source": [
        "![image.png](data:image/png;base64,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)"
      ],
      "metadata": {
        "id": "YyqqQrNQ6727"
      }
    },
    {
      "cell_type": "code",
      "source": [
        "batch_size = 64 # To group each k samples together.\n",
        "\n",
        "# DataLoaders simplify the job of grouping the samples into batches.\n",
        "train_loader = DataLoader(train_set, batch_size=batch_size, shuffle=True)\n",
        "val_loader = DataLoader(val_set, batch_size=batch_size, shuffle=False)  # no need to shuffle validation data\n",
        "test_loader = DataLoader(test_set, batch_size=batch_size, shuffle=False)  # no need to shuffle test data"
      ],
      "metadata": {
        "id": "t6vG5-nH6gOi"
      },
      "execution_count": 49,
      "outputs": []
    },
    {
      "cell_type": "markdown",
      "source": [
        "## Train the data in a CNN model"
      ],
      "metadata": {
        "id": "QHbnacDpAgOQ"
      }
    },
    {
      "cell_type": "code",
      "source": [
        "import torch.nn as nn\n",
        "import torch.nn.functional as F\n",
        "import torch\n",
        "import torch.optim as optim"
      ],
      "metadata": {
        "id": "GCEADKUaAp2E"
      },
      "execution_count": 50,
      "outputs": []
    },
    {
      "cell_type": "code",
      "source": [
        "class ArabicSignCNN(nn.Module):\n",
        "    def __init__(self, num_classes):\n",
        "        super(ArabicSignCNN, self).__init__()\n",
        "        self.conv1 = nn.Conv2d(1, 32, kernel_size=3, padding=1)\n",
        "        self.conv2 = nn.Conv2d(32, 64, kernel_size=3, padding=1)\n",
        "        self.pool = nn.MaxPool2d(2, 2)\n",
        "        self.fc1 = nn.Linear(64 * 12 * 12, 128)\n",
        "        self.fc2 = nn.Linear(128, num_classes)\n",
        "        self.dropout = nn.Dropout(0.25)\n",
        "\n",
        "    def forward(self, x):\n",
        "        x = self.pool(F.relu(self.conv1(x)))  # 48x48 → 24x24\n",
        "        x = self.pool(F.relu(self.conv2(x)))  # 24x24 → 12x12\n",
        "        x = x.view(-1, 64 * 12 * 12)\n",
        "        x = self.dropout(F.relu(self.fc1(x)))\n",
        "        x = self.fc2(x)\n",
        "        return x"
      ],
      "metadata": {
        "id": "2Ywbu7xIAn4W"
      },
      "execution_count": 51,
      "outputs": []
    },
    {
      "cell_type": "code",
      "source": [
        "\n",
        "model = ArabicSignCNN(n_classes)\n",
        "criterion = nn.CrossEntropyLoss()\n",
        "optimizer = optim.Adam(model.parameters(), lr=0.001)\n",
        "\n",
        "device = torch.device(\"cuda\" if torch.cuda.is_available() else \"cpu\")\n",
        "model.to(device)\n",
        "\n",
        "# Training loop\n",
        "epochs = 10"
      ],
      "metadata": {
        "id": "ysVdlw2DAue8"
      },
      "execution_count": 52,
      "outputs": []
    },
    {
      "cell_type": "code",
      "source": [
        "best_val_loss = float('inf')  # For saving the best model\n",
        "\n",
        "for epoch in range(epochs):\n",
        "    model.train()\n",
        "    train_loss = 0.0\n",
        "\n",
        "    for images, labels in train_loader:\n",
        "        images, labels = images.to(device), labels.to(device)\n",
        "\n",
        "        optimizer.zero_grad()\n",
        "        outputs = model(images)\n",
        "        loss = criterion(outputs, labels)\n",
        "        loss.backward()\n",
        "        optimizer.step()\n",
        "\n",
        "        train_loss += loss.item()\n",
        "\n",
        "    avg_train_loss = train_loss / len(train_loader)\n",
        "\n",
        "    # Validation Phase\n",
        "    model.eval()\n",
        "    val_loss = 0.0\n",
        "    correct = 0\n",
        "    total = 0\n",
        "\n",
        "    with torch.no_grad():\n",
        "        for images, labels in val_loader:\n",
        "            images, labels = images.to(device), labels.to(device)\n",
        "            outputs = model(images)\n",
        "            loss = criterion(outputs, labels)\n",
        "            val_loss += loss.item()\n",
        "\n",
        "            _, predicted = torch.max(outputs.data, 1)\n",
        "            total += labels.size(0)\n",
        "            correct += (predicted == labels).sum().item()\n",
        "\n",
        "    avg_val_loss = val_loss / len(val_loader)\n",
        "    val_accuracy = 100 * correct / total\n",
        "\n",
        "    print(f\"Epoch {epoch+1}/{epochs}\")\n",
        "    print(f\"Train Loss: {avg_train_loss:.4f} | Val Loss: {avg_val_loss:.4f} | Val Acc: {val_accuracy:.2f}%\")\n",
        "\n",
        "    # Save best model\n",
        "    if avg_val_loss < best_val_loss:\n",
        "        best_val_loss = avg_val_loss\n",
        "        torch.save(model.state_dict(), \"best_arabic_sign_model.pth\")\n",
        "        print(\"Saved Best Model\")"
      ],
      "metadata": {
        "colab": {
          "base_uri": "https://localhost:8080/"
        },
        "id": "vWPfgEcxA-S6",
        "outputId": "10fe0450-17b9-47f7-d6ca-de507ed5755a"
      },
      "execution_count": 53,
      "outputs": [
        {
          "output_type": "stream",
          "name": "stdout",
          "text": [
            "Epoch 1/10\n",
            "Train Loss: 2.5516 | Val Loss: 1.4168 | Val Acc: 60.37%\n",
            "Saved Best Model ✅\n",
            "Epoch 2/10\n",
            "Train Loss: 1.3269 | Val Loss: 0.8293 | Val Acc: 76.60%\n",
            "Saved Best Model ✅\n",
            "Epoch 3/10\n",
            "Train Loss: 0.9669 | Val Loss: 0.6120 | Val Acc: 83.03%\n",
            "Saved Best Model ✅\n",
            "Epoch 4/10\n",
            "Train Loss: 0.7871 | Val Loss: 0.4905 | Val Acc: 87.02%\n",
            "Saved Best Model ✅\n",
            "Epoch 5/10\n",
            "Train Loss: 0.6699 | Val Loss: 0.4284 | Val Acc: 88.97%\n",
            "Saved Best Model ✅\n",
            "Epoch 6/10\n",
            "Train Loss: 0.5965 | Val Loss: 0.3925 | Val Acc: 89.79%\n",
            "Saved Best Model ✅\n",
            "Epoch 7/10\n",
            "Train Loss: 0.5452 | Val Loss: 0.3594 | Val Acc: 90.54%\n",
            "Saved Best Model ✅\n",
            "Epoch 8/10\n",
            "Train Loss: 0.4990 | Val Loss: 0.3236 | Val Acc: 91.60%\n",
            "Saved Best Model ✅\n",
            "Epoch 9/10\n",
            "Train Loss: 0.4622 | Val Loss: 0.3009 | Val Acc: 92.38%\n",
            "Saved Best Model ✅\n",
            "Epoch 10/10\n",
            "Train Loss: 0.4355 | Val Loss: 0.2950 | Val Acc: 92.43%\n",
            "Saved Best Model ✅\n"
          ]
        }
      ]
    },
    {
      "cell_type": "markdown",
      "source": [
        "## Evaluation"
      ],
      "metadata": {
        "id": "s0YsZGB9HP0h"
      }
    },
    {
      "cell_type": "code",
      "source": [
        "correct = 0\n",
        "total = 0\n",
        "model.eval()\n",
        "with torch.no_grad():\n",
        "    for images, labels in test_loader:\n",
        "        images, labels = images.to(device), labels.to(device)\n",
        "        outputs = model(images)\n",
        "        _, predicted = torch.max(outputs.data, 1)\n",
        "        total += labels.size(0)\n",
        "        correct += (predicted == labels).sum().item()\n",
        "\n",
        "print(f\"Test Accuracy: {100 * correct / total:.2f}%\")"
      ],
      "metadata": {
        "colab": {
          "base_uri": "https://localhost:8080/"
        },
        "id": "mrBgIE5dA9tW",
        "outputId": "3782ced7-667f-4fd6-85fd-e54120194019"
      },
      "execution_count": 54,
      "outputs": [
        {
          "output_type": "stream",
          "name": "stdout",
          "text": [
            "Test Accuracy: 92.09%\n"
          ]
        }
      ]
    },
    {
      "cell_type": "markdown",
      "source": [
        "## Save the model"
      ],
      "metadata": {
        "id": "sdPbwC5IH8RI"
      }
    },
    {
      "cell_type": "code",
      "source": [
        "torch.save(model.state_dict(), \"arabic_sign_model.pth\")"
      ],
      "metadata": {
        "id": "ODxjpBYiH_IV"
      },
      "execution_count": 55,
      "outputs": []
    }
  ]
}