{
 "cells": [
  {
   "cell_type": "markdown",
   "metadata": {},
   "source": [
    "![image.png](https://i.imgur.com/a3uAqnb.png)"
   ]
  },
  {
   "cell_type": "markdown",
   "metadata": {},
   "source": [
    "# 🎯 Introduction\n",
    "\n",
    "In this lab, we explore how **attention mechanisms** can be used to improve performance and interpretability in natural language processing (NLP), specifically for **sentiment analysis** on the IMDb movie review dataset.\n",
    "\n",
    "You'll build a lightweight yet powerful neural model that combines:\n",
    "\n",
    "- 🔤 **Tokenization and text preprocessing**\n",
    "- 🧱 **Word embeddings** and a **GRU encoder**\n",
    "- 🎯 **Dot-product attention** using PyTorch's `MultiheadAttention`\n",
    "- 📊 **Visual explanations** that highlight which words influenced the model's decision\n",
    "\n",
    "By the end of this lab, you will:\n",
    "\n",
    "✅ Train a binary sentiment classifier using attention  \n",
    "✅ Interpret the model’s predictions using attention heatmaps and bar plots  \n",
    "✅ Interactively analyze your own sentences with real-time visualization  \n"
   ]
  },
  {
   "cell_type": "markdown",
   "metadata": {},
   "source": [
    "## 📦 Cell 1: Setup and Environment Initialization\n",
    "- `datasets` and `tqdm` are installed (PyTorch is already available in Colab).\n",
    "- Loads essential libraries: PyTorch, data processing, visualization, and text utilities.\n",
    "- Sets random seeds for reproducibility (`torch`, `random`, `numpy`).\n",
    "- Determines the computation device: **GPU if available**, otherwise CPU.\n"
   ]
  },
  {
   "cell_type": "code",
   "execution_count": 14,
   "metadata": {
    "colab": {
     "base_uri": "https://localhost:8080/"
    },
    "execution": {
     "iopub.execute_input": "2025-07-22T07:38:50.851595Z",
     "iopub.status.busy": "2025-07-22T07:38:50.851156Z",
     "iopub.status.idle": "2025-07-22T07:38:54.249311Z",
     "shell.execute_reply": "2025-07-22T07:38:54.248517Z",
     "shell.execute_reply.started": "2025-07-22T07:38:50.851571Z"
    },
    "id": "7SDKT-ZTllbR",
    "outputId": "0d8964b2-0f95-424d-fead-1ce58df22f95",
    "trusted": true
   },
   "outputs": [
    {
     "name": "stdout",
     "output_type": "stream",
     "text": [
      "Running on: cuda\n"
     ]
    }
   ],
   "source": [
    "# Install lightweight deps (datasets) — PyTorch is pre‑installed in Colab\n",
    "!pip -q install --upgrade datasets tqdm\n",
    "\n",
    "import torch\n",
    "import torch.nn as nn\n",
    "from torch.utils.data import DataLoader, Dataset\n",
    "from datasets import load_dataset\n",
    "import matplotlib.pyplot as plt\n",
    "import numpy as np\n",
    "from tqdm.auto import tqdm\n",
    "import html, re, string, random\n",
    "from collections import Counter\n",
    "import matplotlib\n",
    "from IPython.display import HTML, display\n",
    "import html\n",
    "SEED = 42\n",
    "torch.manual_seed(SEED); random.seed(SEED); np.random.seed(SEED)\n",
    "\n",
    "DEVICE = torch.device(\"cuda\" if torch.cuda.is_available() else \"cpu\")\n",
    "print(\"Running on:\", DEVICE)\n"
   ]
  },
  {
   "cell_type": "markdown",
   "metadata": {},
   "source": [
    "## 📁 Cell 2: Load IMDb Dataset\n",
    "### This cell loads the IMDb sentiment classification dataset using Hugging Face's `datasets` library.\n",
    "\n",
    "* Retrieves the `train` and `test` splits.\n",
    "* Prints a sample review and its corresponding binary label (`0 = negative`, `1 = positive`).\n"
   ]
  },
  {
   "cell_type": "code",
   "execution_count": 15,
   "metadata": {
    "colab": {
     "base_uri": "https://localhost:8080/"
    },
    "execution": {
     "iopub.execute_input": "2025-07-22T07:38:54.251020Z",
     "iopub.status.busy": "2025-07-22T07:38:54.250808Z",
     "iopub.status.idle": "2025-07-22T07:38:55.634971Z",
     "shell.execute_reply": "2025-07-22T07:38:55.634197Z",
     "shell.execute_reply.started": "2025-07-22T07:38:54.251000Z"
    },
    "id": "X0v6nfx-o4PD",
    "outputId": "aadab206-a781-4a7a-dc37-97db8de1bd6a",
    "trusted": true
   },
   "outputs": [
    {
     "name": "stdout",
     "output_type": "stream",
     "text": [
      "Sample review: I rented I AM CURIOUS-YELLOW from my video store because of all the controversy that surrounded it when it was first released in 1967. I also heard that at first it was seized by U.S. customs if it ever tried to enter this country, therefore being a fan of films considered \"controversial\" I really h …\n",
      "Label: 0\n"
     ]
    }
   ],
   "source": [
    "imdb = load_dataset(\"imdb\")\n",
    "train_raw = imdb[\"train\"]\n",
    "test_raw  = imdb[\"test\"]\n",
    "\n",
    "print(\"Sample review:\", train_raw[0][\"text\"][:300], \"…\")\n",
    "print(\"Label:\", train_raw[0][\"label\"])"
   ]
  },
  {
   "cell_type": "markdown",
   "metadata": {
    "id": "pPb3BuMOiWAm"
   },
   "source": [
    "## 🧹 Cell 3: Text Cleaning & Tokenization\n",
    "\n",
    "### Defines a custom tokenization function for cleaning text:\n",
    "\n",
    "- Removes HTML tags, URLs, and punctuation.\n",
    "- Converts to lowercase and splits into tokens.\n",
    "- Optionally removes **stop words** like \"the\", \"is\", \"we\", etc.\n",
    "- Defines `<PAD>` and `<UNK>` tokens for padding and unknown words.\n",
    "\n"
   ]
  },
  {
   "cell_type": "code",
   "execution_count": 16,
   "metadata": {
    "execution": {
     "iopub.execute_input": "2025-07-22T07:38:55.636641Z",
     "iopub.status.busy": "2025-07-22T07:38:55.635835Z",
     "iopub.status.idle": "2025-07-22T07:38:55.642695Z",
     "shell.execute_reply": "2025-07-22T07:38:55.642060Z",
     "shell.execute_reply.started": "2025-07-22T07:38:55.636620Z"
    },
    "id": "4urGT3f-iU2U",
    "trusted": true
   },
   "outputs": [],
   "source": [
    "STOP_WORDS = {\n",
    "    \"the\",\"a\",\"an\",\"and\",\"or\",\"but\",\"if\",\"in\",\"on\",\"at\",\"to\",\"of\",\n",
    "    \"for\",\"with\",\"by\",\"as\",\"is\",\"was\",\"are\",\"were\",\"be\",\"been\",\"being\",\n",
    "    \"it\",\"its\",\"this\",\"that\",\"these\",\"those\",\"so\",\"very\",\"i\",\"me\",\"my\",\n",
    "    \"you\",\"your\",\"he\",\"she\",\"they\",\"them\",\"we\",\"us\"\n",
    "}\n",
    "\n",
    "PAD_TOKEN = \"<PAD>\"\n",
    "UNK_TOKEN = \"<UNK>\"\n",
    "\n",
    "punct_pat     = f\"[{re.escape(string.punctuation)}]\"\n",
    "url_pat       = r\"https?://\\S+|www\\.\\S+\"\n",
    "html_tag_pat  = r\"<[^>]+>\"\n",
    "\n",
    "def basic_tokenize(text: str, keep_stops: bool = False):\n",
    "    \"\"\"Simple cleaner + optional stop‑word removal.\"\"\"\n",
    "    text = html.unescape(text)\n",
    "    text = re.sub(html_tag_pat, \" \", text)\n",
    "    text = re.sub(url_pat, \" \", text)\n",
    "    text = text.lower()\n",
    "    text = re.sub(punct_pat, \" \", text)\n",
    "\n",
    "    tokens = text.split()\n",
    "    if not keep_stops:\n",
    "        tokens = [t for t in tokens if t not in STOP_WORDS]\n",
    "    return tokens\n"
   ]
  },
  {
   "cell_type": "markdown",
   "metadata": {},
   "source": [
    "## 🔡 Cell 4: Vocabulary Building and Encoding\n",
    "### This cell builds a vocabulary from training data and defines an encoder:\n",
    "\n",
    "- Counts word frequencies using `Counter`.\n",
    "- Assigns unique indices to words, starting from `2` (reserving `0` for `<PAD>` and `1` for `<UNK>`).\n",
    "- Defines `encode()` to:\n",
    "  - Convert text into token IDs based on the vocabulary.\n",
    "  - Pad sequences to a fixed `max_len` (default = 200).\n"
   ]
  },
  {
   "cell_type": "code",
   "execution_count": 17,
   "metadata": {
    "execution": {
     "iopub.execute_input": "2025-07-22T07:38:55.644571Z",
     "iopub.status.busy": "2025-07-22T07:38:55.644365Z",
     "iopub.status.idle": "2025-07-22T07:38:58.504952Z",
     "shell.execute_reply": "2025-07-22T07:38:58.504385Z",
     "shell.execute_reply.started": "2025-07-22T07:38:55.644556Z"
    },
    "id": "eV9Jc8hoif8r",
    "trusted": true
   },
   "outputs": [],
   "source": [
    "vocab_counter = Counter()\n",
    "for ex in train_raw[\"text\"]:\n",
    "    vocab_counter.update(basic_tokenize(ex))\n",
    "\n",
    "vocab = {w: i + 2 for i, (w, _) in enumerate(vocab_counter.most_common())}\n",
    "vocab[PAD_TOKEN] = 0\n",
    "vocab[UNK_TOKEN] = 1\n",
    "\n",
    "# ummm what could be done here ?\n",
    "def encode(text: str, max_len: int = 200):\n",
    "    ids = [vocab.get(tok, vocab[UNK_TOKEN]) for tok in basic_tokenize(text)[:max_len]]\n",
    "    ids += [vocab[PAD_TOKEN]] * (max_len - len(ids))\n",
    "    return ids"
   ]
  },
  {
   "cell_type": "markdown",
   "metadata": {},
   "source": [
    "## 📦 Cell 5: PyTorch Dataset & DataLoader\n",
    "### Creates a custom dataset and dataloaders:\n",
    "\n",
    "- `IMDbAttnDataset`:\n",
    "  - Encodes each review using the vocabulary.\n",
    "  - Returns `(input_tensor, label_tensor)` for each example.\n",
    "- `train_dl` and `test_dl` are created using `DataLoader`, with batching and shuffling for training.\n",
    "- Prints vocabulary size and token IDs for `<PAD>` and `<UNK>`.\n"
   ]
  },
  {
   "cell_type": "code",
   "execution_count": 18,
   "metadata": {
    "colab": {
     "base_uri": "https://localhost:8080/"
    },
    "execution": {
     "iopub.execute_input": "2025-07-22T07:38:58.505980Z",
     "iopub.status.busy": "2025-07-22T07:38:58.505796Z",
     "iopub.status.idle": "2025-07-22T07:38:58.514375Z",
     "shell.execute_reply": "2025-07-22T07:38:58.513536Z",
     "shell.execute_reply.started": "2025-07-22T07:38:58.505966Z"
    },
    "id": "9OmxsbQkpAA5",
    "outputId": "dbb39eab-4a93-4117-fca3-768a8973f5f5",
    "trusted": true
   },
   "outputs": [
    {
     "name": "stdout",
     "output_type": "stream",
     "text": [
      "✔️  DataLoaders ready  —  vocab size: 75,244  (PAD=0, UNK=1)\n"
     ]
    }
   ],
   "source": [
    "class IMDbAttnDataset(Dataset):\n",
    "    def __init__(self, hf_split):\n",
    "        self.texts  = hf_split[\"text\"]\n",
    "        self.labels = hf_split[\"label\"]\n",
    "\n",
    "    def __len__(self):\n",
    "      return len(self.texts)\n",
    "\n",
    "    def __getitem__(self, idx):\n",
    "        return (\n",
    "            torch.tensor(encode(self.texts[idx]), dtype=torch.long),\n",
    "            torch.tensor(self.labels[idx])\n",
    "            )\n",
    "\n",
    "BATCH = 64\n",
    "train_ds, test_ds = IMDbAttnDataset(train_raw), IMDbAttnDataset(test_raw)\n",
    "train_dl = DataLoader(train_ds, batch_size=BATCH, shuffle=True)\n",
    "test_dl  = DataLoader(test_ds, batch_size=BATCH)\n",
    "\n",
    "print(f\"✔️  DataLoaders ready  —  vocab size: {len(vocab):,}  \"\n",
    "      f\"(PAD={vocab[PAD_TOKEN]}, UNK={vocab[UNK_TOKEN]})\")\n"
   ]
  },
  {
   "cell_type": "markdown",
   "metadata": {},
   "source": [
    "## 🧠 Cell 6: Attention-Based Sentiment Classifier\n",
    "### Defines the `UniDotProdAttnClassifier` PyTorch model:\n",
    "\n",
    "- Uses:\n",
    "  - Embedding layer (`nn.Embedding`) to map tokens to vectors.\n",
    "  - GRU (`nn.GRU`) to encode the sequence.\n",
    "  - Single-head attention via `nn.MultiheadAttention`.\n",
    "- Attention:\n",
    "  - The last hidden state of the GRU is used as the **query**.\n",
    "  - The full GRU output serves as **key** and **value**.\n",
    "  - Attention output is fed to a linear classifier and passed through `sigmoid` for binary prediction.\n",
    "- Returns:\n",
    "  - `prob`: probability of being positive\n",
    "  - `alpha`: attention weights over the sequence\n"
   ]
  },
  {
   "cell_type": "code",
   "execution_count": 19,
   "metadata": {
    "execution": {
     "iopub.execute_input": "2025-07-22T07:38:58.515387Z",
     "iopub.status.busy": "2025-07-22T07:38:58.515154Z",
     "iopub.status.idle": "2025-07-22T07:38:58.531248Z",
     "shell.execute_reply": "2025-07-22T07:38:58.530617Z",
     "shell.execute_reply.started": "2025-07-22T07:38:58.515366Z"
    },
    "id": "LK4bh167pDL0",
    "trusted": true
   },
   "outputs": [],
   "source": [
    "import torch\n",
    "import torch.nn as nn\n",
    "\n",
    "class UniDotProdAttnClassifier(nn.Module):\n",
    "    def __init__(self, vocab_size, embed_dim=128, hidden_dim=128):\n",
    "        super().__init__()\n",
    "        self.embed   = nn.Embedding(vocab_size, embed_dim, padding_idx=0)\n",
    "        self.encoder = nn.GRU(embed_dim, hidden_dim, batch_first=True)\n",
    "\n",
    "        # One‑head dot‑product attention (does the Q/K/V projections for you)\n",
    "        self.attn = nn.MultiheadAttention(\n",
    "            embed_dim=hidden_dim,\n",
    "            num_heads=1,\n",
    "            batch_first=True          # keeps (B, T, H) order\n",
    "        )\n",
    "\n",
    "        self.classifier = nn.Linear(hidden_dim, 1)\n",
    "\n",
    "    def forward(self, x):\n",
    "        mask = (x != 0)                      # (B, T)  — True where not <PAD>\n",
    "        h_seq, _ = self.encoder(self.embed(x))  # (B, T, H)\n",
    "\n",
    "        query = h_seq[:, -1:, :]             # (B, 1, H) – last hidden state\n",
    "        context, attn_w = self.attn(\n",
    "            query, h_seq, h_seq,             # Q, K, V\n",
    "            key_padding_mask=~mask           # True where we should ignore\n",
    "        )\n",
    "        context = context.squeeze(1)         # (B, H)\n",
    "        prob    = torch.sigmoid(self.classifier(context).squeeze(1))\n",
    "        alpha   = attn_w.squeeze(1)          # (B, T)\n",
    "\n",
    "        return prob, alpha\n"
   ]
  },
  {
   "cell_type": "markdown",
   "metadata": {},
   "source": [
    "## 🏋️ Cell 7: Training and Evaluation Loop\n",
    "### This cell trains the attention model:\n",
    "\n",
    "- Model, optimizer (`Adam`), and loss function (`BCELoss`) are initialized.\n",
    "- Runs training for 10 epochs:\n",
    "  - Calculates predictions, computes loss, backpropagates, and updates parameters.\n",
    "  - Tracks and prints training loss and accuracy.\n",
    "- Evaluates accuracy on the test set after each epoch using `model.eval()` and `torch.no_grad()`.\n"
   ]
  },
  {
   "cell_type": "code",
   "execution_count": 20,
   "metadata": {
    "colab": {
     "base_uri": "https://localhost:8080/",
     "height": 338,
     "referenced_widgets": [
      "6dbb2dc465d94e78a983d7ac6ad00f75",
      "916fedd2cd234c4a9773e9df3776ac00",
      "18d8eec60af344ed845b24c33e242ae4",
      "d77dbf67eb1a440b905af1fbbcd0b67b",
      "38247c44580a4268b9756bf1886a5a50",
      "19010d3d388a4c9694e09fe563639c75",
      "a8b4bd3d158c43959a58224946e58990",
      "5ecea69e1ff441b2bdf0185ec0980006",
      "9e71195d9e824ddcbc041715c7a1e098",
      "51ec965959d8414a80f0e4331c46b37c",
      "354831e74d804fe6a240d6383d10d305",
      "6c517d09b4184e79ba16b8c1fb87b86d",
      "c9925bf701dd4554b5d188c534d077fe",
      "3b5b387f509f465aa7e8449662b7be78",
      "41c50d18e9c94dd2a28b3a39720e75b5",
      "60e3b238e7a54392ba6f15520b5aaa86",
      "94d82769d6ea4ce19138e35b6bd0930d",
      "c29eae66e23d4d0e88b09b9868a47ab6",
      "ae3c81b1730f45c284ba845bb94d7c45",
      "53f2f9b5fa8b4e459bf136d7081c59d0",
      "8fa6ba2ad21c4b47948014fa8a09b993",
      "fce7d5c47a4a4fa9a3b2391ae4f8400e",
      "aa97d98d50d940a4afc34ff49dac7e3c",
      "324c1ac55876421bb60e51eacb7a2108",
      "657c9ca171e14434aefd888db5eeb93d",
      "11748f212b7e48d48834c68b9a71c3a8",
      "2c7b3bcfbf1b4327a5dc8a07503ff2c6",
      "b1d6cb55b4bf4bae9a9e8d403d5916ec",
      "225f6a4cef1b4b84b831d77f2035a7da",
      "57cb61c75e1a4fa497685c9db5c102c0",
      "0b677f85d52a4e80a2743c79b0d0af36",
      "d922056066a24fe495d09d75c9c943dd",
      "bff891ec8b6449598dfce8e74a66f334",
      "da2209ca0886410290af723a020579cb",
      "a99642cc8f544e6cb4c5445a7854bcc1",
      "faf36dc7211e444c9532b127c5eb57df",
      "ce35cf4895164a9dbe11c61c9708b416",
      "7bad71a273574df3a0166730ca6706d9",
      "f656bc1098d241f2976d41a14215d63a",
      "596b0336d39e45e78ca2c6932d097535",
      "04d0f2b8bdb04f40b4c4cc3c62736df8",
      "6499f7f58d3f4348b4c7afee51310682",
      "5d481669a7dd4218b55e4f7f8084e0c0",
      "d3ff8d0bd94445058c0d335bff55866a",
      "6d3ee021621f447abc894f34d7f28f1f",
      "2770792e637b435f893ef9ef0d45aec4",
      "700cc3e32501457aba80395c11cf732e",
      "11b1c03ec04e4a54a660981ddda2c403",
      "e6908836912146a7ab0bde28aef4f918",
      "c4ef266df810441bb4123bab22485ccd",
      "3576bc84d89947efb36d85a93778652e",
      "210405a7fc3841438f25436d2bef6127",
      "0bee4f8bbd13462a93f1e0f811719176",
      "fb8f0035c33e40fd91a4483f2ce33b51",
      "f196a4c6af2543fba9613c4b69f495ff"
     ]
    },
    "execution": {
     "iopub.execute_input": "2025-07-22T07:38:58.532221Z",
     "iopub.status.busy": "2025-07-22T07:38:58.531993Z",
     "iopub.status.idle": "2025-07-22T07:43:39.714616Z",
     "shell.execute_reply": "2025-07-22T07:43:39.713965Z",
     "shell.execute_reply.started": "2025-07-22T07:38:58.532191Z"
    },
    "id": "yqCgcYuzpFsh",
    "outputId": "7b29bedc-6ed8-498e-8cc5-18bc5b4e57f7",
    "trusted": true
   },
   "outputs": [
    {
     "data": {
      "application/vnd.jupyter.widget-view+json": {
       "model_id": "a39f76e5a5294ad58966d8e85bb8e998",
       "version_major": 2,
       "version_minor": 0
      },
      "text/plain": [
       "Epoch 1:   0%|          | 0/391 [00:00<?, ?it/s]"
      ]
     },
     "metadata": {},
     "output_type": "display_data"
    },
    {
     "name": "stdout",
     "output_type": "stream",
     "text": [
      "Train loss = 0.5147 | accuracy = 0.7376\n",
      "Test accuracy: 0.81416\n"
     ]
    },
    {
     "data": {
      "application/vnd.jupyter.widget-view+json": {
       "model_id": "1d79e40644db47be8cdc662c157bee67",
       "version_major": 2,
       "version_minor": 0
      },
      "text/plain": [
       "Epoch 2:   0%|          | 0/391 [00:00<?, ?it/s]"
      ]
     },
     "metadata": {},
     "output_type": "display_data"
    },
    {
     "name": "stdout",
     "output_type": "stream",
     "text": [
      "Train loss = 0.3477 | accuracy = 0.8491\n",
      "Test accuracy: 0.8414\n"
     ]
    },
    {
     "data": {
      "application/vnd.jupyter.widget-view+json": {
       "model_id": "87632d130b47442c917cd6f03ff14f8d",
       "version_major": 2,
       "version_minor": 0
      },
      "text/plain": [
       "Epoch 3:   0%|          | 0/391 [00:00<?, ?it/s]"
      ]
     },
     "metadata": {},
     "output_type": "display_data"
    },
    {
     "name": "stdout",
     "output_type": "stream",
     "text": [
      "Train loss = 0.2762 | accuracy = 0.8855\n",
      "Test accuracy: 0.85056\n"
     ]
    },
    {
     "data": {
      "application/vnd.jupyter.widget-view+json": {
       "model_id": "d42a09fd230e4f43bb2ffe5859dd28e2",
       "version_major": 2,
       "version_minor": 0
      },
      "text/plain": [
       "Epoch 4:   0%|          | 0/391 [00:00<?, ?it/s]"
      ]
     },
     "metadata": {},
     "output_type": "display_data"
    },
    {
     "name": "stdout",
     "output_type": "stream",
     "text": [
      "Train loss = 0.2261 | accuracy = 0.9123\n",
      "Test accuracy: 0.84796\n"
     ]
    },
    {
     "data": {
      "application/vnd.jupyter.widget-view+json": {
       "model_id": "5982dce9c4cf4d8ba61e4f2961f58d6d",
       "version_major": 2,
       "version_minor": 0
      },
      "text/plain": [
       "Epoch 5:   0%|          | 0/391 [00:00<?, ?it/s]"
      ]
     },
     "metadata": {},
     "output_type": "display_data"
    },
    {
     "name": "stdout",
     "output_type": "stream",
     "text": [
      "Train loss = 0.1738 | accuracy = 0.9338\n",
      "Test accuracy: 0.848\n"
     ]
    },
    {
     "data": {
      "application/vnd.jupyter.widget-view+json": {
       "model_id": "29b04a24e43b47c5bdbfa3f71dfd5e2b",
       "version_major": 2,
       "version_minor": 0
      },
      "text/plain": [
       "Epoch 6:   0%|          | 0/391 [00:00<?, ?it/s]"
      ]
     },
     "metadata": {},
     "output_type": "display_data"
    },
    {
     "name": "stdout",
     "output_type": "stream",
     "text": [
      "Train loss = 0.1316 | accuracy = 0.9532\n",
      "Test accuracy: 0.84844\n"
     ]
    },
    {
     "data": {
      "application/vnd.jupyter.widget-view+json": {
       "model_id": "0b2fdd4b1a574c44a401c16bdafea991",
       "version_major": 2,
       "version_minor": 0
      },
      "text/plain": [
       "Epoch 7:   0%|          | 0/391 [00:00<?, ?it/s]"
      ]
     },
     "metadata": {},
     "output_type": "display_data"
    },
    {
     "name": "stdout",
     "output_type": "stream",
     "text": [
      "Train loss = 0.0900 | accuracy = 0.9690\n",
      "Test accuracy: 0.84564\n"
     ]
    },
    {
     "data": {
      "application/vnd.jupyter.widget-view+json": {
       "model_id": "6fa906c958424601a25d3511b436c97f",
       "version_major": 2,
       "version_minor": 0
      },
      "text/plain": [
       "Epoch 8:   0%|          | 0/391 [00:00<?, ?it/s]"
      ]
     },
     "metadata": {},
     "output_type": "display_data"
    },
    {
     "name": "stdout",
     "output_type": "stream",
     "text": [
      "Train loss = 0.0534 | accuracy = 0.9832\n",
      "Test accuracy: 0.84292\n"
     ]
    },
    {
     "data": {
      "application/vnd.jupyter.widget-view+json": {
       "model_id": "78f6200d1d554123906a7d8756075e82",
       "version_major": 2,
       "version_minor": 0
      },
      "text/plain": [
       "Epoch 9:   0%|          | 0/391 [00:00<?, ?it/s]"
      ]
     },
     "metadata": {},
     "output_type": "display_data"
    },
    {
     "name": "stdout",
     "output_type": "stream",
     "text": [
      "Train loss = 0.0382 | accuracy = 0.9871\n",
      "Test accuracy: 0.8414\n"
     ]
    },
    {
     "data": {
      "application/vnd.jupyter.widget-view+json": {
       "model_id": "179e650e632749eab18ad240c80dcb6f",
       "version_major": 2,
       "version_minor": 0
      },
      "text/plain": [
       "Epoch 10:   0%|          | 0/391 [00:00<?, ?it/s]"
      ]
     },
     "metadata": {},
     "output_type": "display_data"
    },
    {
     "name": "stdout",
     "output_type": "stream",
     "text": [
      "Train loss = 0.0216 | accuracy = 0.9941\n",
      "Test accuracy: 0.8424\n"
     ]
    }
   ],
   "source": [
    "model = UniDotProdAttnClassifier(len(vocab)).to(DEVICE)\n",
    "opt = torch.optim.Adam(model.parameters(), lr=3e-4)\n",
    "loss_fn = nn.BCELoss()\n",
    "\n",
    "EPOCHS = 10\n",
    "for epoch in range(1, EPOCHS + 1):\n",
    "    model.train()\n",
    "    total, correct, running_loss = 0, 0, 0\n",
    "    for x, y in tqdm(train_dl, desc=f\"Epoch {epoch}\"):\n",
    "        x, y = x.to(DEVICE), y.float().to(DEVICE)\n",
    "        opt.zero_grad()\n",
    "        preds, _ = model(x)\n",
    "        loss = loss_fn(preds, y)\n",
    "        loss.backward()\n",
    "        opt.step()\n",
    "\n",
    "        running_loss += loss.item() * len(y)\n",
    "        correct += ((preds > 0.5).long() == y).sum().item()\n",
    "        total += len(y)\n",
    "\n",
    "    print(f\"Train loss = {running_loss/total:.4f} | accuracy = {correct/total:.4f}\")\n",
    "\n",
    "\n",
    "    model.eval()\n",
    "    total, correct = 0, 0\n",
    "    with torch.no_grad():\n",
    "        for x, y in test_dl:\n",
    "            x, y = x.to(DEVICE), y.to(DEVICE)\n",
    "            preds, _ = model(x)\n",
    "            correct += ((preds > 0.5).long() == y).sum().item()\n",
    "            total += len(y)\n",
    "\n",
    "    print(\"Test accuracy:\", correct / total)\n"
   ]
  },
  {
   "cell_type": "markdown",
   "metadata": {},
   "source": [
    "## 🎨 Cell 8: Attention Visualization Function\n",
    "### Defines a helper function `show_attention_html()`:\n",
    "\n",
    "- Runs the model on a given input sentence.\n",
    "- Uses the model's attention weights (`alpha`) to color each token:\n",
    "  - Light red = low attention, dark red = high attention.\n",
    "- Displays:\n",
    "  - The predicted label (`POSITIVE` or `NEGATIVE`)\n",
    "  - A visually styled HTML string showing each token with its attention score.\n"
   ]
  },
  {
   "cell_type": "code",
   "execution_count": 21,
   "metadata": {
    "execution": {
     "iopub.execute_input": "2025-07-22T07:43:39.715685Z",
     "iopub.status.busy": "2025-07-22T07:43:39.715404Z",
     "iopub.status.idle": "2025-07-22T07:43:39.721620Z",
     "shell.execute_reply": "2025-07-22T07:43:39.720919Z",
     "shell.execute_reply.started": "2025-07-22T07:43:39.715667Z"
    },
    "id": "wHPC4LY-pP76",
    "trusted": true
   },
   "outputs": [],
   "source": [
    "def show_attention_html(text):\n",
    "    \"\"\"\n",
    "    Very small helper:\n",
    "    • runs the model\n",
    "    • colors each token (light → dark red) by attention weight\n",
    "    • prints the predicted probability\n",
    "    \"\"\"\n",
    "    model.eval()\n",
    "    with torch.no_grad():\n",
    "        ids = encode(text)\n",
    "        x   = torch.tensor([ids]).to(DEVICE)\n",
    "        p,  alpha = model(x)\n",
    "\n",
    "    # tidy up\n",
    "    w     = alpha.squeeze(0).detach().cpu().numpy()\n",
    "    toks  = basic_tokenize(text)[:len(w)]\n",
    "    w_norm = (w - w.min()) / (w.ptp() + 1e-8)      # 0‑1 scale\n",
    "\n",
    "    spans = []\n",
    "    for tok, wt in zip(toks, w_norm):\n",
    "        shade  = int(255 * (1 - wt))               # 1 → white, 0 → red\n",
    "        color  = f\"rgb(255,{shade},{shade})\"\n",
    "        spans.append(f\"<span style='background:{color}; padding:2px 4px; \"\n",
    "                     \"border-radius:3px; margin:0 1px'>\"\n",
    "                     f\"{html.escape(tok)}</span>\")\n",
    "\n",
    "    pred = \"POSITIVE\" if p.item() > 0.5 else \"NEGATIVE\"\n",
    "    header = f\"<p><b>Prediction:</b> {pred}  (p={p.item():.2f})</p>\"\n",
    "    display(HTML(header + \" \".join(spans)))\n"
   ]
  },
  {
   "cell_type": "markdown",
   "metadata": {},
   "source": [
    "## 📊 Cell 9: Visualize Model Attention on a Test Sample\n",
    "### This cell demonstrates how the model interprets a real IMDb review.\n",
    "\n",
    "- Uses `show_attention_html()` to visualize which tokens the model focused on.\n",
    "- The prediction is shown alongside the token-wise attention heatmap.\n",
    "- Also prints the true label of the review for comparison.\n"
   ]
  },
  {
   "cell_type": "code",
   "execution_count": 22,
   "metadata": {
    "colab": {
     "base_uri": "https://localhost:8080/",
     "height": 116
    },
    "execution": {
     "iopub.execute_input": "2025-07-22T07:43:39.722777Z",
     "iopub.status.busy": "2025-07-22T07:43:39.722476Z",
     "iopub.status.idle": "2025-07-22T07:43:39.744386Z",
     "shell.execute_reply": "2025-07-22T07:43:39.743625Z",
     "shell.execute_reply.started": "2025-07-22T07:43:39.722756Z"
    },
    "id": "booJM_oYpRng",
    "outputId": "3105ebf3-dfcf-4947-803f-a7daa688d9de",
    "trusted": true
   },
   "outputs": [
    {
     "data": {
      "text/html": [
       "<p><b>Prediction:</b> NEGATIVE  (p=0.00)</p><span style='background:rgb(255,168,168); padding:2px 4px; border-radius:3px; margin:0 1px'>love</span> <span style='background:rgb(255,182,182); padding:2px 4px; border-radius:3px; margin:0 1px'>sci</span> <span style='background:rgb(255,174,174); padding:2px 4px; border-radius:3px; margin:0 1px'>fi</span> <span style='background:rgb(255,180,180); padding:2px 4px; border-radius:3px; margin:0 1px'>am</span> <span style='background:rgb(255,111,111); padding:2px 4px; border-radius:3px; margin:0 1px'>willing</span> <span style='background:rgb(255,158,158); padding:2px 4px; border-radius:3px; margin:0 1px'>put</span> <span style='background:rgb(255,187,187); padding:2px 4px; border-radius:3px; margin:0 1px'>up</span> <span style='background:rgb(255,160,160); padding:2px 4px; border-radius:3px; margin:0 1px'>lot</span> <span style='background:rgb(255,184,184); padding:2px 4px; border-radius:3px; margin:0 1px'>sci</span> <span style='background:rgb(255,182,182); padding:2px 4px; border-radius:3px; margin:0 1px'>fi</span> <span style='background:rgb(255,193,193); padding:2px 4px; border-radius:3px; margin:0 1px'>movies</span> <span style='background:rgb(255,211,211); padding:2px 4px; border-radius:3px; margin:0 1px'>tv</span> <span style='background:rgb(255,207,207); padding:2px 4px; border-radius:3px; margin:0 1px'>usually</span> <span style='background:rgb(255,215,215); padding:2px 4px; border-radius:3px; margin:0 1px'>underfunded</span> <span style='background:rgb(255,166,166); padding:2px 4px; border-radius:3px; margin:0 1px'>under</span> <span style='background:rgb(255,186,186); padding:2px 4px; border-radius:3px; margin:0 1px'>appreciated</span> <span style='background:rgb(255,147,147); padding:2px 4px; border-radius:3px; margin:0 1px'>misunderstood</span> <span style='background:rgb(255,182,182); padding:2px 4px; border-radius:3px; margin:0 1px'>tried</span> <span style='background:rgb(255,189,189); padding:2px 4px; border-radius:3px; margin:0 1px'>like</span> <span style='background:rgb(255,154,154); padding:2px 4px; border-radius:3px; margin:0 1px'>really</span> <span style='background:rgb(255,142,142); padding:2px 4px; border-radius:3px; margin:0 1px'>did</span> <span style='background:rgb(255,79,79); padding:2px 4px; border-radius:3px; margin:0 1px'>good</span> <span style='background:rgb(255,173,173); padding:2px 4px; border-radius:3px; margin:0 1px'>tv</span> <span style='background:rgb(255,193,193); padding:2px 4px; border-radius:3px; margin:0 1px'>sci</span> <span style='background:rgb(255,183,183); padding:2px 4px; border-radius:3px; margin:0 1px'>fi</span> <span style='background:rgb(255,131,131); padding:2px 4px; border-radius:3px; margin:0 1px'>babylon</span> <span style='background:rgb(255,158,158); padding:2px 4px; border-radius:3px; margin:0 1px'>5</span> <span style='background:rgb(255,187,187); padding:2px 4px; border-radius:3px; margin:0 1px'>star</span> <span style='background:rgb(255,200,200); padding:2px 4px; border-radius:3px; margin:0 1px'>trek</span> <span style='background:rgb(255,162,162); padding:2px 4px; border-radius:3px; margin:0 1px'>original</span> <span style='background:rgb(255,187,187); padding:2px 4px; border-radius:3px; margin:0 1px'>silly</span> <span style='background:rgb(255,137,137); padding:2px 4px; border-radius:3px; margin:0 1px'>prosthetics</span> <span style='background:rgb(255,112,112); padding:2px 4px; border-radius:3px; margin:0 1px'>cheap</span> <span style='background:rgb(255,139,139); padding:2px 4px; border-radius:3px; margin:0 1px'>cardboard</span> <span style='background:rgb(255,134,134); padding:2px 4px; border-radius:3px; margin:0 1px'>sets</span> <span style='background:rgb(255,150,150); padding:2px 4px; border-radius:3px; margin:0 1px'>stilted</span> <span style='background:rgb(255,143,143); padding:2px 4px; border-radius:3px; margin:0 1px'>dialogues</span> <span style='background:rgb(255,145,145); padding:2px 4px; border-radius:3px; margin:0 1px'>cg</span> <span style='background:rgb(255,177,177); padding:2px 4px; border-radius:3px; margin:0 1px'>doesn</span> <span style='background:rgb(255,137,137); padding:2px 4px; border-radius:3px; margin:0 1px'>t</span> <span style='background:rgb(255,145,145); padding:2px 4px; border-radius:3px; margin:0 1px'>match</span> <span style='background:rgb(255,160,160); padding:2px 4px; border-radius:3px; margin:0 1px'>background</span> <span style='background:rgb(255,167,167); padding:2px 4px; border-radius:3px; margin:0 1px'>painfully</span> <span style='background:rgb(255,143,143); padding:2px 4px; border-radius:3px; margin:0 1px'>one</span> <span style='background:rgb(255,188,188); padding:2px 4px; border-radius:3px; margin:0 1px'>dimensional</span> <span style='background:rgb(255,158,158); padding:2px 4px; border-radius:3px; margin:0 1px'>characters</span> <span style='background:rgb(255,143,143); padding:2px 4px; border-radius:3px; margin:0 1px'>cannot</span> <span style='background:rgb(255,148,148); padding:2px 4px; border-radius:3px; margin:0 1px'>overcome</span> <span style='background:rgb(255,172,172); padding:2px 4px; border-radius:3px; margin:0 1px'>sci</span> <span style='background:rgb(255,169,169); padding:2px 4px; border-radius:3px; margin:0 1px'>fi</span> <span style='background:rgb(255,178,178); padding:2px 4px; border-radius:3px; margin:0 1px'>setting</span> <span style='background:rgb(255,174,174); padding:2px 4px; border-radius:3px; margin:0 1px'>m</span> <span style='background:rgb(255,138,138); padding:2px 4px; border-radius:3px; margin:0 1px'>sure</span> <span style='background:rgb(255,134,134); padding:2px 4px; border-radius:3px; margin:0 1px'>there</span> <span style='background:rgb(255,144,144); padding:2px 4px; border-radius:3px; margin:0 1px'>out</span> <span style='background:rgb(255,116,116); padding:2px 4px; border-radius:3px; margin:0 1px'>there</span> <span style='background:rgb(255,165,165); padding:2px 4px; border-radius:3px; margin:0 1px'>who</span> <span style='background:rgb(255,174,174); padding:2px 4px; border-radius:3px; margin:0 1px'>think</span> <span style='background:rgb(255,138,138); padding:2px 4px; border-radius:3px; margin:0 1px'>babylon</span> <span style='background:rgb(255,168,168); padding:2px 4px; border-radius:3px; margin:0 1px'>5</span> <span style='background:rgb(255,118,118); padding:2px 4px; border-radius:3px; margin:0 1px'>good</span> <span style='background:rgb(255,165,165); padding:2px 4px; border-radius:3px; margin:0 1px'>sci</span> <span style='background:rgb(255,167,167); padding:2px 4px; border-radius:3px; margin:0 1px'>fi</span> <span style='background:rgb(255,197,197); padding:2px 4px; border-radius:3px; margin:0 1px'>tv</span> <span style='background:rgb(255,215,215); padding:2px 4px; border-radius:3px; margin:0 1px'>s</span> <span style='background:rgb(255,193,193); padding:2px 4px; border-radius:3px; margin:0 1px'>not</span> <span style='background:rgb(255,208,208); padding:2px 4px; border-radius:3px; margin:0 1px'>s</span> <span style='background:rgb(255,175,175); padding:2px 4px; border-radius:3px; margin:0 1px'>clichéd</span> <span style='background:rgb(255,183,183); padding:2px 4px; border-radius:3px; margin:0 1px'>uninspiring</span> <span style='background:rgb(255,186,186); padding:2px 4px; border-radius:3px; margin:0 1px'>while</span> <span style='background:rgb(255,149,149); padding:2px 4px; border-radius:3px; margin:0 1px'>viewers</span> <span style='background:rgb(255,144,144); padding:2px 4px; border-radius:3px; margin:0 1px'>might</span> <span style='background:rgb(255,164,164); padding:2px 4px; border-radius:3px; margin:0 1px'>like</span> <span style='background:rgb(255,195,195); padding:2px 4px; border-radius:3px; margin:0 1px'>emotion</span> <span style='background:rgb(255,170,170); padding:2px 4px; border-radius:3px; margin:0 1px'>character</span> <span style='background:rgb(255,182,182); padding:2px 4px; border-radius:3px; margin:0 1px'>development</span> <span style='background:rgb(255,191,191); padding:2px 4px; border-radius:3px; margin:0 1px'>sci</span> <span style='background:rgb(255,178,178); padding:2px 4px; border-radius:3px; margin:0 1px'>fi</span> <span style='background:rgb(255,195,195); padding:2px 4px; border-radius:3px; margin:0 1px'>genre</span> <span style='background:rgb(255,165,165); padding:2px 4px; border-radius:3px; margin:0 1px'>does</span> <span style='background:rgb(255,154,154); padding:2px 4px; border-radius:3px; margin:0 1px'>not</span> <span style='background:rgb(255,128,128); padding:2px 4px; border-radius:3px; margin:0 1px'>take</span> <span style='background:rgb(255,175,175); padding:2px 4px; border-radius:3px; margin:0 1px'>itself</span> <span style='background:rgb(255,188,188); padding:2px 4px; border-radius:3px; margin:0 1px'>seriously</span> <span style='background:rgb(255,184,184); padding:2px 4px; border-radius:3px; margin:0 1px'>cf</span> <span style='background:rgb(255,204,204); padding:2px 4px; border-radius:3px; margin:0 1px'>star</span> <span style='background:rgb(255,211,211); padding:2px 4px; border-radius:3px; margin:0 1px'>trek</span> <span style='background:rgb(255,200,200); padding:2px 4px; border-radius:3px; margin:0 1px'>may</span> <span style='background:rgb(255,208,208); padding:2px 4px; border-radius:3px; margin:0 1px'>treat</span> <span style='background:rgb(255,198,198); padding:2px 4px; border-radius:3px; margin:0 1px'>important</span> <span style='background:rgb(255,187,187); padding:2px 4px; border-radius:3px; margin:0 1px'>issues</span> <span style='background:rgb(255,177,177); padding:2px 4px; border-radius:3px; margin:0 1px'>yet</span> <span style='background:rgb(255,168,168); padding:2px 4px; border-radius:3px; margin:0 1px'>not</span> <span style='background:rgb(255,190,190); padding:2px 4px; border-radius:3px; margin:0 1px'>serious</span> <span style='background:rgb(255,223,223); padding:2px 4px; border-radius:3px; margin:0 1px'>philosophy</span> <span style='background:rgb(255,226,226); padding:2px 4px; border-radius:3px; margin:0 1px'>s</span> <span style='background:rgb(255,196,196); padding:2px 4px; border-radius:3px; margin:0 1px'>really</span> <span style='background:rgb(255,193,193); padding:2px 4px; border-radius:3px; margin:0 1px'>difficult</span> <span style='background:rgb(255,184,184); padding:2px 4px; border-radius:3px; margin:0 1px'>care</span> <span style='background:rgb(255,177,177); padding:2px 4px; border-radius:3px; margin:0 1px'>about</span> <span style='background:rgb(255,165,165); padding:2px 4px; border-radius:3px; margin:0 1px'>characters</span> <span style='background:rgb(255,187,187); padding:2px 4px; border-radius:3px; margin:0 1px'>here</span> <span style='background:rgb(255,171,171); padding:2px 4px; border-radius:3px; margin:0 1px'>not</span> <span style='background:rgb(255,135,135); padding:2px 4px; border-radius:3px; margin:0 1px'>simply</span> <span style='background:rgb(255,159,159); padding:2px 4px; border-radius:3px; margin:0 1px'>foolish</span> <span style='background:rgb(255,124,124); padding:2px 4px; border-radius:3px; margin:0 1px'>just</span> <span style='background:rgb(255,93,93); padding:2px 4px; border-radius:3px; margin:0 1px'>missing</span> <span style='background:rgb(255,89,89); padding:2px 4px; border-radius:3px; margin:0 1px'>spark</span> <span style='background:rgb(255,116,116); padding:2px 4px; border-radius:3px; margin:0 1px'>life</span> <span style='background:rgb(255,125,125); padding:2px 4px; border-radius:3px; margin:0 1px'>their</span> <span style='background:rgb(255,94,94); padding:2px 4px; border-radius:3px; margin:0 1px'>actions</span> <span style='background:rgb(255,133,133); padding:2px 4px; border-radius:3px; margin:0 1px'>reactions</span> <span style='background:rgb(255,109,109); padding:2px 4px; border-radius:3px; margin:0 1px'>wooden</span> <span style='background:rgb(255,0,0); padding:2px 4px; border-radius:3px; margin:0 1px'>predictable</span> <span style='background:rgb(255,36,36); padding:2px 4px; border-radius:3px; margin:0 1px'>often</span> <span style='background:rgb(255,50,50); padding:2px 4px; border-radius:3px; margin:0 1px'>painful</span> <span style='background:rgb(255,120,120); padding:2px 4px; border-radius:3px; margin:0 1px'>watch</span> <span style='background:rgb(255,84,84); padding:2px 4px; border-radius:3px; margin:0 1px'>makers</span> <span style='background:rgb(255,178,178); padding:2px 4px; border-radius:3px; margin:0 1px'>earth</span> <span style='background:rgb(255,196,196); padding:2px 4px; border-radius:3px; margin:0 1px'>know</span> <span style='background:rgb(255,212,212); padding:2px 4px; border-radius:3px; margin:0 1px'>s</span> <span style='background:rgb(255,193,193); padding:2px 4px; border-radius:3px; margin:0 1px'>rubbish</span> <span style='background:rgb(255,200,200); padding:2px 4px; border-radius:3px; margin:0 1px'>have</span> <span style='background:rgb(255,204,204); padding:2px 4px; border-radius:3px; margin:0 1px'>always</span> <span style='background:rgb(255,203,203); padding:2px 4px; border-radius:3px; margin:0 1px'>say</span> <span style='background:rgb(255,149,149); padding:2px 4px; border-radius:3px; margin:0 1px'>gene</span> <span style='background:rgb(255,147,147); padding:2px 4px; border-radius:3px; margin:0 1px'>roddenberry</span> <span style='background:rgb(255,198,198); padding:2px 4px; border-radius:3px; margin:0 1px'>s</span> <span style='background:rgb(255,218,218); padding:2px 4px; border-radius:3px; margin:0 1px'>earth</span> <span style='background:rgb(255,197,197); padding:2px 4px; border-radius:3px; margin:0 1px'>otherwise</span> <span style='background:rgb(255,216,216); padding:2px 4px; border-radius:3px; margin:0 1px'>people</span> <span style='background:rgb(255,212,212); padding:2px 4px; border-radius:3px; margin:0 1px'>would</span> <span style='background:rgb(255,189,189); padding:2px 4px; border-radius:3px; margin:0 1px'>not</span> <span style='background:rgb(255,196,196); padding:2px 4px; border-radius:3px; margin:0 1px'>continue</span> <span style='background:rgb(255,192,192); padding:2px 4px; border-radius:3px; margin:0 1px'>watching</span> <span style='background:rgb(255,176,176); padding:2px 4px; border-radius:3px; margin:0 1px'>roddenberry</span> <span style='background:rgb(255,204,204); padding:2px 4px; border-radius:3px; margin:0 1px'>s</span> <span style='background:rgb(255,208,208); padding:2px 4px; border-radius:3px; margin:0 1px'>ashes</span> <span style='background:rgb(255,190,190); padding:2px 4px; border-radius:3px; margin:0 1px'>must</span> <span style='background:rgb(255,186,186); padding:2px 4px; border-radius:3px; margin:0 1px'>turning</span> <span style='background:rgb(255,176,176); padding:2px 4px; border-radius:3px; margin:0 1px'>their</span> <span style='background:rgb(255,172,172); padding:2px 4px; border-radius:3px; margin:0 1px'>orbit</span> <span style='background:rgb(255,156,156); padding:2px 4px; border-radius:3px; margin:0 1px'>dull</span> <span style='background:rgb(255,122,122); padding:2px 4px; border-radius:3px; margin:0 1px'>cheap</span> <span style='background:rgb(255,157,157); padding:2px 4px; border-radius:3px; margin:0 1px'>poorly</span> <span style='background:rgb(255,162,162); padding:2px 4px; border-radius:3px; margin:0 1px'>edited</span> <span style='background:rgb(255,161,161); padding:2px 4px; border-radius:3px; margin:0 1px'>watching</span> <span style='background:rgb(255,140,140); padding:2px 4px; border-radius:3px; margin:0 1px'>without</span> <span style='background:rgb(255,144,144); padding:2px 4px; border-radius:3px; margin:0 1px'>advert</span> <span style='background:rgb(255,165,165); padding:2px 4px; border-radius:3px; margin:0 1px'>breaks</span> <span style='background:rgb(255,151,151); padding:2px 4px; border-radius:3px; margin:0 1px'>really</span> <span style='background:rgb(255,129,129); padding:2px 4px; border-radius:3px; margin:0 1px'>brings</span> <span style='background:rgb(255,169,169); padding:2px 4px; border-radius:3px; margin:0 1px'>home</span> <span style='background:rgb(255,164,164); padding:2px 4px; border-radius:3px; margin:0 1px'>trudging</span> <span style='background:rgb(255,188,188); padding:2px 4px; border-radius:3px; margin:0 1px'>trabant</span> <span style='background:rgb(255,182,182); padding:2px 4px; border-radius:3px; margin:0 1px'>show</span> <span style='background:rgb(255,176,176); padding:2px 4px; border-radius:3px; margin:0 1px'>lumbers</span> <span style='background:rgb(255,166,166); padding:2px 4px; border-radius:3px; margin:0 1px'>into</span> <span style='background:rgb(255,171,171); padding:2px 4px; border-radius:3px; margin:0 1px'>space</span> <span style='background:rgb(255,187,187); padding:2px 4px; border-radius:3px; margin:0 1px'>spoiler</span> <span style='background:rgb(255,185,185); padding:2px 4px; border-radius:3px; margin:0 1px'>kill</span> <span style='background:rgb(255,152,152); padding:2px 4px; border-radius:3px; margin:0 1px'>off</span> <span style='background:rgb(255,97,97); padding:2px 4px; border-radius:3px; margin:0 1px'>main</span> <span style='background:rgb(255,89,89); padding:2px 4px; border-radius:3px; margin:0 1px'>character</span> <span style='background:rgb(255,140,140); padding:2px 4px; border-radius:3px; margin:0 1px'>then</span> <span style='background:rgb(255,154,154); padding:2px 4px; border-radius:3px; margin:0 1px'>bring</span> <span style='background:rgb(255,166,166); padding:2px 4px; border-radius:3px; margin:0 1px'>him</span> <span style='background:rgb(255,160,160); padding:2px 4px; border-radius:3px; margin:0 1px'>back</span> <span style='background:rgb(255,134,134); padding:2px 4px; border-radius:3px; margin:0 1px'>another</span> <span style='background:rgb(255,123,123); padding:2px 4px; border-radius:3px; margin:0 1px'>actor</span> <span style='background:rgb(255,147,147); padding:2px 4px; border-radius:3px; margin:0 1px'>jeeez</span> <span style='background:rgb(255,187,187); padding:2px 4px; border-radius:3px; margin:0 1px'>dallas</span> <span style='background:rgb(255,184,184); padding:2px 4px; border-radius:3px; margin:0 1px'>all</span> <span style='background:rgb(255,169,169); padding:2px 4px; border-radius:3px; margin:0 1px'>over</span> <span style='background:rgb(255,131,131); padding:2px 4px; border-radius:3px; margin:0 1px'>again</span>"
      ],
      "text/plain": [
       "<IPython.core.display.HTML object>"
      ]
     },
     "metadata": {},
     "output_type": "display_data"
    },
    {
     "name": "stdout",
     "output_type": "stream",
     "text": [
      "Label is: 0\n"
     ]
    }
   ],
   "source": [
    "sample_text = test_raw[0][\"text\"]\n",
    "show_attention_html(sample_text)\n",
    "print(f'Label is: {test_raw[0][\"label\"]}') # 0.01 means 1 % positive → 99 % negative"
   ]
  },
  {
   "cell_type": "markdown",
   "metadata": {},
   "source": [
    "## 📉 Cell 10: Visualize Top Attention Tokens as Bar Chart\n",
    "\n",
    "### Defines `show_attention_vertical()` to create a **bar chart** of the top‑attended tokens.\n",
    "\n",
    "- Ranks the top `k` words (default 20) by attention score.\n",
    "- Uses a red colormap to highlight important tokens.\n",
    "- Plots a horizontal bar chart showing which words influenced the model’s prediction the most.\n",
    "- Helpful for deeper interpretability beyond just the token-by-token heatmap.\n"
   ]
  },
  {
   "cell_type": "code",
   "execution_count": 23,
   "metadata": {
    "execution": {
     "iopub.execute_input": "2025-07-22T07:43:39.746708Z",
     "iopub.status.busy": "2025-07-22T07:43:39.746513Z",
     "iopub.status.idle": "2025-07-22T07:43:39.754445Z",
     "shell.execute_reply": "2025-07-22T07:43:39.753801Z",
     "shell.execute_reply.started": "2025-07-22T07:43:39.746694Z"
    },
    "id": "E0-TJueFpTAD",
    "trusted": true
   },
   "outputs": [],
   "source": [
    "def show_attention_vertical(text, top_k: int = 20, cmap_name: str = \"Reds\"):\n",
    "    \"\"\"\n",
    "    Horizontal bar chart of the `top_k` most‑attended tokens.\n",
    "    Tokens are ordered by weight (largest at top).\n",
    "    \"\"\"\n",
    "    model.eval()\n",
    "    with torch.no_grad():\n",
    "        ids  = encode(text)\n",
    "        x    = torch.tensor([ids]).to(DEVICE)\n",
    "        prob, alpha = model(x)\n",
    "\n",
    "    # ---- weights & tokens ----\n",
    "    weights = alpha.squeeze(0).detach().cpu().numpy()\n",
    "    tokens  = basic_tokenize(text)[:len(weights)]\n",
    "\n",
    "    idx_top = np.argsort(weights)[-top_k:]          # indices of top‑k\n",
    "    top_weights = weights[idx_top]\n",
    "    top_tokens  = [tokens[i] for i in idx_top]\n",
    "\n",
    "    # sort by weight descending (largest first)\n",
    "    order = np.argsort(top_weights)[::-1]\n",
    "    top_weights = top_weights[order]\n",
    "    top_tokens  = [top_tokens[i] for i in order]\n",
    "\n",
    "    # ---- colour mapping ----\n",
    "    cmap   = matplotlib.colormaps.get_cmap(cmap_name)\n",
    "    norm_w = (top_weights - top_weights.min()) / (top_weights.ptp() + 1e-8)\n",
    "    colors = cmap(norm_w)\n",
    "\n",
    "    # ---- plot ----\n",
    "    plt.figure(figsize=(6, top_k * 0.4))\n",
    "    plt.barh(range(top_k), top_weights, color=colors,\n",
    "             edgecolor=\"black\", linewidth=0.5)\n",
    "    plt.yticks(range(top_k), top_tokens, fontsize=9)\n",
    "    plt.gca().invert_yaxis()                      # largest at top\n",
    "    plt.xlabel(\"Attention weight\")\n",
    "    plt.title(f\"{'POS' if prob.item() > 0.5 else 'NEG'} \"\n",
    "              f\"(p={prob.item():.2f})  •  Top {top_k} tokens\")\n",
    "    plt.tight_layout()\n",
    "    plt.show()\n"
   ]
  },
  {
   "cell_type": "markdown",
   "metadata": {},
   "source": [
    "## 🧪 Cell 11: Test Vertical Attention Plot\n",
    "### Applies the `show_attention_vertical()` function to a sample review from the test set.\n",
    "\n",
    "- Displays the top 25 tokens the model paid attention to.\n",
    "- Useful for validating and understanding attention behavior on real data.\n"
   ]
  },
  {
   "cell_type": "code",
   "execution_count": 24,
   "metadata": {
    "execution": {
     "iopub.execute_input": "2025-07-22T07:43:39.755288Z",
     "iopub.status.busy": "2025-07-22T07:43:39.755058Z",
     "iopub.status.idle": "2025-07-22T07:43:40.046076Z",
     "shell.execute_reply": "2025-07-22T07:43:40.045378Z",
     "shell.execute_reply.started": "2025-07-22T07:43:39.755268Z"
    },
    "id": "QgzAvVkL6p-q",
    "trusted": true
   },
   "outputs": [
    {
     "data": {
      "image/png": "[encoded data removed]",
      "text/plain": [
       "<Figure size 600x1000 with 1 Axes>"
      ]
     },
     "metadata": {},
     "output_type": "display_data"
    }
   ],
   "source": [
    "sample = test_raw[0][\"text\"]\n",
    "show_attention_vertical(sample, top_k=25)\n"
   ]
  },
  {
   "cell_type": "markdown",
   "metadata": {},
   "source": [
    "## 🎤 Cell 12: Interactive Attention Demo\n",
    "### Lets the user input any sentence interactively:\n",
    "\n",
    "- The sentence is passed to `show_attention_html()` for prediction and attention visualization.\n",
    "- Allows you to test how the model reacts to your own custom text in real-time.\n"
   ]
  },
  {
   "cell_type": "code",
   "execution_count": 27,
   "metadata": {
    "execution": {
     "iopub.execute_input": "2025-07-22T07:46:25.373421Z",
     "iopub.status.busy": "2025-07-22T07:46:25.372785Z",
     "iopub.status.idle": "2025-07-22T07:46:39.201724Z",
     "shell.execute_reply": "2025-07-22T07:46:39.201136Z",
     "shell.execute_reply.started": "2025-07-22T07:46:25.373397Z"
    },
    "trusted": true
   },
   "outputs": [
    {
     "name": "stdout",
     "output_type": "stream",
     "text": [
      "Type a sentence to analyse:  I think The Joker 2019 is a good movie, worth watching.\n"
     ]
    },
    {
     "data": {
      "text/html": [
       "<p><b>Prediction:</b> POSITIVE  (p=1.00)</p><span style='background:rgb(255,96,96); padding:2px 4px; border-radius:3px; margin:0 1px'>think</span> <span style='background:rgb(255,144,144); padding:2px 4px; border-radius:3px; margin:0 1px'>joker</span> <span style='background:rgb(255,145,145); padding:2px 4px; border-radius:3px; margin:0 1px'>2019</span> <span style='background:rgb(255,42,42); padding:2px 4px; border-radius:3px; margin:0 1px'>good</span> <span style='background:rgb(255,0,0); padding:2px 4px; border-radius:3px; margin:0 1px'>movie</span> <span style='background:rgb(255,8,8); padding:2px 4px; border-radius:3px; margin:0 1px'>worth</span> <span style='background:rgb(255,37,37); padding:2px 4px; border-radius:3px; margin:0 1px'>watching</span>"
      ],
      "text/plain": [
       "<IPython.core.display.HTML object>"
      ]
     },
     "metadata": {},
     "output_type": "display_data"
    }
   ],
   "source": [
    "text = input(\"Type a sentence to analyse: \")\n",
    "show_attention_html(text)\n"
   ]
  },
  {
   "cell_type": "markdown",
   "metadata": {},
   "source": [
    "### Contributed by: Yazan Alshoibi"
   ]
  },
  {
   "cell_type": "markdown",
   "metadata": {},
   "source": []
  }
 ],
 "metadata": {
  "accelerator": "GPU",
  "colab": {
   "gpuType": "T4",
   "provenance": []
  },
  "kaggle": {
   "accelerator": "gpu",
   "dataSources": [],
   "dockerImageVersionId": 31090,
   "isGpuEnabled": true,
   "isInternetEnabled": true,
   "language": "python",
   "sourceType": "notebook"
  },
  "kernelspec": {
   "display_name": "Python 3",
   "language": "python",
   "name": "python3"
  },
  "language_info": {
   "codemirror_mode": {
    "name": "ipython",
    "version": 3
   },
   "file_extension": ".py",
   "mimetype": "text/x-python",
   "name": "python",
   "nbconvert_exporter": "python",
   "pygments_lexer": "ipython3",
   "version": "3.11.13"
  },
  "widgets": {
   "application/vnd.jupyter.widget-state+json": {
    "04d0f2b8bdb04f40b4c4cc3c62736df8": {
     "model_module": "@jupyter-widgets/base",
     "model_module_version": "1.2.0",
     "model_name": "LayoutModel",
     "state": {
      "_model_module": "@jupyter-widgets/base",
      "_model_module_version": "1.2.0",
      "_model_name": "LayoutModel",
      "_view_count": null,
      "_view_module": "@jupyter-widgets/base",
      "_view_module_version": "1.2.0",
      "_view_name": "LayoutView",
      "align_content": null,
      "align_items": null,
      "align_self": null,
      "border": null,
      "bottom": null,
      "display": null,
      "flex": null,
      "flex_flow": null,
      "grid_area": null,
      "grid_auto_columns": null,
      "grid_auto_flow": null,
      "grid_auto_rows": null,
      "grid_column": null,
      "grid_gap": null,
      "grid_row": null,
      "grid_template_areas": null,
      "grid_template_columns": null,
      "grid_template_rows": null,
      "height": null,
      "justify_content": null,
      "justify_items": null,
      "left": null,
      "margin": null,
      "max_height": null,
      "max_width": null,
      "min_height": null,
      "min_width": null,
      "object_fit": null,
      "object_position": null,
      "order": null,
      "overflow": null,
      "overflow_x": null,
      "overflow_y": null,
      "padding": null,
      "right": null,
      "top": null,
      "visibility": null,
      "width": null
     }
    },
    "0b677f85d52a4e80a2743c79b0d0af36": {
     "model_module": "@jupyter-widgets/controls",
     "model_module_version": "1.5.0",
     "model_name": "ProgressStyleModel",
     "state": {
      "_model_module": "@jupyter-widgets/controls",
      "_model_module_version": "1.5.0",
      "_model_name": "ProgressStyleModel",
      "_view_count": null,
      "_view_module": "@jupyter-widgets/base",
      "_view_module_version": "1.2.0",
      "_view_name": "StyleView",
      "bar_color": null,
      "description_width": ""
     }
    },
    "0bee4f8bbd13462a93f1e0f811719176": {
     "model_module": "@jupyter-widgets/controls",
     "model_module_version": "1.5.0",
     "model_name": "ProgressStyleModel",
     "state": {
      "_model_module": "@jupyter-widgets/controls",
      "_model_module_version": "1.5.0",
      "_model_name": "ProgressStyleModel",
      "_view_count": null,
      "_view_module": "@jupyter-widgets/base",
      "_view_module_version": "1.2.0",
      "_view_name": "StyleView",
      "bar_color": null,
      "description_width": ""
     }
    },
    "11748f212b7e48d48834c68b9a71c3a8": {
     "model_module": "@jupyter-widgets/controls",
     "model_module_version": "1.5.0",
     "model_name": "HTMLModel",
     "state": {
      "_dom_classes": [],
      "_model_module": "@jupyter-widgets/controls",
      "_model_module_version": "1.5.0",
      "_model_name": "HTMLModel",
      "_view_count": null,
      "_view_module": "@jupyter-widgets/controls",
      "_view_module_version": "1.5.0",
      "_view_name": "HTMLView",
      "description": "",
      "description_tooltip": null,
      "layout": "IPY_MODEL_d922056066a24fe495d09d75c9c943dd",
      "placeholder": "​",
      "style": "IPY_MODEL_bff891ec8b6449598dfce8e74a66f334",
      "value": " 782/782 [00:21&lt;00:00, 38.73it/s]"
     }
    },
    "11b1c03ec04e4a54a660981ddda2c403": {
     "model_module": "@jupyter-widgets/controls",
     "model_module_version": "1.5.0",
     "model_name": "HTMLModel",
     "state": {
      "_dom_classes": [],
      "_model_module": "@jupyter-widgets/controls",
      "_model_module_version": "1.5.0",
      "_model_name": "HTMLModel",
      "_view_count": null,
      "_view_module": "@jupyter-widgets/controls",
      "_view_module_version": "1.5.0",
      "_view_name": "HTMLView",
      "description": "",
      "description_tooltip": null,
      "layout": "IPY_MODEL_fb8f0035c33e40fd91a4483f2ce33b51",
      "placeholder": "​",
      "style": "IPY_MODEL_f196a4c6af2543fba9613c4b69f495ff",
      "value": " 782/782 [00:21&lt;00:00, 38.38it/s]"
     }
    },
    "18d8eec60af344ed845b24c33e242ae4": {
     "model_module": "@jupyter-widgets/controls",
     "model_module_version": "1.5.0",
     "model_name": "FloatProgressModel",
     "state": {
      "_dom_classes": [],
      "_model_module": "@jupyter-widgets/controls",
      "_model_module_version": "1.5.0",
      "_model_name": "FloatProgressModel",
      "_view_count": null,
      "_view_module": "@jupyter-widgets/controls",
      "_view_module_version": "1.5.0",
      "_view_name": "ProgressView",
      "bar_style": "success",
      "description": "",
      "description_tooltip": null,
      "layout": "IPY_MODEL_5ecea69e1ff441b2bdf0185ec0980006",
      "max": 782,
      "min": 0,
      "orientation": "horizontal",
      "style": "IPY_MODEL_9e71195d9e824ddcbc041715c7a1e098",
      "value": 782
     }
    },
    "19010d3d388a4c9694e09fe563639c75": {
     "model_module": "@jupyter-widgets/base",
     "model_module_version": "1.2.0",
     "model_name": "LayoutModel",
     "state": {
      "_model_module": "@jupyter-widgets/base",
      "_model_module_version": "1.2.0",
      "_model_name": "LayoutModel",
      "_view_count": null,
      "_view_module": "@jupyter-widgets/base",
      "_view_module_version": "1.2.0",
      "_view_name": "LayoutView",
      "align_content": null,
      "align_items": null,
      "align_self": null,
      "border": null,
      "bottom": null,
      "display": null,
      "flex": null,
      "flex_flow": null,
      "grid_area": null,
      "grid_auto_columns": null,
      "grid_auto_flow": null,
      "grid_auto_rows": null,
      "grid_column": null,
      "grid_gap": null,
      "grid_row": null,
      "grid_template_areas": null,
      "grid_template_columns": null,
      "grid_template_rows": null,
      "height": null,
      "justify_content": null,
      "justify_items": null,
      "left": null,
      "margin": null,
      "max_height": null,
      "max_width": null,
      "min_height": null,
      "min_width": null,
      "object_fit": null,
      "object_position": null,
      "order": null,
      "overflow": null,
      "overflow_x": null,
      "overflow_y": null,
      "padding": null,
      "right": null,
      "top": null,
      "visibility": null,
      "width": null
     }
    },
    "210405a7fc3841438f25436d2bef6127": {
     "model_module": "@jupyter-widgets/base",
     "model_module_version": "1.2.0",
     "model_name": "LayoutModel",
     "state": {
      "_model_module": "@jupyter-widgets/base",
      "_model_module_version": "1.2.0",
      "_model_name": "LayoutModel",
      "_view_count": null,
      "_view_module": "@jupyter-widgets/base",
      "_view_module_version": "1.2.0",
      "_view_name": "LayoutView",
      "align_content": null,
      "align_items": null,
      "align_self": null,
      "border": null,
      "bottom": null,
      "display": null,
      "flex": null,
      "flex_flow": null,
      "grid_area": null,
      "grid_auto_columns": null,
      "grid_auto_flow": null,
      "grid_auto_rows": null,
      "grid_column": null,
      "grid_gap": null,
      "grid_row": null,
      "grid_template_areas": null,
      "grid_template_columns": null,
      "grid_template_rows": null,
      "height": null,
      "justify_content": null,
      "justify_items": null,
      "left": null,
      "margin": null,
      "max_height": null,
      "max_width": null,
      "min_height": null,
      "min_width": null,
      "object_fit": null,
      "object_position": null,
      "order": null,
      "overflow": null,
      "overflow_x": null,
      "overflow_y": null,
      "padding": null,
      "right": null,
      "top": null,
      "visibility": null,
      "width": null
     }
    },
    "225f6a4cef1b4b84b831d77f2035a7da": {
     "model_module": "@jupyter-widgets/controls",
     "model_module_version": "1.5.0",
     "model_name": "DescriptionStyleModel",
     "state": {
      "_model_module": "@jupyter-widgets/controls",
      "_model_module_version": "1.5.0",
      "_model_name": "DescriptionStyleModel",
      "_view_count": null,
      "_view_module": "@jupyter-widgets/base",
      "_view_module_version": "1.2.0",
      "_view_name": "StyleView",
      "description_width": ""
     }
    },
    "2770792e637b435f893ef9ef0d45aec4": {
     "model_module": "@jupyter-widgets/controls",
     "model_module_version": "1.5.0",
     "model_name": "HTMLModel",
     "state": {
      "_dom_classes": [],
      "_model_module": "@jupyter-widgets/controls",
      "_model_module_version": "1.5.0",
      "_model_name": "HTMLModel",
      "_view_count": null,
      "_view_module": "@jupyter-widgets/controls",
      "_view_module_version": "1.5.0",
      "_view_name": "HTMLView",
      "description": "",
      "description_tooltip": null,
      "layout": "IPY_MODEL_c4ef266df810441bb4123bab22485ccd",
      "placeholder": "​",
      "style": "IPY_MODEL_3576bc84d89947efb36d85a93778652e",
      "value": "Epoch 5: 100%"
     }
    },
    "2c7b3bcfbf1b4327a5dc8a07503ff2c6": {
     "model_module": "@jupyter-widgets/base",
     "model_module_version": "1.2.0",
     "model_name": "LayoutModel",
     "state": {
      "_model_module": "@jupyter-widgets/base",
      "_model_module_version": "1.2.0",
      "_model_name": "LayoutModel",
      "_view_count": null,
      "_view_module": "@jupyter-widgets/base",
      "_view_module_version": "1.2.0",
      "_view_name": "LayoutView",
      "align_content": null,
      "align_items": null,
      "align_self": null,
      "border": null,
      "bottom": null,
      "display": null,
      "flex": null,
      "flex_flow": null,
      "grid_area": null,
      "grid_auto_columns": null,
      "grid_auto_flow": null,
      "grid_auto_rows": null,
      "grid_column": null,
      "grid_gap": null,
      "grid_row": null,
      "grid_template_areas": null,
      "grid_template_columns": null,
      "grid_template_rows": null,
      "height": null,
      "justify_content": null,
      "justify_items": null,
      "left": null,
      "margin": null,
      "max_height": null,
      "max_width": null,
      "min_height": null,
      "min_width": null,
      "object_fit": null,
      "object_position": null,
      "order": null,
      "overflow": null,
      "overflow_x": null,
      "overflow_y": null,
      "padding": null,
      "right": null,
      "top": null,
      "visibility": null,
      "width": null
     }
    },
    "324c1ac55876421bb60e51eacb7a2108": {
     "model_module": "@jupyter-widgets/controls",
     "model_module_version": "1.5.0",
     "model_name": "HTMLModel",
     "state": {
      "_dom_classes": [],
      "_model_module": "@jupyter-widgets/controls",
      "_model_module_version": "1.5.0",
      "_model_name": "HTMLModel",
      "_view_count": null,
      "_view_module": "@jupyter-widgets/controls",
      "_view_module_version": "1.5.0",
      "_view_name": "HTMLView",
      "description": "",
      "description_tooltip": null,
      "layout": "IPY_MODEL_b1d6cb55b4bf4bae9a9e8d403d5916ec",
      "placeholder": "​",
      "style": "IPY_MODEL_225f6a4cef1b4b84b831d77f2035a7da",
      "value": "Epoch 3: 100%"
     }
    },
    "354831e74d804fe6a240d6383d10d305": {
     "model_module": "@jupyter-widgets/controls",
     "model_module_version": "1.5.0",
     "model_name": "DescriptionStyleModel",
     "state": {
      "_model_module": "@jupyter-widgets/controls",
      "_model_module_version": "1.5.0",
      "_model_name": "DescriptionStyleModel",
      "_view_count": null,
      "_view_module": "@jupyter-widgets/base",
      "_view_module_version": "1.2.0",
      "_view_name": "StyleView",
      "description_width": ""
     }
    },
    "3576bc84d89947efb36d85a93778652e": {
     "model_module": "@jupyter-widgets/controls",
     "model_module_version": "1.5.0",
     "model_name": "DescriptionStyleModel",
     "state": {
      "_model_module": "@jupyter-widgets/controls",
      "_model_module_version": "1.5.0",
      "_model_name": "DescriptionStyleModel",
      "_view_count": null,
      "_view_module": "@jupyter-widgets/base",
      "_view_module_version": "1.2.0",
      "_view_name": "StyleView",
      "description_width": ""
     }
    },
    "38247c44580a4268b9756bf1886a5a50": {
     "model_module": "@jupyter-widgets/base",
     "model_module_version": "1.2.0",
     "model_name": "LayoutModel",
     "state": {
      "_model_module": "@jupyter-widgets/base",
      "_model_module_version": "1.2.0",
      "_model_name": "LayoutModel",
      "_view_count": null,
      "_view_module": "@jupyter-widgets/base",
      "_view_module_version": "1.2.0",
      "_view_name": "LayoutView",
      "align_content": null,
      "align_items": null,
      "align_self": null,
      "border": null,
      "bottom": null,
      "display": null,
      "flex": null,
      "flex_flow": null,
      "grid_area": null,
      "grid_auto_columns": null,
      "grid_auto_flow": null,
      "grid_auto_rows": null,
      "grid_column": null,
      "grid_gap": null,
      "grid_row": null,
      "grid_template_areas": null,
      "grid_template_columns": null,
      "grid_template_rows": null,
      "height": null,
      "justify_content": null,
      "justify_items": null,
      "left": null,
      "margin": null,
      "max_height": null,
      "max_width": null,
      "min_height": null,
      "min_width": null,
      "object_fit": null,
      "object_position": null,
      "order": null,
      "overflow": null,
      "overflow_x": null,
      "overflow_y": null,
      "padding": null,
      "right": null,
      "top": null,
      "visibility": null,
      "width": null
     }
    },
    "3b5b387f509f465aa7e8449662b7be78": {
     "model_module": "@jupyter-widgets/controls",
     "model_module_version": "1.5.0",
     "model_name": "FloatProgressModel",
     "state": {
      "_dom_classes": [],
      "_model_module": "@jupyter-widgets/controls",
      "_model_module_version": "1.5.0",
      "_model_name": "FloatProgressModel",
      "_view_count": null,
      "_view_module": "@jupyter-widgets/controls",
      "_view_module_version": "1.5.0",
      "_view_name": "ProgressView",
      "bar_style": "success",
      "description": "",
      "description_tooltip": null,
      "layout": "IPY_MODEL_ae3c81b1730f45c284ba845bb94d7c45",
      "max": 782,
      "min": 0,
      "orientation": "horizontal",
      "style": "IPY_MODEL_53f2f9b5fa8b4e459bf136d7081c59d0",
      "value": 782
     }
    },
    "41c50d18e9c94dd2a28b3a39720e75b5": {
     "model_module": "@jupyter-widgets/controls",
     "model_module_version": "1.5.0",
     "model_name": "HTMLModel",
     "state": {
      "_dom_classes": [],
      "_model_module": "@jupyter-widgets/controls",
      "_model_module_version": "1.5.0",
      "_model_name": "HTMLModel",
      "_view_count": null,
      "_view_module": "@jupyter-widgets/controls",
      "_view_module_version": "1.5.0",
      "_view_name": "HTMLView",
      "description": "",
      "description_tooltip": null,
      "layout": "IPY_MODEL_8fa6ba2ad21c4b47948014fa8a09b993",
      "placeholder": "​",
      "style": "IPY_MODEL_fce7d5c47a4a4fa9a3b2391ae4f8400e",
      "value": " 782/782 [00:21&lt;00:00, 39.18it/s]"
     }
    },
    "51ec965959d8414a80f0e4331c46b37c": {
     "model_module": "@jupyter-widgets/base",
     "model_module_version": "1.2.0",
     "model_name": "LayoutModel",
     "state": {
      "_model_module": "@jupyter-widgets/base",
      "_model_module_version": "1.2.0",
      "_model_name": "LayoutModel",
      "_view_count": null,
      "_view_module": "@jupyter-widgets/base",
      "_view_module_version": "1.2.0",
      "_view_name": "LayoutView",
      "align_content": null,
      "align_items": null,
      "align_self": null,
      "border": null,
      "bottom": null,
      "display": null,
      "flex": null,
      "flex_flow": null,
      "grid_area": null,
      "grid_auto_columns": null,
      "grid_auto_flow": null,
      "grid_auto_rows": null,
      "grid_column": null,
      "grid_gap": null,
      "grid_row": null,
      "grid_template_areas": null,
      "grid_template_columns": null,
      "grid_template_rows": null,
      "height": null,
      "justify_content": null,
      "justify_items": null,
      "left": null,
      "margin": null,
      "max_height": null,
      "max_width": null,
      "min_height": null,
      "min_width": null,
      "object_fit": null,
      "object_position": null,
      "order": null,
      "overflow": null,
      "overflow_x": null,
      "overflow_y": null,
      "padding": null,
      "right": null,
      "top": null,
      "visibility": null,
      "width": null
     }
    },
    "53f2f9b5fa8b4e459bf136d7081c59d0": {
     "model_module": "@jupyter-widgets/controls",
     "model_module_version": "1.5.0",
     "model_name": "ProgressStyleModel",
     "state": {
      "_model_module": "@jupyter-widgets/controls",
      "_model_module_version": "1.5.0",
      "_model_name": "ProgressStyleModel",
      "_view_count": null,
      "_view_module": "@jupyter-widgets/base",
      "_view_module_version": "1.2.0",
      "_view_name": "StyleView",
      "bar_color": null,
      "description_width": ""
     }
    },
    "57cb61c75e1a4fa497685c9db5c102c0": {
     "model_module": "@jupyter-widgets/base",
     "model_module_version": "1.2.0",
     "model_name": "LayoutModel",
     "state": {
      "_model_module": "@jupyter-widgets/base",
      "_model_module_version": "1.2.0",
      "_model_name": "LayoutModel",
      "_view_count": null,
      "_view_module": "@jupyter-widgets/base",
      "_view_module_version": "1.2.0",
      "_view_name": "LayoutView",
      "align_content": null,
      "align_items": null,
      "align_self": null,
      "border": null,
      "bottom": null,
      "display": null,
      "flex": null,
      "flex_flow": null,
      "grid_area": null,
      "grid_auto_columns": null,
      "grid_auto_flow": null,
      "grid_auto_rows": null,
      "grid_column": null,
      "grid_gap": null,
      "grid_row": null,
      "grid_template_areas": null,
      "grid_template_columns": null,
      "grid_template_rows": null,
      "height": null,
      "justify_content": null,
      "justify_items": null,
      "left": null,
      "margin": null,
      "max_height": null,
      "max_width": null,
      "min_height": null,
      "min_width": null,
      "object_fit": null,
      "object_position": null,
      "order": null,
      "overflow": null,
      "overflow_x": null,
      "overflow_y": null,
      "padding": null,
      "right": null,
      "top": null,
      "visibility": null,
      "width": null
     }
    },
    "596b0336d39e45e78ca2c6932d097535": {
     "model_module": "@jupyter-widgets/controls",
     "model_module_version": "1.5.0",
     "model_name": "DescriptionStyleModel",
     "state": {
      "_model_module": "@jupyter-widgets/controls",
      "_model_module_version": "1.5.0",
      "_model_name": "DescriptionStyleModel",
      "_view_count": null,
      "_view_module": "@jupyter-widgets/base",
      "_view_module_version": "1.2.0",
      "_view_name": "StyleView",
      "description_width": ""
     }
    },
    "5d481669a7dd4218b55e4f7f8084e0c0": {
     "model_module": "@jupyter-widgets/base",
     "model_module_version": "1.2.0",
     "model_name": "LayoutModel",
     "state": {
      "_model_module": "@jupyter-widgets/base",
      "_model_module_version": "1.2.0",
      "_model_name": "LayoutModel",
      "_view_count": null,
      "_view_module": "@jupyter-widgets/base",
      "_view_module_version": "1.2.0",
      "_view_name": "LayoutView",
      "align_content": null,
      "align_items": null,
      "align_self": null,
      "border": null,
      "bottom": null,
      "display": null,
      "flex": null,
      "flex_flow": null,
      "grid_area": null,
      "grid_auto_columns": null,
      "grid_auto_flow": null,
      "grid_auto_rows": null,
      "grid_column": null,
      "grid_gap": null,
      "grid_row": null,
      "grid_template_areas": null,
      "grid_template_columns": null,
      "grid_template_rows": null,
      "height": null,
      "justify_content": null,
      "justify_items": null,
      "left": null,
      "margin": null,
      "max_height": null,
      "max_width": null,
      "min_height": null,
      "min_width": null,
      "object_fit": null,
      "object_position": null,
      "order": null,
      "overflow": null,
      "overflow_x": null,
      "overflow_y": null,
      "padding": null,
      "right": null,
      "top": null,
      "visibility": null,
      "width": null
     }
    },
    "5ecea69e1ff441b2bdf0185ec0980006": {
     "model_module": "@jupyter-widgets/base",
     "model_module_version": "1.2.0",
     "model_name": "LayoutModel",
     "state": {
      "_model_module": "@jupyter-widgets/base",
      "_model_module_version": "1.2.0",
      "_model_name": "LayoutModel",
      "_view_count": null,
      "_view_module": "@jupyter-widgets/base",
      "_view_module_version": "1.2.0",
      "_view_name": "LayoutView",
      "align_content": null,
      "align_items": null,
      "align_self": null,
      "border": null,
      "bottom": null,
      "display": null,
      "flex": null,
      "flex_flow": null,
      "grid_area": null,
      "grid_auto_columns": null,
      "grid_auto_flow": null,
      "grid_auto_rows": null,
      "grid_column": null,
      "grid_gap": null,
      "grid_row": null,
      "grid_template_areas": null,
      "grid_template_columns": null,
      "grid_template_rows": null,
      "height": null,
      "justify_content": null,
      "justify_items": null,
      "left": null,
      "margin": null,
      "max_height": null,
      "max_width": null,
      "min_height": null,
      "min_width": null,
      "object_fit": null,
      "object_position": null,
      "order": null,
      "overflow": null,
      "overflow_x": null,
      "overflow_y": null,
      "padding": null,
      "right": null,
      "top": null,
      "visibility": null,
      "width": null
     }
    },
    "60e3b238e7a54392ba6f15520b5aaa86": {
     "model_module": "@jupyter-widgets/base",
     "model_module_version": "1.2.0",
     "model_name": "LayoutModel",
     "state": {
      "_model_module": "@jupyter-widgets/base",
      "_model_module_version": "1.2.0",
      "_model_name": "LayoutModel",
      "_view_count": null,
      "_view_module": "@jupyter-widgets/base",
      "_view_module_version": "1.2.0",
      "_view_name": "LayoutView",
      "align_content": null,
      "align_items": null,
      "align_self": null,
      "border": null,
      "bottom": null,
      "display": null,
      "flex": null,
      "flex_flow": null,
      "grid_area": null,
      "grid_auto_columns": null,
      "grid_auto_flow": null,
      "grid_auto_rows": null,
      "grid_column": null,
      "grid_gap": null,
      "grid_row": null,
      "grid_template_areas": null,
      "grid_template_columns": null,
      "grid_template_rows": null,
      "height": null,
      "justify_content": null,
      "justify_items": null,
      "left": null,
      "margin": null,
      "max_height": null,
      "max_width": null,
      "min_height": null,
      "min_width": null,
      "object_fit": null,
      "object_position": null,
      "order": null,
      "overflow": null,
      "overflow_x": null,
      "overflow_y": null,
      "padding": null,
      "right": null,
      "top": null,
      "visibility": null,
      "width": null
     }
    },
    "6499f7f58d3f4348b4c7afee51310682": {
     "model_module": "@jupyter-widgets/controls",
     "model_module_version": "1.5.0",
     "model_name": "ProgressStyleModel",
     "state": {
      "_model_module": "@jupyter-widgets/controls",
      "_model_module_version": "1.5.0",
      "_model_name": "ProgressStyleModel",
      "_view_count": null,
      "_view_module": "@jupyter-widgets/base",
      "_view_module_version": "1.2.0",
      "_view_name": "StyleView",
      "bar_color": null,
      "description_width": ""
     }
    },
    "657c9ca171e14434aefd888db5eeb93d": {
     "model_module": "@jupyter-widgets/controls",
     "model_module_version": "1.5.0",
     "model_name": "FloatProgressModel",
     "state": {
      "_dom_classes": [],
      "_model_module": "@jupyter-widgets/controls",
      "_model_module_version": "1.5.0",
      "_model_name": "FloatProgressModel",
      "_view_count": null,
      "_view_module": "@jupyter-widgets/controls",
      "_view_module_version": "1.5.0",
      "_view_name": "ProgressView",
      "bar_style": "success",
      "description": "",
      "description_tooltip": null,
      "layout": "IPY_MODEL_57cb61c75e1a4fa497685c9db5c102c0",
      "max": 782,
      "min": 0,
      "orientation": "horizontal",
      "style": "IPY_MODEL_0b677f85d52a4e80a2743c79b0d0af36",
      "value": 782
     }
    },
    "6c517d09b4184e79ba16b8c1fb87b86d": {
     "model_module": "@jupyter-widgets/controls",
     "model_module_version": "1.5.0",
     "model_name": "HBoxModel",
     "state": {
      "_dom_classes": [],
      "_model_module": "@jupyter-widgets/controls",
      "_model_module_version": "1.5.0",
      "_model_name": "HBoxModel",
      "_view_count": null,
      "_view_module": "@jupyter-widgets/controls",
      "_view_module_version": "1.5.0",
      "_view_name": "HBoxView",
      "box_style": "",
      "children": [
       "IPY_MODEL_c9925bf701dd4554b5d188c534d077fe",
       "IPY_MODEL_3b5b387f509f465aa7e8449662b7be78",
       "IPY_MODEL_41c50d18e9c94dd2a28b3a39720e75b5"
      ],
      "layout": "IPY_MODEL_60e3b238e7a54392ba6f15520b5aaa86"
     }
    },
    "6d3ee021621f447abc894f34d7f28f1f": {
     "model_module": "@jupyter-widgets/controls",
     "model_module_version": "1.5.0",
     "model_name": "HBoxModel",
     "state": {
      "_dom_classes": [],
      "_model_module": "@jupyter-widgets/controls",
      "_model_module_version": "1.5.0",
      "_model_name": "HBoxModel",
      "_view_count": null,
      "_view_module": "@jupyter-widgets/controls",
      "_view_module_version": "1.5.0",
      "_view_name": "HBoxView",
      "box_style": "",
      "children": [
       "IPY_MODEL_2770792e637b435f893ef9ef0d45aec4",
       "IPY_MODEL_700cc3e32501457aba80395c11cf732e",
       "IPY_MODEL_11b1c03ec04e4a54a660981ddda2c403"
      ],
      "layout": "IPY_MODEL_e6908836912146a7ab0bde28aef4f918"
     }
    },
    "6dbb2dc465d94e78a983d7ac6ad00f75": {
     "model_module": "@jupyter-widgets/controls",
     "model_module_version": "1.5.0",
     "model_name": "HBoxModel",
     "state": {
      "_dom_classes": [],
      "_model_module": "@jupyter-widgets/controls",
      "_model_module_version": "1.5.0",
      "_model_name": "HBoxModel",
      "_view_count": null,
      "_view_module": "@jupyter-widgets/controls",
      "_view_module_version": "1.5.0",
      "_view_name": "HBoxView",
      "box_style": "",
      "children": [
       "IPY_MODEL_916fedd2cd234c4a9773e9df3776ac00",
       "IPY_MODEL_18d8eec60af344ed845b24c33e242ae4",
       "IPY_MODEL_d77dbf67eb1a440b905af1fbbcd0b67b"
      ],
      "layout": "IPY_MODEL_38247c44580a4268b9756bf1886a5a50"
     }
    },
    "700cc3e32501457aba80395c11cf732e": {
     "model_module": "@jupyter-widgets/controls",
     "model_module_version": "1.5.0",
     "model_name": "FloatProgressModel",
     "state": {
      "_dom_classes": [],
      "_model_module": "@jupyter-widgets/controls",
      "_model_module_version": "1.5.0",
      "_model_name": "FloatProgressModel",
      "_view_count": null,
      "_view_module": "@jupyter-widgets/controls",
      "_view_module_version": "1.5.0",
      "_view_name": "ProgressView",
      "bar_style": "success",
      "description": "",
      "description_tooltip": null,
      "layout": "IPY_MODEL_210405a7fc3841438f25436d2bef6127",
      "max": 782,
      "min": 0,
      "orientation": "horizontal",
      "style": "IPY_MODEL_0bee4f8bbd13462a93f1e0f811719176",
      "value": 782
     }
    },
    "7bad71a273574df3a0166730ca6706d9": {
     "model_module": "@jupyter-widgets/base",
     "model_module_version": "1.2.0",
     "model_name": "LayoutModel",
     "state": {
      "_model_module": "@jupyter-widgets/base",
      "_model_module_version": "1.2.0",
      "_model_name": "LayoutModel",
      "_view_count": null,
      "_view_module": "@jupyter-widgets/base",
      "_view_module_version": "1.2.0",
      "_view_name": "LayoutView",
      "align_content": null,
      "align_items": null,
      "align_self": null,
      "border": null,
      "bottom": null,
      "display": null,
      "flex": null,
      "flex_flow": null,
      "grid_area": null,
      "grid_auto_columns": null,
      "grid_auto_flow": null,
      "grid_auto_rows": null,
      "grid_column": null,
      "grid_gap": null,
      "grid_row": null,
      "grid_template_areas": null,
      "grid_template_columns": null,
      "grid_template_rows": null,
      "height": null,
      "justify_content": null,
      "justify_items": null,
      "left": null,
      "margin": null,
      "max_height": null,
      "max_width": null,
      "min_height": null,
      "min_width": null,
      "object_fit": null,
      "object_position": null,
      "order": null,
      "overflow": null,
      "overflow_x": null,
      "overflow_y": null,
      "padding": null,
      "right": null,
      "top": null,
      "visibility": null,
      "width": null
     }
    },
    "8fa6ba2ad21c4b47948014fa8a09b993": {
     "model_module": "@jupyter-widgets/base",
     "model_module_version": "1.2.0",
     "model_name": "LayoutModel",
     "state": {
      "_model_module": "@jupyter-widgets/base",
      "_model_module_version": "1.2.0",
      "_model_name": "LayoutModel",
      "_view_count": null,
      "_view_module": "@jupyter-widgets/base",
      "_view_module_version": "1.2.0",
      "_view_name": "LayoutView",
      "align_content": null,
      "align_items": null,
      "align_self": null,
      "border": null,
      "bottom": null,
      "display": null,
      "flex": null,
      "flex_flow": null,
      "grid_area": null,
      "grid_auto_columns": null,
      "grid_auto_flow": null,
      "grid_auto_rows": null,
      "grid_column": null,
      "grid_gap": null,
      "grid_row": null,
      "grid_template_areas": null,
      "grid_template_columns": null,
      "grid_template_rows": null,
      "height": null,
      "justify_content": null,
      "justify_items": null,
      "left": null,
      "margin": null,
      "max_height": null,
      "max_width": null,
      "min_height": null,
      "min_width": null,
      "object_fit": null,
      "object_position": null,
      "order": null,
      "overflow": null,
      "overflow_x": null,
      "overflow_y": null,
      "padding": null,
      "right": null,
      "top": null,
      "visibility": null,
      "width": null
     }
    },
    "916fedd2cd234c4a9773e9df3776ac00": {
     "model_module": "@jupyter-widgets/controls",
     "model_module_version": "1.5.0",
     "model_name": "HTMLModel",
     "state": {
      "_dom_classes": [],
      "_model_module": "@jupyter-widgets/controls",
      "_model_module_version": "1.5.0",
      "_model_name": "HTMLModel",
      "_view_count": null,
      "_view_module": "@jupyter-widgets/controls",
      "_view_module_version": "1.5.0",
      "_view_name": "HTMLView",
      "description": "",
      "description_tooltip": null,
      "layout": "IPY_MODEL_19010d3d388a4c9694e09fe563639c75",
      "placeholder": "​",
      "style": "IPY_MODEL_a8b4bd3d158c43959a58224946e58990",
      "value": "Epoch 1: 100%"
     }
    },
    "94d82769d6ea4ce19138e35b6bd0930d": {
     "model_module": "@jupyter-widgets/base",
     "model_module_version": "1.2.0",
     "model_name": "LayoutModel",
     "state": {
      "_model_module": "@jupyter-widgets/base",
      "_model_module_version": "1.2.0",
      "_model_name": "LayoutModel",
      "_view_count": null,
      "_view_module": "@jupyter-widgets/base",
      "_view_module_version": "1.2.0",
      "_view_name": "LayoutView",
      "align_content": null,
      "align_items": null,
      "align_self": null,
      "border": null,
      "bottom": null,
      "display": null,
      "flex": null,
      "flex_flow": null,
      "grid_area": null,
      "grid_auto_columns": null,
      "grid_auto_flow": null,
      "grid_auto_rows": null,
      "grid_column": null,
      "grid_gap": null,
      "grid_row": null,
      "grid_template_areas": null,
      "grid_template_columns": null,
      "grid_template_rows": null,
      "height": null,
      "justify_content": null,
      "justify_items": null,
      "left": null,
      "margin": null,
      "max_height": null,
      "max_width": null,
      "min_height": null,
      "min_width": null,
      "object_fit": null,
      "object_position": null,
      "order": null,
      "overflow": null,
      "overflow_x": null,
      "overflow_y": null,
      "padding": null,
      "right": null,
      "top": null,
      "visibility": null,
      "width": null
     }
    },
    "9e71195d9e824ddcbc041715c7a1e098": {
     "model_module": "@jupyter-widgets/controls",
     "model_module_version": "1.5.0",
     "model_name": "ProgressStyleModel",
     "state": {
      "_model_module": "@jupyter-widgets/controls",
      "_model_module_version": "1.5.0",
      "_model_name": "ProgressStyleModel",
      "_view_count": null,
      "_view_module": "@jupyter-widgets/base",
      "_view_module_version": "1.2.0",
      "_view_name": "StyleView",
      "bar_color": null,
      "description_width": ""
     }
    },
    "a8b4bd3d158c43959a58224946e58990": {
     "model_module": "@jupyter-widgets/controls",
     "model_module_version": "1.5.0",
     "model_name": "DescriptionStyleModel",
     "state": {
      "_model_module": "@jupyter-widgets/controls",
      "_model_module_version": "1.5.0",
      "_model_name": "DescriptionStyleModel",
      "_view_count": null,
      "_view_module": "@jupyter-widgets/base",
      "_view_module_version": "1.2.0",
      "_view_name": "StyleView",
      "description_width": ""
     }
    },
    "a99642cc8f544e6cb4c5445a7854bcc1": {
     "model_module": "@jupyter-widgets/controls",
     "model_module_version": "1.5.0",
     "model_name": "HTMLModel",
     "state": {
      "_dom_classes": [],
      "_model_module": "@jupyter-widgets/controls",
      "_model_module_version": "1.5.0",
      "_model_name": "HTMLModel",
      "_view_count": null,
      "_view_module": "@jupyter-widgets/controls",
      "_view_module_version": "1.5.0",
      "_view_name": "HTMLView",
      "description": "",
      "description_tooltip": null,
      "layout": "IPY_MODEL_f656bc1098d241f2976d41a14215d63a",
      "placeholder": "​",
      "style": "IPY_MODEL_596b0336d39e45e78ca2c6932d097535",
      "value": "Epoch 4: 100%"
     }
    },
    "aa97d98d50d940a4afc34ff49dac7e3c": {
     "model_module": "@jupyter-widgets/controls",
     "model_module_version": "1.5.0",
     "model_name": "HBoxModel",
     "state": {
      "_dom_classes": [],
      "_model_module": "@jupyter-widgets/controls",
      "_model_module_version": "1.5.0",
      "_model_name": "HBoxModel",
      "_view_count": null,
      "_view_module": "@jupyter-widgets/controls",
      "_view_module_version": "1.5.0",
      "_view_name": "HBoxView",
      "box_style": "",
      "children": [
       "IPY_MODEL_324c1ac55876421bb60e51eacb7a2108",
       "IPY_MODEL_657c9ca171e14434aefd888db5eeb93d",
       "IPY_MODEL_11748f212b7e48d48834c68b9a71c3a8"
      ],
      "layout": "IPY_MODEL_2c7b3bcfbf1b4327a5dc8a07503ff2c6"
     }
    },
    "ae3c81b1730f45c284ba845bb94d7c45": {
     "model_module": "@jupyter-widgets/base",
     "model_module_version": "1.2.0",
     "model_name": "LayoutModel",
     "state": {
      "_model_module": "@jupyter-widgets/base",
      "_model_module_version": "1.2.0",
      "_model_name": "LayoutModel",
      "_view_count": null,
      "_view_module": "@jupyter-widgets/base",
      "_view_module_version": "1.2.0",
      "_view_name": "LayoutView",
      "align_content": null,
      "align_items": null,
      "align_self": null,
      "border": null,
      "bottom": null,
      "display": null,
      "flex": null,
      "flex_flow": null,
      "grid_area": null,
      "grid_auto_columns": null,
      "grid_auto_flow": null,
      "grid_auto_rows": null,
      "grid_column": null,
      "grid_gap": null,
      "grid_row": null,
      "grid_template_areas": null,
      "grid_template_columns": null,
      "grid_template_rows": null,
      "height": null,
      "justify_content": null,
      "justify_items": null,
      "left": null,
      "margin": null,
      "max_height": null,
      "max_width": null,
      "min_height": null,
      "min_width": null,
      "object_fit": null,
      "object_position": null,
      "order": null,
      "overflow": null,
      "overflow_x": null,
      "overflow_y": null,
      "padding": null,
      "right": null,
      "top": null,
      "visibility": null,
      "width": null
     }
    },
    "b1d6cb55b4bf4bae9a9e8d403d5916ec": {
     "model_module": "@jupyter-widgets/base",
     "model_module_version": "1.2.0",
     "model_name": "LayoutModel",
     "state": {
      "_model_module": "@jupyter-widgets/base",
      "_model_module_version": "1.2.0",
      "_model_name": "LayoutModel",
      "_view_count": null,
      "_view_module": "@jupyter-widgets/base",
      "_view_module_version": "1.2.0",
      "_view_name": "LayoutView",
      "align_content": null,
      "align_items": null,
      "align_self": null,
      "border": null,
      "bottom": null,
      "display": null,
      "flex": null,
      "flex_flow": null,
      "grid_area": null,
      "grid_auto_columns": null,
      "grid_auto_flow": null,
      "grid_auto_rows": null,
      "grid_column": null,
      "grid_gap": null,
      "grid_row": null,
      "grid_template_areas": null,
      "grid_template_columns": null,
      "grid_template_rows": null,
      "height": null,
      "justify_content": null,
      "justify_items": null,
      "left": null,
      "margin": null,
      "max_height": null,
      "max_width": null,
      "min_height": null,
      "min_width": null,
      "object_fit": null,
      "object_position": null,
      "order": null,
      "overflow": null,
      "overflow_x": null,
      "overflow_y": null,
      "padding": null,
      "right": null,
      "top": null,
      "visibility": null,
      "width": null
     }
    },
    "bff891ec8b6449598dfce8e74a66f334": {
     "model_module": "@jupyter-widgets/controls",
     "model_module_version": "1.5.0",
     "model_name": "DescriptionStyleModel",
     "state": {
      "_model_module": "@jupyter-widgets/controls",
      "_model_module_version": "1.5.0",
      "_model_name": "DescriptionStyleModel",
      "_view_count": null,
      "_view_module": "@jupyter-widgets/base",
      "_view_module_version": "1.2.0",
      "_view_name": "StyleView",
      "description_width": ""
     }
    },
    "c29eae66e23d4d0e88b09b9868a47ab6": {
     "model_module": "@jupyter-widgets/controls",
     "model_module_version": "1.5.0",
     "model_name": "DescriptionStyleModel",
     "state": {
      "_model_module": "@jupyter-widgets/controls",
      "_model_module_version": "1.5.0",
      "_model_name": "DescriptionStyleModel",
      "_view_count": null,
      "_view_module": "@jupyter-widgets/base",
      "_view_module_version": "1.2.0",
      "_view_name": "StyleView",
      "description_width": ""
     }
    },
    "c4ef266df810441bb4123bab22485ccd": {
     "model_module": "@jupyter-widgets/base",
     "model_module_version": "1.2.0",
     "model_name": "LayoutModel",
     "state": {
      "_model_module": "@jupyter-widgets/base",
      "_model_module_version": "1.2.0",
      "_model_name": "LayoutModel",
      "_view_count": null,
      "_view_module": "@jupyter-widgets/base",
      "_view_module_version": "1.2.0",
      "_view_name": "LayoutView",
      "align_content": null,
      "align_items": null,
      "align_self": null,
      "border": null,
      "bottom": null,
      "display": null,
      "flex": null,
      "flex_flow": null,
      "grid_area": null,
      "grid_auto_columns": null,
      "grid_auto_flow": null,
      "grid_auto_rows": null,
      "grid_column": null,
      "grid_gap": null,
      "grid_row": null,
      "grid_template_areas": null,
      "grid_template_columns": null,
      "grid_template_rows": null,
      "height": null,
      "justify_content": null,
      "justify_items": null,
      "left": null,
      "margin": null,
      "max_height": null,
      "max_width": null,
      "min_height": null,
      "min_width": null,
      "object_fit": null,
      "object_position": null,
      "order": null,
      "overflow": null,
      "overflow_x": null,
      "overflow_y": null,
      "padding": null,
      "right": null,
      "top": null,
      "visibility": null,
      "width": null
     }
    },
    "c9925bf701dd4554b5d188c534d077fe": {
     "model_module": "@jupyter-widgets/controls",
     "model_module_version": "1.5.0",
     "model_name": "HTMLModel",
     "state": {
      "_dom_classes": [],
      "_model_module": "@jupyter-widgets/controls",
      "_model_module_version": "1.5.0",
      "_model_name": "HTMLModel",
      "_view_count": null,
      "_view_module": "@jupyter-widgets/controls",
      "_view_module_version": "1.5.0",
      "_view_name": "HTMLView",
      "description": "",
      "description_tooltip": null,
      "layout": "IPY_MODEL_94d82769d6ea4ce19138e35b6bd0930d",
      "placeholder": "​",
      "style": "IPY_MODEL_c29eae66e23d4d0e88b09b9868a47ab6",
      "value": "Epoch 2: 100%"
     }
    },
    "ce35cf4895164a9dbe11c61c9708b416": {
     "model_module": "@jupyter-widgets/controls",
     "model_module_version": "1.5.0",
     "model_name": "HTMLModel",
     "state": {
      "_dom_classes": [],
      "_model_module": "@jupyter-widgets/controls",
      "_model_module_version": "1.5.0",
      "_model_name": "HTMLModel",
      "_view_count": null,
      "_view_module": "@jupyter-widgets/controls",
      "_view_module_version": "1.5.0",
      "_view_name": "HTMLView",
      "description": "",
      "description_tooltip": null,
      "layout": "IPY_MODEL_5d481669a7dd4218b55e4f7f8084e0c0",
      "placeholder": "​",
      "style": "IPY_MODEL_d3ff8d0bd94445058c0d335bff55866a",
      "value": " 782/782 [00:21&lt;00:00, 35.72it/s]"
     }
    },
    "d3ff8d0bd94445058c0d335bff55866a": {
     "model_module": "@jupyter-widgets/controls",
     "model_module_version": "1.5.0",
     "model_name": "DescriptionStyleModel",
     "state": {
      "_model_module": "@jupyter-widgets/controls",
      "_model_module_version": "1.5.0",
      "_model_name": "DescriptionStyleModel",
      "_view_count": null,
      "_view_module": "@jupyter-widgets/base",
      "_view_module_version": "1.2.0",
      "_view_name": "StyleView",
      "description_width": ""
     }
    },
    "d77dbf67eb1a440b905af1fbbcd0b67b": {
     "model_module": "@jupyter-widgets/controls",
     "model_module_version": "1.5.0",
     "model_name": "HTMLModel",
     "state": {
      "_dom_classes": [],
      "_model_module": "@jupyter-widgets/controls",
      "_model_module_version": "1.5.0",
      "_model_name": "HTMLModel",
      "_view_count": null,
      "_view_module": "@jupyter-widgets/controls",
      "_view_module_version": "1.5.0",
      "_view_name": "HTMLView",
      "description": "",
      "description_tooltip": null,
      "layout": "IPY_MODEL_51ec965959d8414a80f0e4331c46b37c",
      "placeholder": "​",
      "style": "IPY_MODEL_354831e74d804fe6a240d6383d10d305",
      "value": " 782/782 [00:21&lt;00:00, 38.65it/s]"
     }
    },
    "d922056066a24fe495d09d75c9c943dd": {
     "model_module": "@jupyter-widgets/base",
     "model_module_version": "1.2.0",
     "model_name": "LayoutModel",
     "state": {
      "_model_module": "@jupyter-widgets/base",
      "_model_module_version": "1.2.0",
      "_model_name": "LayoutModel",
      "_view_count": null,
      "_view_module": "@jupyter-widgets/base",
      "_view_module_version": "1.2.0",
      "_view_name": "LayoutView",
      "align_content": null,
      "align_items": null,
      "align_self": null,
      "border": null,
      "bottom": null,
      "display": null,
      "flex": null,
      "flex_flow": null,
      "grid_area": null,
      "grid_auto_columns": null,
      "grid_auto_flow": null,
      "grid_auto_rows": null,
      "grid_column": null,
      "grid_gap": null,
      "grid_row": null,
      "grid_template_areas": null,
      "grid_template_columns": null,
      "grid_template_rows": null,
      "height": null,
      "justify_content": null,
      "justify_items": null,
      "left": null,
      "margin": null,
      "max_height": null,
      "max_width": null,
      "min_height": null,
      "min_width": null,
      "object_fit": null,
      "object_position": null,
      "order": null,
      "overflow": null,
      "overflow_x": null,
      "overflow_y": null,
      "padding": null,
      "right": null,
      "top": null,
      "visibility": null,
      "width": null
     }
    },
    "da2209ca0886410290af723a020579cb": {
     "model_module": "@jupyter-widgets/controls",
     "model_module_version": "1.5.0",
     "model_name": "HBoxModel",
     "state": {
      "_dom_classes": [],
      "_model_module": "@jupyter-widgets/controls",
      "_model_module_version": "1.5.0",
      "_model_name": "HBoxModel",
      "_view_count": null,
      "_view_module": "@jupyter-widgets/controls",
      "_view_module_version": "1.5.0",
      "_view_name": "HBoxView",
      "box_style": "",
      "children": [
       "IPY_MODEL_a99642cc8f544e6cb4c5445a7854bcc1",
       "IPY_MODEL_faf36dc7211e444c9532b127c5eb57df",
       "IPY_MODEL_ce35cf4895164a9dbe11c61c9708b416"
      ],
      "layout": "IPY_MODEL_7bad71a273574df3a0166730ca6706d9"
     }
    },
    "e6908836912146a7ab0bde28aef4f918": {
     "model_module": "@jupyter-widgets/base",
     "model_module_version": "1.2.0",
     "model_name": "LayoutModel",
     "state": {
      "_model_module": "@jupyter-widgets/base",
      "_model_module_version": "1.2.0",
      "_model_name": "LayoutModel",
      "_view_count": null,
      "_view_module": "@jupyter-widgets/base",
      "_view_module_version": "1.2.0",
      "_view_name": "LayoutView",
      "align_content": null,
      "align_items": null,
      "align_self": null,
      "border": null,
      "bottom": null,
      "display": null,
      "flex": null,
      "flex_flow": null,
      "grid_area": null,
      "grid_auto_columns": null,
      "grid_auto_flow": null,
      "grid_auto_rows": null,
      "grid_column": null,
      "grid_gap": null,
      "grid_row": null,
      "grid_template_areas": null,
      "grid_template_columns": null,
      "grid_template_rows": null,
      "height": null,
      "justify_content": null,
      "justify_items": null,
      "left": null,
      "margin": null,
      "max_height": null,
      "max_width": null,
      "min_height": null,
      "min_width": null,
      "object_fit": null,
      "object_position": null,
      "order": null,
      "overflow": null,
      "overflow_x": null,
      "overflow_y": null,
      "padding": null,
      "right": null,
      "top": null,
      "visibility": null,
      "width": null
     }
    },
    "f196a4c6af2543fba9613c4b69f495ff": {
     "model_module": "@jupyter-widgets/controls",
     "model_module_version": "1.5.0",
     "model_name": "DescriptionStyleModel",
     "state": {
      "_model_module": "@jupyter-widgets/controls",
      "_model_module_version": "1.5.0",
      "_model_name": "DescriptionStyleModel",
      "_view_count": null,
      "_view_module": "@jupyter-widgets/base",
      "_view_module_version": "1.2.0",
      "_view_name": "StyleView",
      "description_width": ""
     }
    },
    "f656bc1098d241f2976d41a14215d63a": {
     "model_module": "@jupyter-widgets/base",
     "model_module_version": "1.2.0",
     "model_name": "LayoutModel",
     "state": {
      "_model_module": "@jupyter-widgets/base",
      "_model_module_version": "1.2.0",
      "_model_name": "LayoutModel",
      "_view_count": null,
      "_view_module": "@jupyter-widgets/base",
      "_view_module_version": "1.2.0",
      "_view_name": "LayoutView",
      "align_content": null,
      "align_items": null,
      "align_self": null,
      "border": null,
      "bottom": null,
      "display": null,
      "flex": null,
      "flex_flow": null,
      "grid_area": null,
      "grid_auto_columns": null,
      "grid_auto_flow": null,
      "grid_auto_rows": null,
      "grid_column": null,
      "grid_gap": null,
      "grid_row": null,
      "grid_template_areas": null,
      "grid_template_columns": null,
      "grid_template_rows": null,
      "height": null,
      "justify_content": null,
      "justify_items": null,
      "left": null,
      "margin": null,
      "max_height": null,
      "max_width": null,
      "min_height": null,
      "min_width": null,
      "object_fit": null,
      "object_position": null,
      "order": null,
      "overflow": null,
      "overflow_x": null,
      "overflow_y": null,
      "padding": null,
      "right": null,
      "top": null,
      "visibility": null,
      "width": null
     }
    },
    "faf36dc7211e444c9532b127c5eb57df": {
     "model_module": "@jupyter-widgets/controls",
     "model_module_version": "1.5.0",
     "model_name": "FloatProgressModel",
     "state": {
      "_dom_classes": [],
      "_model_module": "@jupyter-widgets/controls",
      "_model_module_version": "1.5.0",
      "_model_name": "FloatProgressModel",
      "_view_count": null,
      "_view_module": "@jupyter-widgets/controls",
      "_view_module_version": "1.5.0",
      "_view_name": "ProgressView",
      "bar_style": "success",
      "description": "",
      "description_tooltip": null,
      "layout": "IPY_MODEL_04d0f2b8bdb04f40b4c4cc3c62736df8",
      "max": 782,
      "min": 0,
      "orientation": "horizontal",
      "style": "IPY_MODEL_6499f7f58d3f4348b4c7afee51310682",
      "value": 782
     }
    },
    "fb8f0035c33e40fd91a4483f2ce33b51": {
     "model_module": "@jupyter-widgets/base",
     "model_module_version": "1.2.0",
     "model_name": "LayoutModel",
     "state": {
      "_model_module": "@jupyter-widgets/base",
      "_model_module_version": "1.2.0",
      "_model_name": "LayoutModel",
      "_view_count": null,
      "_view_module": "@jupyter-widgets/base",
      "_view_module_version": "1.2.0",
      "_view_name": "LayoutView",
      "align_content": null,
      "align_items": null,
      "align_self": null,
      "border": null,
      "bottom": null,
      "display": null,
      "flex": null,
      "flex_flow": null,
      "grid_area": null,
      "grid_auto_columns": null,
      "grid_auto_flow": null,
      "grid_auto_rows": null,
      "grid_column": null,
      "grid_gap": null,
      "grid_row": null,
      "grid_template_areas": null,
      "grid_template_columns": null,
      "grid_template_rows": null,
      "height": null,
      "justify_content": null,
      "justify_items": null,
      "left": null,
      "margin": null,
      "max_height": null,
      "max_width": null,
      "min_height": null,
      "min_width": null,
      "object_fit": null,
      "object_position": null,
      "order": null,
      "overflow": null,
      "overflow_x": null,
      "overflow_y": null,
      "padding": null,
      "right": null,
      "top": null,
      "visibility": null,
      "width": null
     }
    },
    "fce7d5c47a4a4fa9a3b2391ae4f8400e": {
     "model_module": "@jupyter-widgets/controls",
     "model_module_version": "1.5.0",
     "model_name": "DescriptionStyleModel",
     "state": {
      "_model_module": "@jupyter-widgets/controls",
      "_model_module_version": "1.5.0",
      "_model_name": "DescriptionStyleModel",
      "_view_count": null,
      "_view_module": "@jupyter-widgets/base",
      "_view_module_version": "1.2.0",
      "_view_name": "StyleView",
      "description_width": ""
     }
    }
   }
  }
 },
 "nbformat": 4,
 "nbformat_minor": 4
}
