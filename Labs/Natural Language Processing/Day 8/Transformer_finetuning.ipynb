{
 "cells": [
  {
   "cell_type": "markdown",
   "metadata": {},
   "source": [
    "![image.png](https://i.imgur.com/a3uAqnb.png)\n"
   ]
  },
  {
   "cell_type": "markdown",
   "metadata": {},
   "source": [
    "# 🧠 Attention-Based Transformer Classifier: IMDb Sentiment Analysis\n",
    "\n",
    "This notebook demonstrates how to fine-tune a pretrained Transformer model (specifically `distilbert-base-uncased`) for binary text classification using the IMDb movie reviews dataset. The workflow follows a clean and modular structure, making it easy to extend or adapt to other NLP tasks.\n",
    "\n",
    "### 📌 Objectives:\n",
    "- Load and preprocess a real-world text classification dataset.\n",
    "- Use Hugging Face’s 🤗 Transformers and Datasets libraries for efficient NLP modeling.\n",
    "- Define a custom `TextDataset` for tokenized inputs.\n",
    "- Fine-tune a pretrained Transformer model using the Hugging Face `Trainer` API.\n",
    "- Track training progress and visualize evaluation metrics.\n",
    "- Perform inference on custom inputs and interpret predictions.\n",
    "\n",
    "### 🧰 Key Features:\n",
    "- Uses the IMDb dataset with clear train/val/test splits.\n",
    "- Implements custom configuration and logging.\n",
    "- Includes early stopping and metric tracking (F1, Accuracy, etc.).\n",
    "- Easy-to-use inference function for testing new text samples.\n",
    "\n",
    "By the end of this notebook, you will have a fully trained binary sentiment classifier ready to predict whether a given movie review is **positive** or **negative**.\n"
   ]
  },
  {
   "cell_type": "markdown",
   "metadata": {},
   "source": [
    "### 🧱 Imports and Setup\n",
    "\n",
    "This cell imports all the necessary libraries for model development, including:\n",
    "- **PyTorch** and **Transformers** for deep learning and NLP tasks.\n",
    "- **Datasets** from Hugging Face to load datasets.\n",
    "- **Scikit-learn** for evaluation metrics.\n",
    "- **Matplotlib** and **Seaborn** for visualization.\n",
    "- **TQDM** for progress bars.\n",
    "- **Warnings** are suppressed for a cleaner output.\n",
    "\n",
    "Additionally:\n",
    "- Random seeds are set for reproducibility.\n",
    "- Output directories are created to store trained models and logs.\n"
   ]
  },
  {
   "cell_type": "code",
   "execution_count": 1,
   "metadata": {},
   "outputs": [],
   "source": [
    "import torch\n",
    "import torch.nn as nn\n",
    "from torch.utils.data import DataLoader, Dataset\n",
    "from transformers import (\n",
    "    AutoTokenizer, AutoModel, AutoModelForSequenceClassification,\n",
    "    TrainingArguments, Trainer, EarlyStoppingCallback\n",
    ")\n",
    "from datasets import load_dataset\n",
    "import numpy as np\n",
    "import pandas as pd\n",
    "from sklearn.metrics import accuracy_score, precision_recall_fscore_support\n",
    "import matplotlib.pyplot as plt\n",
    "import seaborn as sns\n",
    "from tqdm import tqdm\n",
    "import warnings\n",
    "warnings.filterwarnings('ignore')\n",
    "\n",
    "# Set random seeds for reproducibility\n",
    "torch.manual_seed(42)\n",
    "np.random.seed(42)\n",
    "\n",
    "# Create output directory if it doesn't exist\n",
    "import os\n",
    "os.makedirs(\"./fine_tuned_model\", exist_ok=True)\n",
    "os.makedirs(\"./fine_tuned_model/logs\", exist_ok=True)"
   ]
  },
  {
   "cell_type": "markdown",
   "metadata": {},
   "source": [
    "### ⚙️ Configuration Parameters\n",
    "\n",
    "Defines a `Config` class that centralizes key parameters for model training and evaluation:\n",
    "- **Model settings**: Pretrained model name, maximum token length, number of labels.\n",
    "- **Training settings**: Batch size, learning rate, number of epochs, weight decay, warmup ratio.\n",
    "- **Data settings**: Proportions for train, validation, and test splits.\n",
    "- **Output settings**: Directory paths and logging frequencies.\n",
    "\n",
    "This structure allows easy modification and readability.\n"
   ]
  },
  {
   "cell_type": "code",
   "execution_count": 2,
   "metadata": {},
   "outputs": [
    {
     "name": "stdout",
     "output_type": "stream",
     "text": [
      "✅ Configuration loaded - Model: distilbert-base-uncased\n"
     ]
    }
   ],
   "source": [
    "# =============================================================================\n",
    "# CONFIGURATION\n",
    "# =============================================================================\n",
    "\n",
    "class Config:\n",
    "    \"\"\"Configuration class for fine-tuning parameters\"\"\"\n",
    "    \n",
    "    # Model settings\n",
    "    MODEL_NAME = \"distilbert-base-uncased\"\n",
    "    MAX_LENGTH = 512\n",
    "    NUM_LABELS = 2  # Adjust based on your task\n",
    "    \n",
    "    # Training settings\n",
    "    BATCH_SIZE = 32\n",
    "    LEARNING_RATE = 2e-5\n",
    "    NUM_EPOCHS = 5\n",
    "    WARMUP_RATIO = 0.1\n",
    "    WEIGHT_DECAY = 0.01\n",
    "    \n",
    "    # Data settings\n",
    "    TRAIN_SIZE = 0.8\n",
    "    VAL_SIZE = 0.1\n",
    "    TEST_SIZE = 0.1\n",
    "    \n",
    "    # Output settings\n",
    "    OUTPUT_DIR = \"./fine_tuned_model\"\n",
    "    SAVE_STEPS = 100\n",
    "    EVAL_STEPS = 100\n",
    "    LOGGING_STEPS = 100\n",
    "\n",
    "config = Config()\n",
    "print(f\"✅ Configuration loaded - Model: {config.MODEL_NAME}\")"
   ]
  },
  {
   "cell_type": "markdown",
   "metadata": {},
   "source": [
    "### 📦 Custom TextDataset Class\n",
    "\n",
    "Defines a `TextDataset` class for tokenizing and formatting the raw text data into a format compatible with Hugging Face transformers:\n",
    "- Uses the `tokenizer` to convert texts into `input_ids` and `attention_mask`.\n",
    "- Returns tokenized inputs and the corresponding label tensors.\n",
    "- Applies padding and truncation to a fixed max length.\n"
   ]
  },
  {
   "cell_type": "code",
   "execution_count": 3,
   "metadata": {},
   "outputs": [],
   "source": [
    "# =============================================================================\n",
    "# DATA PREPARATION\n",
    "# =============================================================================\n",
    "\n",
    "class TextDataset(Dataset):\n",
    "    \"\"\"Custom dataset class for text classification\"\"\"\n",
    "    \n",
    "    def __init__(self, texts, labels, tokenizer, max_length):\n",
    "        self.texts = texts\n",
    "        self.labels = labels\n",
    "        self.tokenizer = tokenizer\n",
    "        self.max_length = max_length\n",
    "    \n",
    "    def __len__(self):\n",
    "        return len(self.texts)\n",
    "    \n",
    "    def __getitem__(self, idx):\n",
    "        text = str(self.texts[idx])\n",
    "        label = self.labels[idx]\n",
    "        \n",
    "        # Tokenize text\n",
    "        encoding = self.tokenizer(\n",
    "            text,\n",
    "            truncation=True,\n",
    "            padding='max_length',\n",
    "            max_length=self.max_length,\n",
    "            return_tensors='pt'\n",
    "        )\n",
    "        \n",
    "        return {\n",
    "            'input_ids': encoding['input_ids'].flatten(),\n",
    "            'attention_mask': encoding['attention_mask'].flatten(),\n",
    "            'labels': torch.tensor(label, dtype=torch.long)\n",
    "        }\n"
   ]
  },
  {
   "cell_type": "markdown",
   "metadata": {},
   "source": [
    "### 🤖 Setup Model and Tokenizer\n",
    "\n",
    "Initializes the tokenizer and model:\n",
    "- Loads a pretrained model and tokenizer using Hugging Face's Transformers library.\n",
    "- Adds a padding token if it's missing.\n",
    "- Loads the classification model with the specified number of labels.\n",
    "- Moves the model to the appropriate device (CPU/GPU).\n"
   ]
  },
  {
   "cell_type": "code",
   "execution_count": 4,
   "metadata": {},
   "outputs": [],
   "source": [
    "# =========================================================================|====\n",
    "# MODEL SETUP\n",
    "# =============================================================================\n",
    "\n",
    "def setup_model_and_tokenizer():\n",
    "    \"\"\"Initialize tokenizer and model\"\"\"\n",
    "    print(f\"🤖 Loading model and tokenizer: {config.MODEL_NAME}\")\n",
    "    \n",
    "    # Load tokenizer\n",
    "    tokenizer = AutoTokenizer.from_pretrained(config.MODEL_NAME)\n",
    "    \n",
    "    # Add padding token if it doesn't exist\n",
    "    if tokenizer.pad_token is None:\n",
    "        tokenizer.pad_token = tokenizer.eos_token\n",
    "    \n",
    "    # Load model for sequence classification\n",
    "    model = AutoModelForSequenceClassification.from_pretrained(\n",
    "        config.MODEL_NAME,\n",
    "        num_labels=config.NUM_LABELS\n",
    "    )\n",
    "    \n",
    "    # Move to GPU if available\n",
    "    device = torch.device('cuda' if torch.cuda.is_available() else 'cpu')\n",
    "    model.to(device)\n",
    "    \n",
    "    print(f\"✅ Model loaded on device: {device}\")\n",
    "    return tokenizer, model, device\n",
    "\n"
   ]
  },
  {
   "cell_type": "markdown",
   "metadata": {},
   "source": [
    "### 📥 Load IMDb Dataset and Prepare Splits\n",
    "\n",
    "- Loads the IMDb dataset (binary sentiment classification) using Hugging Face `load_dataset`.\n",
    "- Tokenizes and converts train/test data into `TextDataset` objects.\n",
    "- Splits the training data into training and validation subsets.\n",
    "- Also initializes the model, tokenizer, and sets up the device.\n"
   ]
  },
  {
   "cell_type": "code",
   "execution_count": 5,
   "metadata": {},
   "outputs": [
    {
     "name": "stdout",
     "output_type": "stream",
     "text": [
      "✅ Data loaded - Train samples: 25000, Test samples: 25000\n",
      "🤖 Loading model and tokenizer: distilbert-base-uncased\n"
     ]
    },
    {
     "name": "stderr",
     "output_type": "stream",
     "text": [
      "Some weights of DistilBertForSequenceClassification were not initialized from the model checkpoint at distilbert-base-uncased and are newly initialized: ['classifier.bias', 'classifier.weight', 'pre_classifier.bias', 'pre_classifier.weight']\n",
      "You should probably TRAIN this model on a down-stream task to be able to use it for predictions and inference.\n"
     ]
    },
    {
     "name": "stdout",
     "output_type": "stream",
     "text": [
      "✅ Model loaded on device: cuda\n",
      "🔄 Creating datasets...\n",
      "✅ Datasets created - Train: 22500, Val: 2500, Test: 25000\n"
     ]
    }
   ],
   "source": [
    "raw_dataset = load_dataset(\"imdb\")\n",
    "train_texts = raw_dataset['train']['text'] \n",
    "train_labels = raw_dataset['train']['label']\n",
    "test_texts = raw_dataset['test']['text']\n",
    "test_labels = raw_dataset['test']['label']\n",
    "\n",
    "print(f\"✅ Data loaded - Train samples: {len(train_texts)}, Test samples: {len(test_texts)}\")\n",
    "\n",
    "# Create tokenizer and model\n",
    "tokenizer, model, device = setup_model_and_tokenizer()\n",
    "\n",
    "# Create datasets\n",
    "print(\"🔄 Creating datasets...\")\n",
    "train_dataset = TextDataset(train_texts, train_labels, tokenizer, config.MAX_LENGTH)\n",
    "test_dataset = TextDataset(test_texts, test_labels, tokenizer, config.MAX_LENGTH)\n",
    "\n",
    "# Split train into train/validation\n",
    "train_size = int(0.9 * len(train_dataset))\n",
    "val_size = len(train_dataset) - train_size\n",
    "train_dataset, val_dataset = torch.utils.data.random_split(\n",
    "    train_dataset, [train_size, val_size]\n",
    ")\n",
    "\n",
    "print(f\"✅ Datasets created - Train: {len(train_dataset)}, Val: {len(val_dataset)}, Test: {len(test_dataset)}\")"
   ]
  },
  {
   "cell_type": "markdown",
   "metadata": {},
   "source": [
    "### 🧠 Trainer Setup and Evaluation Metrics\n",
    "\n",
    "- Defines a `compute_metrics` function to calculate accuracy, precision, recall, and F1 score.\n",
    "- Initializes Hugging Face `TrainingArguments` to configure:\n",
    "  - Epochs, batch sizes, learning rate, logging frequency, and early stopping.\n",
    "- Sets up the `Trainer` class with:\n",
    "  - Model, training/validation datasets, evaluation metrics, and early stopping callback.\n"
   ]
  },
  {
   "cell_type": "code",
   "execution_count": 6,
   "metadata": {},
   "outputs": [
    {
     "name": "stdout",
     "output_type": "stream",
     "text": [
      "✅ Training setup complete!\n"
     ]
    }
   ],
   "source": [
    "# =============================================================================\n",
    "# TRAINING SETUP\n",
    "# =============================================================================\n",
    "\n",
    "def compute_metrics(eval_pred):\n",
    "    \"\"\"Compute metrics for evaluation\"\"\"\n",
    "    predictions, labels = eval_pred\n",
    "    predictions = np.argmax(predictions, axis=1)\n",
    "    \n",
    "    precision, recall, f1, _ = precision_recall_fscore_support(labels, predictions, average='weighted')\n",
    "    acc = accuracy_score(labels, predictions)\n",
    "    \n",
    "    return {\n",
    "        'accuracy': acc,\n",
    "        'f1': f1,\n",
    "        'precision': precision,\n",
    "        'recall': recall\n",
    "    }\n",
    "\n",
    "training_args = TrainingArguments(\n",
    "    output_dir=config.OUTPUT_DIR,\n",
    "    num_train_epochs=config.NUM_EPOCHS,\n",
    "    per_device_train_batch_size=config.BATCH_SIZE,\n",
    "    per_device_eval_batch_size=config.BATCH_SIZE,\n",
    "    learning_rate=config.LEARNING_RATE,\n",
    "    weight_decay=config.WEIGHT_DECAY,\n",
    "    warmup_ratio=config.WARMUP_RATIO,\n",
    "    logging_dir=f'{config.OUTPUT_DIR}/logs',\n",
    "    lr_scheduler_type=\"cosine\",\n",
    "    eval_strategy=\"steps\",\n",
    "    logging_strategy=\"steps\",\n",
    "    eval_steps=config.EVAL_STEPS,\n",
    "    logging_steps=config.EVAL_STEPS,  \n",
    "    save_steps=config.SAVE_STEPS,\n",
    "    save_total_limit=2,\n",
    "    load_best_model_at_end=True,\n",
    "    metric_for_best_model=\"f1\",\n",
    "    greater_is_better=True,\n",
    "    report_to=[],\n",
    ")\n",
    "\n",
    "\n",
    "# Initialize trainer\n",
    "trainer = Trainer(\n",
    "    model=model,\n",
    "    args=training_args,\n",
    "    train_dataset=train_dataset,\n",
    "    eval_dataset=val_dataset,\n",
    "    compute_metrics=compute_metrics,\n",
    "    callbacks=[EarlyStoppingCallback(early_stopping_patience=3)] #based on F1 score aka 'metric_for_best_model'\n",
    ")\n",
    "\n",
    "print(\"✅ Training setup complete!\")"
   ]
  },
  {
   "cell_type": "markdown",
   "metadata": {},
   "source": [
    "### 🚀 Train the Model\n",
    "\n",
    "- Triggers the training process using `trainer.train()`.\n",
    "- Saves the fine-tuned model and tokenizer to the specified output directory.\n"
   ]
  },
  {
   "cell_type": "code",
   "execution_count": 7,
   "metadata": {},
   "outputs": [
    {
     "name": "stdout",
     "output_type": "stream",
     "text": [
      "🚀 Starting training...\n"
     ]
    },
    {
     "data": {
      "text/html": [
       "\n",
       "    <div>\n",
       "      \n",
       "      <progress value='1700' max='3520' style='width:300px; height:20px; vertical-align: middle;'></progress>\n",
       "      [1700/3520 19:12 < 20:35, 1.47 it/s, Epoch 2/5]\n",
       "    </div>\n",
       "    <table border=\"1\" class=\"dataframe\">\n",
       "  <thead>\n",
       " <tr style=\"text-align: left;\">\n",
       "      <th>Step</th>\n",
       "      <th>Training Loss</th>\n",
       "      <th>Validation Loss</th>\n",
       "      <th>Accuracy</th>\n",
       "      <th>F1</th>\n",
       "      <th>Precision</th>\n",
       "      <th>Recall</th>\n",
       "    </tr>\n",
       "  </thead>\n",
       "  <tbody>\n",
       "    <tr>\n",
       "      <td>100</td>\n",
       "      <td>0.686900</td>\n",
       "      <td>0.649134</td>\n",
       "      <td>0.786000</td>\n",
       "      <td>0.785928</td>\n",
       "      <td>0.786674</td>\n",
       "      <td>0.786000</td>\n",
       "    </tr>\n",
       "    <tr>\n",
       "      <td>200</td>\n",
       "      <td>0.413200</td>\n",
       "      <td>0.257632</td>\n",
       "      <td>0.899200</td>\n",
       "      <td>0.899144</td>\n",
       "      <td>0.899808</td>\n",
       "      <td>0.899200</td>\n",
       "    </tr>\n",
       "    <tr>\n",
       "      <td>300</td>\n",
       "      <td>0.275200</td>\n",
       "      <td>0.242571</td>\n",
       "      <td>0.907200</td>\n",
       "      <td>0.906973</td>\n",
       "      <td>0.910552</td>\n",
       "      <td>0.907200</td>\n",
       "    </tr>\n",
       "    <tr>\n",
       "      <td>400</td>\n",
       "      <td>0.276900</td>\n",
       "      <td>0.227907</td>\n",
       "      <td>0.912400</td>\n",
       "      <td>0.912318</td>\n",
       "      <td>0.914454</td>\n",
       "      <td>0.912400</td>\n",
       "    </tr>\n",
       "    <tr>\n",
       "      <td>500</td>\n",
       "      <td>0.249200</td>\n",
       "      <td>0.206563</td>\n",
       "      <td>0.921600</td>\n",
       "      <td>0.921593</td>\n",
       "      <td>0.921968</td>\n",
       "      <td>0.921600</td>\n",
       "    </tr>\n",
       "    <tr>\n",
       "      <td>600</td>\n",
       "      <td>0.245900</td>\n",
       "      <td>0.222805</td>\n",
       "      <td>0.912800</td>\n",
       "      <td>0.912673</td>\n",
       "      <td>0.914717</td>\n",
       "      <td>0.912800</td>\n",
       "    </tr>\n",
       "    <tr>\n",
       "      <td>700</td>\n",
       "      <td>0.243400</td>\n",
       "      <td>0.200287</td>\n",
       "      <td>0.923200</td>\n",
       "      <td>0.923187</td>\n",
       "      <td>0.923344</td>\n",
       "      <td>0.923200</td>\n",
       "    </tr>\n",
       "    <tr>\n",
       "      <td>800</td>\n",
       "      <td>0.195900</td>\n",
       "      <td>0.207253</td>\n",
       "      <td>0.926000</td>\n",
       "      <td>0.926001</td>\n",
       "      <td>0.926004</td>\n",
       "      <td>0.926000</td>\n",
       "    </tr>\n",
       "    <tr>\n",
       "      <td>900</td>\n",
       "      <td>0.171700</td>\n",
       "      <td>0.214542</td>\n",
       "      <td>0.923600</td>\n",
       "      <td>0.923550</td>\n",
       "      <td>0.924395</td>\n",
       "      <td>0.923600</td>\n",
       "    </tr>\n",
       "    <tr>\n",
       "      <td>1000</td>\n",
       "      <td>0.171400</td>\n",
       "      <td>0.205852</td>\n",
       "      <td>0.924800</td>\n",
       "      <td>0.924749</td>\n",
       "      <td>0.925628</td>\n",
       "      <td>0.924800</td>\n",
       "    </tr>\n",
       "    <tr>\n",
       "      <td>1100</td>\n",
       "      <td>0.169300</td>\n",
       "      <td>0.208010</td>\n",
       "      <td>0.926800</td>\n",
       "      <td>0.926799</td>\n",
       "      <td>0.926804</td>\n",
       "      <td>0.926800</td>\n",
       "    </tr>\n",
       "    <tr>\n",
       "      <td>1200</td>\n",
       "      <td>0.172800</td>\n",
       "      <td>0.186981</td>\n",
       "      <td>0.930400</td>\n",
       "      <td>0.930391</td>\n",
       "      <td>0.930859</td>\n",
       "      <td>0.930400</td>\n",
       "    </tr>\n",
       "    <tr>\n",
       "      <td>1300</td>\n",
       "      <td>0.159600</td>\n",
       "      <td>0.221950</td>\n",
       "      <td>0.926000</td>\n",
       "      <td>0.925973</td>\n",
       "      <td>0.926397</td>\n",
       "      <td>0.926000</td>\n",
       "    </tr>\n",
       "    <tr>\n",
       "      <td>1400</td>\n",
       "      <td>0.166700</td>\n",
       "      <td>0.201077</td>\n",
       "      <td>0.930800</td>\n",
       "      <td>0.930799</td>\n",
       "      <td>0.930801</td>\n",
       "      <td>0.930800</td>\n",
       "    </tr>\n",
       "    <tr>\n",
       "      <td>1500</td>\n",
       "      <td>0.092500</td>\n",
       "      <td>0.273819</td>\n",
       "      <td>0.926800</td>\n",
       "      <td>0.926801</td>\n",
       "      <td>0.926868</td>\n",
       "      <td>0.926800</td>\n",
       "    </tr>\n",
       "    <tr>\n",
       "      <td>1600</td>\n",
       "      <td>0.111000</td>\n",
       "      <td>0.268471</td>\n",
       "      <td>0.923600</td>\n",
       "      <td>0.923540</td>\n",
       "      <td>0.924582</td>\n",
       "      <td>0.923600</td>\n",
       "    </tr>\n",
       "    <tr>\n",
       "      <td>1700</td>\n",
       "      <td>0.091600</td>\n",
       "      <td>0.256986</td>\n",
       "      <td>0.926000</td>\n",
       "      <td>0.925987</td>\n",
       "      <td>0.926159</td>\n",
       "      <td>0.926000</td>\n",
       "    </tr>\n",
       "  </tbody>\n",
       "</table><p>"
      ],
      "text/plain": [
       "<IPython.core.display.HTML object>"
      ]
     },
     "metadata": {},
     "output_type": "display_data"
    },
    {
     "name": "stdout",
     "output_type": "stream",
     "text": [
      "✅ Training complete! Model saved to ./fine_tuned_model\n"
     ]
    }
   ],
   "source": [
    "# =============================================================================\n",
    "# TRAINING\n",
    "# =============================================================================\n",
    "\n",
    "def train_model():\n",
    "    \"\"\"Train the model\"\"\"\n",
    "    print(\"🚀 Starting training...\")\n",
    "    \n",
    "    # Train\n",
    "    trainer.train()\n",
    "    \n",
    "    # Save final model\n",
    "    trainer.save_model(config.OUTPUT_DIR)\n",
    "    tokenizer.save_pretrained(config.OUTPUT_DIR)\n",
    "    \n",
    "    print(f\"✅ Training complete! Model saved to {config.OUTPUT_DIR}\")\n",
    "\n",
    "\n",
    "train_model()"
   ]
  },
  {
   "cell_type": "markdown",
   "metadata": {},
   "source": [
    "### 📊 Training Curves Visualization\n",
    "\n",
    "- Extracts log history from the `Trainer` state.\n",
    "- Plots:\n",
    "  - **Training & Evaluation Loss** over steps.\n",
    "  - **Evaluation Accuracy** over steps.\n",
    "- Helps in diagnosing underfitting/overfitting and tracking training progress.\n"
   ]
  },
  {
   "cell_type": "code",
   "execution_count": 8,
   "metadata": {},
   "outputs": [
    {
     "data": {
      "image/png": "[encoded data removed]",
      "text/plain": [
       "<Figure size 1200x500 with 2 Axes>"
      ]
     },
     "metadata": {},
     "output_type": "display_data"
    }
   ],
   "source": [
    "# Extract logs\n",
    "log_history = trainer.state.log_history\n",
    "\n",
    "# Prepare metrics\n",
    "train_loss = []\n",
    "eval_loss = []\n",
    "eval_accuracy = []\n",
    "steps = []\n",
    "\n",
    "for log in log_history:\n",
    "    step = log.get(\"step\")\n",
    "    if \"loss\" in log:\n",
    "        train_loss.append(log[\"loss\"])\n",
    "        steps.append(step)\n",
    "    if \"eval_loss\" in log:\n",
    "        eval_loss.append(log[\"eval_loss\"])\n",
    "    if \"eval_accuracy\" in log:\n",
    "        eval_accuracy.append(log[\"eval_accuracy\"])\n",
    "\n",
    "# Plotting\n",
    "plt.figure(figsize=(12, 5))\n",
    "\n",
    "# 📉 Training & Eval Loss\n",
    "plt.subplot(1, 2, 1)\n",
    "plt.plot(steps[:len(train_loss)], train_loss, label='Train Loss')\n",
    "plt.plot(steps[:len(eval_loss)], eval_loss, label='Eval Loss')\n",
    "plt.xlabel(\"Steps\")\n",
    "plt.ylabel(\"Loss\")\n",
    "plt.title(\"Training & Evaluation Loss\")\n",
    "plt.legend()\n",
    "\n",
    "# ✅ Evaluation Accuracy\n",
    "plt.subplot(1, 2, 2)\n",
    "plt.plot(steps[:len(eval_accuracy)], eval_accuracy, label='Eval Accuracy', color='green')\n",
    "plt.xlabel(\"Steps\")\n",
    "plt.ylabel(\"Accuracy\")\n",
    "plt.title(\"Evaluation Accuracy\")\n",
    "plt.legend()\n",
    "\n",
    "plt.tight_layout()\n",
    "plt.show()\n"
   ]
  },
  {
   "cell_type": "markdown",
   "metadata": {},
   "source": [
    "### ✅ Evaluate on Test Set\n",
    "\n",
    "- Evaluates the trained model on the test dataset using `trainer.evaluate`.\n",
    "- Prints out final evaluation metrics such as accuracy, loss, and F1 score.\n"
   ]
  },
  {
   "cell_type": "code",
   "execution_count": 9,
   "metadata": {},
   "outputs": [
    {
     "name": "stdout",
     "output_type": "stream",
     "text": [
      "📊 Evaluating model...\n"
     ]
    },
    {
     "data": {
      "text/html": [
       "\n",
       "    <div>\n",
       "      \n",
       "      <progress value='782' max='782' style='width:300px; height:20px; vertical-align: middle;'></progress>\n",
       "      [782/782 02:05]\n",
       "    </div>\n",
       "    "
      ],
      "text/plain": [
       "<IPython.core.display.HTML object>"
      ]
     },
     "metadata": {},
     "output_type": "display_data"
    },
    {
     "name": "stdout",
     "output_type": "stream",
     "text": [
      "Test Results:\n",
      "  eval_loss: 0.1973\n",
      "  eval_accuracy: 0.9298\n",
      "  eval_f1: 0.9298\n",
      "  eval_precision: 0.9299\n",
      "  eval_recall: 0.9298\n",
      "  eval_runtime: 125.2861\n",
      "  eval_samples_per_second: 199.5430\n",
      "  eval_steps_per_second: 6.2420\n",
      "  epoch: 2.4148\n"
     ]
    }
   ],
   "source": [
    "# =============================================================================\n",
    "# EVALUATION\n",
    "# =============================================================================\n",
    "print(\"📊 Evaluating model...\")\n",
    "    \n",
    "# Evaluate on test set\n",
    "test_results = trainer.evaluate(test_dataset)\n",
    "    \n",
    "print(\"Test Results:\")\n",
    "for key, value in test_results.items():\n",
    "    print(f\"  {key}: {value:.4f}\")\n",
    "    "
   ]
  },
  {
   "cell_type": "markdown",
   "metadata": {},
   "source": [
    "### 🔍 Predict on a Single Input Text\n",
    "\n",
    "Defines a utility function `predict_single_text` to:\n",
    "- Tokenize a single input string.\n",
    "- Run the model in evaluation mode (no gradients).\n",
    "- Apply softmax to get confidence scores.\n",
    "- Return the predicted class and its confidence.\n"
   ]
  },
  {
   "cell_type": "code",
   "execution_count": 10,
   "metadata": {},
   "outputs": [],
   "source": [
    "def predict_single_text(text, model, tokenizer, device):\n",
    "    \"\"\"Make prediction on a single text\"\"\"\n",
    "    model.eval()\n",
    "    \n",
    "    # Tokenize\n",
    "    inputs = tokenizer(\n",
    "        text,\n",
    "        truncation=True,\n",
    "        padding='max_length',\n",
    "        max_length=config.MAX_LENGTH,\n",
    "        return_tensors='pt'\n",
    "    ).to(device)\n",
    "    \n",
    "    with torch.no_grad():\n",
    "        outputs = model(**inputs)\n",
    "        predictions = torch.softmax(outputs.logits, dim=1)\n",
    "        predicted_class = torch.argmax(predictions, dim=1).item()\n",
    "        confidence = predictions[0][predicted_class].item()\n",
    "    \n",
    "    return predicted_class, confidence"
   ]
  },
  {
   "cell_type": "markdown",
   "metadata": {},
   "source": [
    "### 🔮 Inference on Example Sentences\n",
    "\n",
    "- Provides a few example review sentences to demonstrate the inference capability of the model.\n",
    "- Uses the `predict_single_text` function to classify each as Positive or Negative.\n",
    "- Displays the prediction along with confidence scores.\n"
   ]
  },
  {
   "cell_type": "code",
   "execution_count": 11,
   "metadata": {},
   "outputs": [],
   "source": [
    "# =============================================================================\n",
    "# INFERENCE EXAMPLES\n",
    "# =============================================================================\n",
    "\n",
    "def run_inference_examples():\n",
    "    \"\"\"Run some inference examples\"\"\"\n",
    "    print(\"🔮 Running inference examples...\")\n",
    "    \n",
    "    sample_texts = [\n",
    "        \"This product is amazing! I love it so much.\",\n",
    "        \"Terrible quality, would not recommend to anyone.\",\n",
    "        \"It's okay, nothing special but does the job.\",\n",
    "        \"Outstanding performance and great value for money!\"\n",
    "    ]\n",
    "    \n",
    "    for text in sample_texts:\n",
    "        pred_class, confidence = predict_single_text(text, model, tokenizer, device)\n",
    "        sentiment = \"Positive\" if pred_class == 1 else \"Negative\"\n",
    "        print(f\"Text: '{text[:50]}...'\")\n",
    "        print(f\"Prediction: {sentiment} (confidence: {confidence:.3f})\\n\")"
   ]
  },
  {
   "cell_type": "markdown",
   "metadata": {},
   "source": [
    "### ▶️ Run Inference Examples\n",
    "\n",
    "- Calls the `run_inference_examples()` function to demonstrate the model’s prediction behavior in action.\n",
    "- Useful for quick manual inspection of how well the model understands sentiment.\n"
   ]
  },
  {
   "cell_type": "code",
   "execution_count": 12,
   "metadata": {},
   "outputs": [
    {
     "name": "stdout",
     "output_type": "stream",
     "text": [
      "🔮 Running inference examples...\n",
      "Text: 'This product is amazing! I love it so much....'\n",
      "Prediction: Positive (confidence: 0.996)\n",
      "\n",
      "Text: 'Terrible quality, would not recommend to anyone....'\n",
      "Prediction: Negative (confidence: 0.979)\n",
      "\n",
      "Text: 'It's okay, nothing special but does the job....'\n",
      "Prediction: Negative (confidence: 0.662)\n",
      "\n",
      "Text: 'Outstanding performance and great value for money!...'\n",
      "Prediction: Positive (confidence: 0.991)\n",
      "\n"
     ]
    }
   ],
   "source": [
    "# Run example inference (with untrained model for demo)\n",
    "run_inference_examples()\n"
   ]
  },
  {
   "cell_type": "markdown",
   "metadata": {},
   "source": [
    "### Contributed by: Yazan Alshoibi"
   ]
  },
  {
   "cell_type": "code",
   "execution_count": null,
   "metadata": {},
   "outputs": [],
   "source": []
  }
 ],
 "metadata": {
  "kaggle": {
   "accelerator": "gpu",
   "dataSources": [],
   "dockerImageVersionId": 31090,
   "isGpuEnabled": true,
   "isInternetEnabled": true,
   "language": "python",
   "sourceType": "notebook"
  },
  "kernelspec": {
   "display_name": "Python 3 (ipykernel)",
   "language": "python",
   "name": "python3"
  },
  "language_info": {
   "codemirror_mode": {
    "name": "ipython",
    "version": 3
   },
   "file_extension": ".py",
   "mimetype": "text/x-python",
   "name": "python",
   "nbconvert_exporter": "python",
   "pygments_lexer": "ipython3",
   "version": "3.11.13"
  }
 },
 "nbformat": 4,
 "nbformat_minor": 4
}
