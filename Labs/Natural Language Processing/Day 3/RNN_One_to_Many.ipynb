{
  "cells": [
    {
      "cell_type": "markdown",
      "metadata": {
        "id": "FNCzX1ez_uAo"
      },
      "source": [
        "# 🔡 Character-Level Name Generation with RNN\n",
        "\n",
        "This lab demonstrates how to build a character-level Recurrent Neural Network (RNN) using PyTorch to generate surnames by language origin.\n",
        "\n",
        "### 🧠 Objective\n",
        "Train a model that:\n",
        "- Takes a **language category** (e.g., French, Arabic, Russian),\n",
        "- Takes a **starting letter** (e.g., 'A', 'B'),\n",
        "- And generates **surnames** in that language.\n",
        "\n",
        "### 📦 Dataset\n",
        "- A set of text files, each containing names from one language.\n",
        "- Preprocessing converts names to ASCII and organizes them by category.\n",
        "\n",
        "### 🏗️ Key Concepts\n",
        "- Character-level one-hot encoding\n",
        "- RNN architecture with manual loop over sequence\n",
        "- Training with negative log-likelihood loss (NLLLoss)\n",
        "- Name generation using autoregressive sampling\n",
        "\n",
        "### 🔍 Outcomes\n",
        "- Visualize training loss over time\n",
        "- Generate surnames for various languages and initials\n"
      ]
    },
    {
      "cell_type": "markdown",
      "metadata": {
        "id": "z2080qkIiSoU"
      },
      "source": [
        "### 🔽 Download and Extract Dataset\n",
        "\n",
        "This cell downloads the character-level name dataset from the official PyTorch tutorial repository. The dataset is provided as a ZIP file and contains several `.txt` files—each file corresponds to a different language and includes names in that language.\n",
        "\n",
        "- `!wget`: Fetches the ZIP archive from the internet.\n",
        "- `!unzip`: Extracts the contents into the current working directory.\n",
        "\n",
        "This dataset is used to train a character-level RNN that classifies names by their language of origin.\n"
      ]
    },
    {
      "cell_type": "code",
      "execution_count": null,
      "metadata": {
        "id": "SBiISB5MWRbx"
      },
      "outputs": [],
      "source": [
        "!wget -q https://download.pytorch.org/tutorial/data.zip\n",
        "!unzip -q data.zip"
      ]
    },
    {
      "cell_type": "markdown",
      "metadata": {
        "id": "Q0m5E4c-iXvU"
      },
      "source": [
        "### 🧰 Import Required Libraries\n",
        "\n",
        "This cell imports all necessary Python libraries for data preprocessing, file handling, and model building:\n",
        "\n"
      ]
    },
    {
      "cell_type": "code",
      "execution_count": null,
      "metadata": {
        "id": "oCqDViu7Ysfj"
      },
      "outputs": [],
      "source": [
        "from io import open\n",
        "import glob\n",
        "import os\n",
        "import unicodedata\n",
        "import string\n",
        "import torch\n",
        "import torch.nn as nn\n",
        "import random\n",
        "import time\n",
        "import math\n",
        "import matplotlib.pyplot as plt"
      ]
    },
    {
      "cell_type": "markdown",
      "metadata": {
        "id": "jCFvSyc9ihd_"
      },
      "source": [
        "### 🧹 Data Loading and Normalization Helpers\n",
        "\n",
        "This cell defines utility functions for file reading and preprocessing:\n",
        "\n",
        "- `findFiles(path)`: Uses `glob` to list all files matching the given pattern (e.g., all `.txt` files).\n",
        "  \n",
        "- `unicodeToAscii(s)`: Converts Unicode strings to plain ASCII by:\n",
        "  - Applying NFD normalization to split characters from accents.\n",
        "  - Removing non-spacing marks (diacritics).\n",
        "  - Filtering out any characters not in the allowed character set (`all_letters`).\n",
        "  - This ensures consistency and avoids unseen or rare Unicode characters in training.\n",
        "\n",
        "- `readLines(filename)`: Reads each line (i.e., each name) from a given file and converts it to ASCII using the above function. This returns a list of cleaned name strings.\n"
      ]
    },
    {
      "cell_type": "code",
      "execution_count": null,
      "metadata": {
        "id": "KMmqMrlm_uAp"
      },
      "outputs": [],
      "source": [
        "# Function to find all the files in path\n",
        "def findFiles(path):\n",
        "  return glob.glob(path)\n",
        "\n",
        "# Turn a Unicode string to plain ASCII, thanks to https://stackoverflow.com/a/518232/2809427\n",
        "def unicodeToAscii(s):\n",
        "    return ''.join(\n",
        "        c for c in unicodedata.normalize('NFD', s)\n",
        "        if unicodedata.category(c) != 'Mn'\n",
        "        and c in all_letters\n",
        "    )\n",
        "\n",
        "# Read a file and split into lines\n",
        "def readLines(filename):\n",
        "    with open(filename, encoding='utf-8') as some_file:\n",
        "        return [unicodeToAscii(line.strip()) for line in some_file]"
      ]
    },
    {
      "cell_type": "markdown",
      "metadata": {
        "id": "scT2lMwPisvQ"
      },
      "source": [
        "### 🗂️ Organize Data by Language Category\n",
        "\n",
        "This cell prepares the dataset for training by organizing names by their language of origin:\n",
        "\n",
        "- `all_letters`: Defines the set of valid characters, including letters and common punctuation. An extra token is reserved for the End-of-Sequence (EOS), so we add `+1` to `n_letters`.\n",
        "\n",
        "- `category_lines`: A dictionary mapping each language (e.g., `'French'`, `'Arabic'`) to a list of names in that language.\n",
        "\n",
        "- `all_categories`: A list of all language categories, extracted from the file names (e.g., `'French.txt'` becomes `'French'`).\n",
        "\n",
        "- The loop:\n",
        "  - Scans all name files in `data/names/`.\n",
        "  - Extracts the category name from the file name.\n",
        "  - Reads and cleans all names in that file.\n",
        "  - Stores them in the dictionary under their respective category.\n",
        "\n",
        "- `n_categories`: Total number of languages in the dataset.\n",
        "\n"
      ]
    },
    {
      "cell_type": "code",
      "execution_count": null,
      "metadata": {
        "id": "pTDrA7Z6ao65"
      },
      "outputs": [],
      "source": [
        "# Build the category_lines dictionary, a list of lines per category\n",
        "all_letters = string.ascii_letters + \" .,;'-\"\n",
        "n_letters = len(all_letters) + 1 # Plus EOS marker\n",
        "\n",
        "category_lines = {}\n",
        "all_categories = []\n",
        "\n",
        "for filename in findFiles('data/names/*.txt'):\n",
        "    category = os.path.splitext(os.path.basename(filename))[0]\n",
        "    all_categories.append(category)\n",
        "    lines = readLines(filename)\n",
        "    category_lines[category] = lines\n",
        "\n",
        "n_categories = len(all_categories)"
      ]
    },
    {
      "cell_type": "code",
      "execution_count": null,
      "metadata": {
        "colab": {
          "base_uri": "https://localhost:8080/"
        },
        "id": "yl58nY5gWujn",
        "outputId": "1605fb59-109b-405b-9488-58e5ea7325fb"
      },
      "outputs": [
        {
          "output_type": "stream",
          "name": "stdout",
          "text": [
            "Number of Categories: 18\n",
            "Categories:  ['Italian', 'Dutch', 'Arabic', 'Greek', 'French', 'Japanese', 'Vietnamese', 'Scottish', 'Russian', 'English', 'Spanish', 'Czech', 'Korean', 'German', 'Irish', 'Portuguese', 'Chinese', 'Polish']\n",
            "Examples of Arabic surnames: ['Khoury', 'Nahas', 'Daher', 'Gerges', 'Nazari', 'Maalouf', 'Gerges', 'Naifeh', 'Guirguis', 'Baba', 'Sabbagh', 'Attia', 'Tahan', 'Haddad', 'Aswad', 'Najjar', 'Dagher', 'Maloof', 'Isa', 'Asghar', 'Nader', 'Gaber', 'Abboud', 'Maalouf', 'Zogby', 'Srour', 'Bahar', 'Mustafa', 'Hanania', 'Daher', 'Tuma', 'Nahas', 'Saliba', 'Shamoon', 'Handal', 'Baba', 'Amari', 'Bahar', 'Atiyeh', 'Said', 'Khouri', 'Tahan', 'Baba', 'Mustafa', 'Guirguis', 'Sleiman', 'Seif', 'Dagher', 'Bahar', 'Gaber', 'Harb', 'Seif', 'Asker', 'Nader', 'Antar', 'Awad', 'Srour', 'Shadid', 'Hajjar', 'Hanania', 'Kalb', 'Shadid', 'Bazzi', 'Mustafa', 'Masih', 'Ghanem', 'Haddad', 'Isa', 'Antoun', 'Sarraf', 'Sleiman', 'Dagher', 'Najjar', 'Malouf', 'Nahas', 'Naser', 'Saliba', 'Shamon', 'Malouf', 'Kalb', 'Daher', 'Maalouf', 'Wasem', 'Kanaan', 'Naifeh', 'Boutros', 'Moghadam', 'Masih', 'Sleiman', 'Aswad', 'Cham', 'Assaf', 'Quraishi', 'Shalhoub', 'Sabbag', 'Mifsud', 'Gaber', 'Shammas', 'Tannous', 'Sleiman', 'Bazzi', 'Quraishi', 'Rahal', 'Cham', 'Ghanem', 'Ghanem', 'Naser', 'Baba', 'Shamon', 'Almasi', 'Basara', 'Quraishi', 'Bata', 'Wasem', 'Shamoun', 'Deeb', 'Touma', 'Asfour', 'Deeb', 'Hadad', 'Naifeh', 'Touma', 'Bazzi', 'Shamoun', 'Nahas', 'Haddad', 'Arian', 'Kouri', 'Deeb', 'Toma', 'Halabi', 'Nazari', 'Saliba', 'Fakhoury', 'Hadad', 'Baba', 'Mansour', 'Sayegh', 'Antar', 'Deeb', 'Morcos', 'Shalhoub', 'Sarraf', 'Amari', 'Wasem', 'Ganim', 'Tuma', 'Fakhoury', 'Hadad', 'Hakimi', 'Nader', 'Said', 'Ganim', 'Daher', 'Ganem', 'Tuma', 'Boutros', 'Aswad', 'Sarkis', 'Daher', 'Toma', 'Boutros', 'Kanaan', 'Antar', 'Gerges', 'Kouri', 'Maroun', 'Wasem', 'Dagher', 'Naifeh', 'Bishara', 'Ba', 'Cham', 'Kalb', 'Bazzi', 'Bitar', 'Hadad', 'Moghadam', 'Sleiman', 'Shamoun', 'Antar', 'Atiyeh', 'Koury', 'Nahas', 'Kouri', 'Maroun', 'Nassar', 'Sayegh', 'Haik', 'Ghanem', 'Sayegh', 'Salib', 'Cham', 'Bata', 'Touma', 'Antoun', 'Antar', 'Bata', 'Botros', 'Shammas', 'Ganim', 'Sleiman', 'Seif', 'Moghadam', 'Ba', 'Tannous', 'Bazzi', 'Seif', 'Salib', 'Hadad', 'Quraishi', 'Halabi', 'Essa', 'Bahar', 'Kattan', 'Boutros', 'Nahas', 'Sabbagh', 'Kanaan', 'Sayegh', 'Said', 'Botros', 'Najjar', 'Toma', 'Bata', 'Atiyeh', 'Halabi', 'Tannous', 'Kouri', 'Shamoon', 'Kassis', 'Haddad', 'Tuma', 'Mansour', 'Antar', 'Kassis', 'Kalb', 'Basara', 'Rahal', 'Mansour', 'Handal', 'Morcos', 'Fakhoury', 'Hadad', 'Morcos', 'Kouri', 'Quraishi', 'Almasi', 'Awad', 'Naifeh', 'Koury', 'Asker', 'Maroun', 'Fakhoury', 'Sabbag', 'Sarraf', 'Shamon', 'Assaf', 'Boutros', 'Malouf', 'Nassar', 'Qureshi', 'Ghanem', 'Srour', 'Almasi', 'Qureshi', 'Ghannam', 'Mustafa', 'Najjar', 'Kassab', 'Shadid', 'Shamoon', 'Morcos', 'Atiyeh', 'Isa', 'Ba', 'Baz', 'Asker', 'Seif', 'Asghar', 'Hajjar', 'Deeb', 'Essa', 'Qureshi', 'Abboud', 'Ganem', 'Haddad', 'Koury', 'Nassar', 'Abadi', 'Toma', 'Tannous', 'Harb', 'Issa', 'Khouri', 'Mifsud', 'Kalb', 'Gaber', 'Ganim', 'Boulos', 'Samaha', 'Haddad', 'Sabbag', 'Wasem', 'Dagher', 'Rahal', 'Atiyeh', 'Antar', 'Asghar', 'Mansour', 'Awad', 'Boulos', 'Sarraf', 'Deeb', 'Abadi', 'Nazari', 'Daher', 'Gerges', 'Shamoon', 'Gaber', 'Amari', 'Sarraf', 'Nazari', 'Saliba', 'Naifeh', 'Nazari', 'Hakimi', 'Shamon', 'Abboud', 'Quraishi', 'Tahan', 'Safar', 'Hajjar', 'Srour', 'Gaber', 'Shalhoub', 'Attia', 'Safar', 'Said', 'Ganem', 'Nader', 'Asghar', 'Mustafa', 'Said', 'Antar', 'Botros', 'Nader', 'Ghannam', 'Asfour', 'Tahan', 'Mansour', 'Attia', 'Touma', 'Najjar', 'Kassis', 'Abboud', 'Bishara', 'Bazzi', 'Shalhoub', 'Shalhoub', 'Safar', 'Khoury', 'Nazari', 'Sabbag', 'Sleiman', 'Atiyeh', 'Kouri', 'Bitar', 'Zogby', 'Ghanem', 'Assaf', 'Abadi', 'Arian', 'Shalhoub', 'Khoury', 'Morcos', 'Shamon', 'Wasem', 'Abadi', 'Antoun', 'Baz', 'Naser', 'Assaf', 'Saliba', 'Nader', 'Mikhail', 'Naser', 'Daher', 'Morcos', 'Awad', 'Nahas', 'Sarkis', 'Malouf', 'Mustafa', 'Fakhoury', 'Ghannam', 'Shadid', 'Gaber', 'Koury', 'Atiyeh', 'Shamon', 'Boutros', 'Sarraf', 'Arian', 'Fakhoury', 'Abadi', 'Kassab', 'Nahas', 'Quraishi', 'Mansour', 'Samaha', 'Wasem', 'Seif', 'Fakhoury', 'Saliba', 'Cham', 'Bahar', 'Shamoun', 'Essa', 'Shamon', 'Asfour', 'Bitar', 'Cham', 'Tahan', 'Tannous', 'Daher', 'Khoury', 'Shamon', 'Bahar', 'Quraishi', 'Ghannam', 'Kassab', 'Zogby', 'Basara', 'Shammas', 'Arian', 'Sayegh', 'Naifeh', 'Mifsud', 'Sleiman', 'Arian', 'Kassis', 'Shamoun', 'Kassis', 'Harb', 'Mustafa', 'Boulos', 'Asghar', 'Shamon', 'Kanaan', 'Atiyeh', 'Kassab', 'Tahan', 'Bazzi', 'Kassis', 'Qureshi', 'Basara', 'Shalhoub', 'Sayegh', 'Haik', 'Attia', 'Maroun', 'Kassis', 'Sarkis', 'Harb', 'Assaf', 'Kattan', 'Antar', 'Sleiman', 'Touma', 'Sarraf', 'Bazzi', 'Boulos', 'Baz', 'Issa', 'Shamon', 'Shadid', 'Deeb', 'Sabbag', 'Wasem', 'Awad', 'Mansour', 'Saliba', 'Fakhoury', 'Arian', 'Bishara', 'Dagher', 'Bishara', 'Koury', 'Fakhoury', 'Naser', 'Nader', 'Antar', 'Gerges', 'Handal', 'Hanania', 'Shadid', 'Gerges', 'Kassis', 'Essa', 'Assaf', 'Shadid', 'Seif', 'Shalhoub', 'Shamoun', 'Hajjar', 'Baba', 'Sayegh', 'Mustafa', 'Sabbagh', 'Isa', 'Najjar', 'Tannous', 'Hanania', 'Ganem', 'Gerges', 'Fakhoury', 'Mifsud', 'Nahas', 'Bishara', 'Bishara', 'Abadi', 'Sarkis', 'Masih', 'Isa', 'Attia', 'Kalb', 'Essa', 'Boulos', 'Basara', 'Halabi', 'Halabi', 'Dagher', 'Attia', 'Kassis', 'Tuma', 'Gerges', 'Ghannam', 'Toma', 'Baz', 'Asghar', 'Zogby', 'Aswad', 'Hadad', 'Dagher', 'Naser', 'Shadid', 'Atiyeh', 'Zogby', 'Abboud', 'Tannous', 'Khouri', 'Atiyeh', 'Ganem', 'Maalouf', 'Isa', 'Maroun', 'Issa', 'Khouri', 'Harb', 'Nader', 'Awad', 'Nahas', 'Said', 'Baba', 'Totah', 'Ganim', 'Handal', 'Mansour', 'Basara', 'Malouf', 'Said', 'Botros', 'Samaha', 'Safar', 'Tahan', 'Botros', 'Shamoun', 'Handal', 'Sarraf', 'Malouf', 'Bishara', 'Aswad', 'Khouri', 'Baz', 'Asker', 'Toma', 'Koury', 'Gerges', 'Bishara', 'Boulos', 'Najjar', 'Aswad', 'Shamon', 'Kouri', 'Srour', 'Assaf', 'Tannous', 'Attia', 'Mustafa', 'Kattan', 'Asghar', 'Amari', 'Shadid', 'Said', 'Bazzi', 'Masih', 'Antar', 'Fakhoury', 'Shadid', 'Masih', 'Handal', 'Sarraf', 'Kassis', 'Salib', 'Hajjar', 'Totah', 'Koury', 'Totah', 'Mustafa', 'Sabbagh', 'Moghadam', 'Toma', 'Srour', 'Almasi', 'Totah', 'Maroun', 'Kattan', 'Naifeh', 'Sarkis', 'Mikhail', 'Nazari', 'Boutros', 'Guirguis', 'Gaber', 'Kassis', 'Masih', 'Hanania', 'Maloof', 'Quraishi', 'Cham', 'Hadad', 'Tahan', 'Bitar', 'Arian', 'Gaber', 'Baz', 'Mansour', 'Kalb', 'Sarkis', 'Attia', 'Antar', 'Asfour', 'Said', 'Essa', 'Koury', 'Hadad', 'Tuma', 'Moghadam', 'Sabbagh', 'Amari', 'Dagher', 'Srour', 'Antoun', 'Sleiman', 'Maroun', 'Tuma', 'Nahas', 'Hanania', 'Sayegh', 'Amari', 'Sabbagh', 'Said', 'Cham', 'Asker', 'Nassar', 'Bitar', 'Said', 'Dagher', 'Safar', 'Khouri', 'Totah', 'Khoury', 'Salib', 'Basara', 'Abboud', 'Baz', 'Isa', 'Cham', 'Amari', 'Mifsud', 'Hadad', 'Rahal', 'Khoury', 'Bazzi', 'Basara', 'Totah', 'Ghannam', 'Koury', 'Malouf', 'Zogby', 'Zogby', 'Boutros', 'Nassar', 'Handal', 'Hajjar', 'Maloof', 'Abadi', 'Maroun', 'Mifsud', 'Kalb', 'Amari', 'Hakimi', 'Boutros', 'Masih', 'Kattan', 'Haddad', 'Arian', 'Nazari', 'Assaf', 'Attia', 'Wasem', 'Gerges', 'Asker', 'Tahan', 'Fakhoury', 'Shadid', 'Sarraf', 'Attia', 'Naifeh', 'Aswad', 'Deeb', 'Tannous', 'Totah', 'Cham', 'Baba', 'Najjar', 'Hajjar', 'Shamoon', 'Handal', 'Awad', 'Guirguis', 'Awad', 'Ganem', 'Naifeh', 'Khoury', 'Hajjar', 'Moghadam', 'Mikhail', 'Ghannam', 'Guirguis', 'Tannous', 'Kanaan', 'Handal', 'Khoury', 'Kalb', 'Qureshi', 'Najjar', 'Atiyeh', 'Gerges', 'Nassar', 'Tahan', 'Hadad', 'Fakhoury', 'Salib', 'Wasem', 'Bitar', 'Fakhoury', 'Attia', 'Awad', 'Totah', 'Deeb', 'Touma', 'Botros', 'Nazari', 'Nahas', 'Kouri', 'Ghannam', 'Assaf', 'Asfour', 'Sarraf', 'Naifeh', 'Toma', 'Asghar', 'Abboud', 'Issa', 'Sabbag', 'Sabbagh', 'Isa', 'Koury', 'Kattan', 'Shamoon', 'Rahal', 'Kalb', 'Naser', 'Masih', 'Sayegh', 'Dagher', 'Asker', 'Maroun', 'Dagher', 'Sleiman', 'Botros', 'Sleiman', 'Harb', 'Tahan', 'Tuma', 'Said', 'Hadad', 'Samaha', 'Harb', 'Cham', 'Atiyeh', 'Haik', 'Malouf', 'Bazzi', 'Harb', 'Malouf', 'Ghanem', 'Cham', 'Asghar', 'Samaha', 'Khouri', 'Nassar', 'Rahal', 'Baz', 'Kalb', 'Rahal', 'Gerges', 'Cham', 'Sayegh', 'Shadid', 'Morcos', 'Shamoon', 'Hakimi', 'Shamoon', 'Qureshi', 'Ganim', 'Shadid', 'Khoury', 'Boutros', 'Hanania', 'Antoun', 'Naifeh', 'Deeb', 'Samaha', 'Awad', 'Asghar', 'Awad', 'Saliba', 'Shamoun', 'Mikhail', 'Hakimi', 'Mikhail', 'Cham', 'Halabi', 'Sarkis', 'Kattan', 'Nazari', 'Safar', 'Morcos', 'Khoury', 'Essa', 'Nassar', 'Haik', 'Shadid', 'Fakhoury', 'Najjar', 'Arian', 'Botros', 'Daher', 'Saliba', 'Saliba', 'Kattan', 'Hajjar', 'Nader', 'Daher', 'Nassar', 'Maroun', 'Harb', 'Nassar', 'Antar', 'Shammas', 'Toma', 'Antar', 'Koury', 'Nader', 'Botros', 'Bahar', 'Najjar', 'Maloof', 'Salib', 'Malouf', 'Mansour', 'Bazzi', 'Atiyeh', 'Kanaan', 'Bishara', 'Hakimi', 'Saliba', 'Tuma', 'Mifsud', 'Hakimi', 'Assaf', 'Nassar', 'Sarkis', 'Bitar', 'Isa', 'Halabi', 'Shamon', 'Qureshi', 'Bishara', 'Maalouf', 'Srour', 'Boulos', 'Safar', 'Shamoun', 'Ganim', 'Abadi', 'Koury', 'Shadid', 'Zogby', 'Boutros', 'Shadid', 'Hakimi', 'Bazzi', 'Isa', 'Totah', 'Salib', 'Shamoon', 'Gaber', 'Antar', 'Antar', 'Najjar', 'Fakhoury', 'Malouf', 'Salib', 'Rahal', 'Boulos', 'Attia', 'Said', 'Kassis', 'Bahar', 'Bazzi', 'Srour', 'Antar', 'Nahas', 'Kassis', 'Samaha', 'Quraishi', 'Asghar', 'Asker', 'Antar', 'Totah', 'Haddad', 'Maloof', 'Kouri', 'Basara', 'Bata', 'Antar', 'Shammas', 'Arian', 'Gerges', 'Seif', 'Almasi', 'Tuma', 'Shamoon', 'Khoury', 'Hakimi', 'Abboud', 'Baz', 'Seif', 'Issa', 'Nazari', 'Harb', 'Shammas', 'Amari', 'Totah', 'Malouf', 'Sarkis', 'Naser', 'Zogby', 'Handal', 'Naifeh', 'Cham', 'Hadad', 'Gerges', 'Kalb', 'Shalhoub', 'Saliba', 'Tannous', 'Tahan', 'Tannous', 'Kassis', 'Shadid', 'Sabbag', 'Tahan', 'Abboud', 'Nahas', 'Shamoun', 'Dagher', 'Botros', 'Amari', 'Maalouf', 'Awad', 'Gerges', 'Shamoon', 'Haddad', 'Salib', 'Attia', 'Kassis', 'Sleiman', 'Maloof', 'Maroun', 'Koury', 'Asghar', 'Kalb', 'Asghar', 'Touma', 'Ganim', 'Rahal', 'Haddad', 'Zogby', 'Mansour', 'Guirguis', 'Touma', 'Maroun', 'Tannous', 'Hakimi', 'Baba', 'Toma', 'Botros', 'Sarraf', 'Koury', 'Sarraf', 'Nassar', 'Boutros', 'Guirguis', 'Qureshi', 'Aswad', 'Basara', 'Toma', 'Tuma', 'Mansour', 'Ba', 'Naifeh', 'Mikhail', 'Amari', 'Shamon', 'Malouf', 'Boutros', 'Hakimi', 'Srour', 'Morcos', 'Halabi', 'Bazzi', 'Abadi', 'Shamoun', 'Haddad', 'Baz', 'Baba', 'Hadad', 'Saliba', 'Haddad', 'Maalouf', 'Bitar', 'Shammas', 'Totah', 'Said', 'Najjar', 'Mikhail', 'Samaha', 'Boulos', 'Kalb', 'Shamon', 'Shamoun', 'Seif', 'Touma', 'Hajjar', 'Hadad', 'Atiyeh', 'Totah', 'Mansour', 'Nazari', 'Quraishi', 'Ba', 'Sarkis', 'Gerges', 'Shalhoub', 'Nazari', 'Issa', 'Salib', 'Shalhoub', 'Nassar', 'Guirguis', 'Daher', 'Hakimi', 'Attia', 'Cham', 'Isa', 'Hakimi', 'Amari', 'Boutros', 'Sarraf', 'Antoun', 'Botros', 'Haddad', 'Tahan', 'Bishara', 'Shalhoub', 'Safar', 'Haik', 'Tahan', 'Seif', 'Awad', 'Antoun', 'Atiyeh', 'Samaha', 'Assaf', 'Guirguis', 'Hadad', 'Sayegh', 'Khouri', 'Asghar', 'Tannous', 'Maalouf', 'Khouri', 'Hajjar', 'Abadi', 'Ghanem', 'Salib', 'Botros', 'Bitar', 'Bishara', 'Quraishi', 'Boutros', 'Aswad', 'Srour', 'Shamon', 'Abboud', 'Almasi', 'Baba', 'Tahan', 'Essa', 'Sabbag', 'Issa', 'Abadi', 'Abboud', 'Bazzi', 'Nader', 'Bahar', 'Ghannam', 'Asghar', 'Gaber', 'Sayegh', 'Guirguis', 'Srour', 'Asghar', 'Quraishi', 'Sayegh', 'Rahal', 'Tahan', 'Morcos', 'Cham', 'Kanaan', 'Nahas', 'Essa', 'Mifsud', 'Kouri', 'Isa', 'Saliba', 'Asfour', 'Guirguis', 'Isa', 'Bishara', 'Assaf', 'Naser', 'Moghadam', 'Kalb', 'Baba', 'Guirguis', 'Naifeh', 'Bitar', 'Samaha', 'Abboud', 'Hadad', 'Ghannam', 'Hanania', 'Shadid', 'Totah', 'Tahan', 'Toma', 'Maloof', 'Botros', 'Issa', 'Deeb', 'Nahas', 'Khoury', 'Sayegh', 'Harb', 'Said', 'Guirguis', 'Nader', 'Harb', 'Atiyeh', 'Zogby', 'Basara', 'Nassar', 'Kalb', 'Khoury', 'Mifsud', 'Wasem', 'Handal', 'Ganim', 'Harb', 'Ganim', 'Malouf', 'Sayegh', 'Khoury', 'Sabbag', 'Sabbag', 'Boulos', 'Malouf', 'Gaber', 'Shammas', 'Fakhoury', 'Halabi', 'Haddad', 'Asker', 'Morcos', 'Hanania', 'Amari', 'Kassab', 'Malouf', 'Khouri', 'Moghadam', 'Totah', 'Maloof', 'Atiyeh', 'Abadi', 'Baz', 'Khoury', 'Arian', 'Handal', 'Dagher', 'Awad', 'Atiyeh', 'Arian', 'Khoury', 'Amari', 'Attia', 'Ganim', 'Nader', 'Dagher', 'Sabbag', 'Halabi', 'Khouri', 'Khouri', 'Saliba', 'Mifsud', 'Koury', 'Awad', 'Bahar', 'Mustafa', 'Kassis', 'Gaber', 'Mifsud', 'Bishara', 'Asker', 'Nahas', 'Wasem', 'Sleiman', 'Bata', 'Daher', 'Antar', 'Isa', 'Ganim', 'Rahal', 'Toma', 'Rahal', 'Shamoun', 'Maloof', 'Hakimi', 'Safar', 'Gerges', 'Hanania', 'Koury', 'Assaf', 'Safar', 'Gerges', 'Ganim', 'Morcos', 'Awad', 'Arian', 'Tahan', 'Sleiman', 'Asker', 'Boulos', 'Koury', 'Mifsud', 'Sabbag', 'Dagher', 'Bazzi', 'Mustafa', 'Almasi', 'Handal', 'Isa', 'Guirguis', 'Sayegh', 'Ganim', 'Ghanem', 'Toma', 'Mustafa', 'Basara', 'Bitar', 'Samaha', 'Mifsud', 'Tahan', 'Issa', 'Salib', 'Khoury', 'Hadad', 'Haik', 'Gaber', 'Mansour', 'Hakimi', 'Ba', 'Mustafa', 'Gaber', 'Kattan', 'Koury', 'Awad', 'Maalouf', 'Masih', 'Harb', 'Atiyeh', 'Zogby', 'Nahas', 'Assaf', 'Morcos', 'Ganem', 'Ganem', 'Wasem', 'Fakhoury', 'Ghanem', 'Salib', 'Khouri', 'Maloof', 'Khouri', 'Shalhoub', 'Issa', 'Najjar', 'Kassis', 'Mustafa', 'Sayegh', 'Kassis', 'Hajjar', 'Nader', 'Sarkis', 'Tahan', 'Haddad', 'Antar', 'Sayegh', 'Zogby', 'Mifsud', 'Kassab', 'Hanania', 'Bishara', 'Shamoun', 'Abboud', 'Mustafa', 'Sleiman', 'Abadi', 'Sarraf', 'Zogby', 'Daher', 'Issa', 'Nazari', 'Shamon', 'Tuma', 'Asghar', 'Morcos', 'Mifsud', 'Cham', 'Sarraf', 'Antar', 'Ba', 'Aswad', 'Mikhail', 'Kouri', 'Mikhail', 'Awad', 'Halabi', 'Moghadam', 'Mikhail', 'Naifeh', 'Kattan', 'Shammas', 'Malouf', 'Najjar', 'Srour', 'Masih', 'Fakhoury', 'Khouri', 'Assaf', 'Mifsud', 'Malouf', 'Abboud', 'Shamoon', 'Mansour', 'Halabi', 'Ganem', 'Deeb', 'Wasem', 'Kalb', 'Safar', 'Tuma', 'Fakhoury', 'Toma', 'Guirguis', 'Kassab', 'Nader', 'Handal', 'Baba', 'Fakhoury', 'Haik', 'Guirguis', 'Seif', 'Almasi', 'Shamon', 'Ba', 'Salib', 'Zogby', 'Koury', 'Najjar', 'Atiyeh', 'Morcos', 'Antar', 'Awad', 'Hadad', 'Maroun', 'Touma', 'Almasi', 'Kassis', 'Arian', 'Malouf', 'Koury', 'Sarraf', 'Hadad', 'Bata', 'Tuma', 'Sarkis', 'Quraishi', 'Gaber', 'Abadi', 'Nader', 'Bazzi', 'Ghannam', 'Botros', 'Deeb', 'Awad', 'Kattan', 'Kanaan', 'Sarraf', 'Nahas', 'Assaf', 'Shadid', 'Gaber', 'Samaha', 'Harb', 'Samaha', 'Zogby', 'Atiyeh', 'Mustafa', 'Hanania', 'Isa', 'Almasi', 'Bitar', 'Fakhoury', 'Moghadam', 'Handal', 'Seif', 'Mustafa', 'Rahal', 'Antoun', 'Kassab', 'Bazzi', 'Hadad', 'Nader', 'Tuma', 'Basara', 'Totah', 'Nassar', 'Seif', 'Nassar', 'Daher', 'Daher', 'Maalouf', 'Rahal', 'Quraishi', 'Hadad', 'Bahar', 'Sabbag', 'Halabi', 'Tuma', 'Antoun', 'Boutros', 'Gerges', 'Bishara', 'Baba', 'Zogby', 'Nahas', 'Atiyeh', 'Rahal', 'Sabbagh', 'Bitar', 'Botros', 'Tuma', 'Ganim', 'Handal', 'Daher', 'Boutros', 'Khouri', 'Maroun', 'Mifsud', 'Arian', 'Safar', 'Koury', 'Deeb', 'Shamoun', 'Cham', 'Asghar', 'Morcos', 'Tahan', 'Salib', 'Aswad', 'Shadid', 'Saliba', 'Ganim', 'Haik', 'Kattan', 'Antoun', 'Hajjar', 'Toma', 'Toma', 'Antoun', 'Tahan', 'Haik', 'Kassis', 'Shamoun', 'Shammas', 'Kassis', 'Shadid', 'Samaha', 'Sarraf', 'Nader', 'Ganem', 'Zogby', 'Maloof', 'Kalb', 'Gerges', 'Seif', 'Nahas', 'Arian', 'Asfour', 'Hakimi', 'Ba', 'Handal', 'Abadi', 'Harb', 'Nader', 'Asghar', 'Sabbag', 'Touma', 'Amari', 'Kanaan', 'Hajjar', 'Said', 'Sarraf', 'Haddad', 'Mifsud', 'Shammas', 'Sleiman', 'Asfour', 'Deeb', 'Kattan', 'Naser', 'Said', 'Bishara', 'Harb', 'Morcos', 'Sayegh', 'Said', 'Naser', 'Aswad', 'Seif', 'Kouri', 'Dagher', 'Shamon', 'Hadad', 'Handal', 'Tuma', 'Shamon', 'Hakimi', 'Rahal', 'Hadad', 'Ghannam', 'Almasi', 'Daher', 'Handal', 'Malouf', 'Mansour', 'Sabbagh', 'Sabbag', 'Saliba', 'Haddad', 'Tahan', 'Khoury', 'Harb', 'Ganim', 'Mansour', 'Ganem', 'Handal', 'Handal', 'Antar', 'Asfour', 'Kouri', 'Cham', 'Masih', 'Saliba', 'Qureshi', 'Daher', 'Safar', 'Assaf', 'Harb', 'Abboud', 'Haik', 'Ghannam', 'Maalouf', 'Daher', 'Najjar', 'Mifsud', 'Daher', 'Amari', 'Saliba', 'Kanaan', 'Guirguis', 'Atiyeh', 'Sleiman', 'Mikhail', 'Arian', 'Wasem', 'Attia', 'Nassar', 'Cham', 'Koury', 'Baba', 'Guirguis', 'Morcos', 'Quraishi', 'Seif', 'Sarkis', 'Moghadam', 'Ba', 'Boutros', 'Nader', 'Gerges', 'Salib', 'Salib', 'Guirguis', 'Essa', 'Guirguis', 'Antoun', 'Kassis', 'Abboud', 'Najjar', 'Aswad', 'Srour', 'Mifsud', 'Ghanem', 'Bitar', 'Ghannam', 'Asghar', 'Deeb', 'Kalb', 'Nader', 'Srour', 'Attia', 'Shamon', 'Bata', 'Nahas', 'Gerges', 'Kanaan', 'Kassis', 'Sarkis', 'Maloof', 'Almasi', 'Nassar', 'Saliba', 'Arian', 'Ghanem', 'Awad', 'Naifeh', 'Boutros', 'Fakhoury', 'Sabbag', 'Antar', 'Tahan', 'Mustafa', 'Almasi', 'Shammas', 'Totah', 'Boutros', 'Cham', 'Shamon', 'Ganim', 'Ghanem', 'Assaf', 'Khoury', 'Naifeh', 'Bahar', 'Quraishi', 'Bishara', 'Cham', 'Asfour', 'Ghannam', 'Khoury', 'Sayegh', 'Hanania', 'Maroun', 'Kouri', 'Sarkis', 'Haik', 'Basara', 'Salib', 'Shammas', 'Fakhoury', 'Nahas', 'Ganim', 'Botros', 'Arian', 'Shalhoub', 'Hadad', 'Mustafa', 'Shalhoub', 'Kassab', 'Asker', 'Botros', 'Kanaan', 'Gaber', 'Bazzi', 'Sayegh', 'Nassar', 'Kassis', 'Fakhoury', 'Kassis', 'Amari', 'Sarraf', 'Mifsud', 'Salib', 'Samaha', 'Mustafa', 'Asfour', 'Najjar', 'Essa', 'Naifeh', 'Cham', 'Sarraf', 'Moghadam', 'Fakhoury', 'Assaf', 'Almasi', 'Asghar', 'Nader', 'Kalb', 'Shamoun', 'Gerges', 'Wasem', 'Morcos', 'Nader', 'Said', 'Safar', 'Quraishi', 'Samaha', 'Kassab', 'Deeb', 'Sarraf', 'Rahal', 'Naifeh', 'Ba', 'Nazari', 'Ganim', 'Arian', 'Asker', 'Touma', 'Kassab', 'Tahan', 'Mansour', 'Morcos', 'Shammas', 'Baba', 'Morcos', 'Isa', 'Moghadam', 'Ganem', 'Baz', 'Totah', 'Nader', 'Kouri', 'Guirguis', 'Koury', 'Zogby', 'Basara', 'Baz', 'Deeb', 'Mustafa', 'Shadid', 'Awad', 'Sarraf', 'Quraishi', 'Kanaan', 'Tahan', 'Ghannam', 'Shammas', 'Abboud', 'Najjar', 'Bishara', 'Tuma', 'Srour', 'Mifsud', 'Srour', 'Hajjar', 'Qureshi', 'Bitar', 'Hadad', 'Almasi', 'Wasem', 'Abadi', 'Maroun', 'Baz', 'Koury', 'Ganem', 'Awad', 'Maalouf', 'Mifsud', 'Haik', 'Sleiman', 'Arian', 'Seif', 'Mansour', 'Koury', 'Kattan', 'Koury', 'Aswad', 'Ba', 'Rahal', 'Zogby', 'Bahar', 'Fakhoury', 'Samaha', 'Sarraf', 'Mifsud', 'Antar', 'Moghadam', 'Botros', 'Srour', 'Sabbag', 'Sayegh', 'Rahal', 'Attia', 'Naifeh', 'Saliba', 'Mustafa', 'Amari', 'Issa', 'Masih', 'Khouri', 'Haddad', 'Kalb', 'Bazzi', 'Salib', 'Hanania', 'Shamoon', 'Tuma', 'Cham', 'Antoun', 'Wasem', 'Kouri', 'Ghanem', 'Wasem', 'Khoury', 'Assaf', 'Ganem', 'Seif', 'Nader', 'Essa', 'Shadid', 'Botros', 'Sleiman', 'Bishara', 'Basara', 'Maalouf', 'Issa', 'Nassar', 'Moghadam', 'Ganim', 'Kassis', 'Antoun', 'Said', 'Khouri', 'Salib', 'Baz', 'Sarkis', 'Tuma', 'Naifeh', 'Najjar', 'Asker', 'Khouri', 'Mustafa', 'Najjar', 'Sabbag', 'Malouf', 'Wasem', 'Maalouf', 'Gaber', 'Said', 'Zogby', 'Bahar', 'Hanania', 'Shalhoub', 'Abadi', 'Handal', 'Qureshi', 'Kanaan', 'Abboud', 'Mifsud', 'Touma', 'Ganim', 'Bishara', 'Bazzi', 'Gaber', 'Haik', 'Ghanem', 'Sarraf', 'Sarkis', 'Mustafa', 'Baz', 'Kanaan', 'Nazari', 'Bahar', 'Malouf', 'Quraishi', 'Kattan', 'Arian', 'Shadid', 'Tuma', 'Nader', 'Khoury', 'Safar', 'Wasem', 'Toma', 'Haddad', 'Quraishi', 'Nassar', 'Kanaan', 'Gaber', 'Haddad', 'Rahal', 'Koury', 'Harb', 'Mikhail', 'Dagher', 'Shadid', 'Boutros', 'Mikhail', 'Khouri', 'Nader', 'Issa', 'Harb', 'Dagher', 'Gerges', 'Morcos', 'Essa', 'Fakhoury', 'Tuma', 'Kattan', 'Totah', 'Qureshi', 'Nahas', 'Bitar', 'Tahan', 'Daher', 'Shammas', 'Kouri', 'Ganim', 'Daher', 'Awad', 'Malouf', 'Mustafa', 'Aswad']\n",
            "O'Neal\n"
          ]
        }
      ],
      "source": [
        "# it is usefull ALL THE TIME to understand your data a little bit\n",
        "print('Number of Categories:', n_categories)\n",
        "print(\"Categories: \", all_categories)\n",
        "print(\"Examples of Arabic surnames:\",category_lines['Arabic'])\n",
        "print(unicodeToAscii(\"O'Néàl\"))"
      ]
    },
    {
      "cell_type": "markdown",
      "metadata": {
        "id": "7H_qBsg5jP9w"
      },
      "source": [
        "### 🧠 Define the Recurrent Neural Network (RNN) Model\n",
        "\n",
        "This custom `RNN` class is designed for character-level name classification based on language:\n",
        "\n",
        "- **Inputs to the model**:\n",
        "  - `category`: One-hot vector representing the language.\n",
        "  - `input`: One-hot vector of the current character.\n",
        "  - `hidden`: Hidden state from the previous time step.\n",
        "\n",
        "- **Architecture**:\n",
        "  - `input2hidden`: Takes concatenated vectors of `[category, input, hidden]` and computes a new hidden state.\n",
        "  - `input2output`: Generates intermediate output from the same concatenated input.\n",
        "  - `output2output`: Refines the combined `[hidden, output]` to produce the final prediction.\n",
        "  - `Dropout`: Adds regularization to prevent overfitting.\n",
        "  - `LogSoftmax`: Converts output logits to log-probabilities for classification.\n",
        "\n",
        "- **`forward` function**: Describes how data flows through the network during a forward pass.\n",
        "- **`initHidden` function**: Returns a zero-initialized hidden state (batch size = 1 here).\n",
        "\n",
        "This structure allows the RNN to learn sequential dependencies in characters while incorporating category information at each step.\n",
        "\n",
        "![](https://i.imgur.com/jzVrf7f.png)\n"
      ]
    },
    {
      "cell_type": "code",
      "execution_count": null,
      "metadata": {
        "id": "zzLe6wXG_uAq"
      },
      "outputs": [],
      "source": [
        "device = torch.device(\"cuda\" if torch.cuda.is_available() else \"cpu\")\n",
        "\n",
        "class RNN(nn.Module):\n",
        "    def __init__(self, input_size, hidden_size, output_size):\n",
        "        super(RNN, self).__init__()\n",
        "        self.hidden_size = hidden_size\n",
        "\n",
        "        self.input2hidden = nn.Linear(n_categories + input_size + hidden_size, hidden_size)\n",
        "        self.input2output = nn.Linear(n_categories + input_size + hidden_size, output_size)\n",
        "        self.output2output = nn.Linear(hidden_size + output_size, output_size)\n",
        "        self.dropout = nn.Dropout(0.1)\n",
        "        self.softmax = nn.LogSoftmax(dim=1)\n",
        "\n",
        "    def forward(self, category, input, hidden):\n",
        "        input_combined = torch.cat((category, input, hidden), 1)\n",
        "        hidden = self.input2hidden(input_combined)\n",
        "        output = self.input2output(input_combined)\n",
        "        output_combined = torch.cat((hidden, output), 1)\n",
        "        output = self.output2output(output_combined)\n",
        "        output = self.dropout(output)\n",
        "        output = self.softmax(output)\n",
        "        return output, hidden\n",
        "\n",
        "    def initHidden(self):\n",
        "        return torch.zeros(1, self.hidden_size, device=device)"
      ]
    },
    {
      "cell_type": "markdown",
      "metadata": {
        "id": "Fj04b58Pla6i"
      },
      "source": [
        "### ✅ Sanity Check: Forward Pass for the Custom Character-Level RNN\n",
        "\n",
        "Run this simple test to verify that our `RNN` model works as expected:\n",
        "\n",
        "- **Why?**  \n",
        "  - Confirms the forward pass completes without error.\n",
        "  - Checks that input and output tensor shapes are correct.\n",
        "\n",
        "- **What to expect?**  \n",
        "  - Output tensor shape: **(1, output_size)**\n",
        "  - Next hidden state shape: **(1, hidden_size)**"
      ]
    },
    {
      "cell_type": "code",
      "execution_count": null,
      "metadata": {
        "id": "wZ1Dy15rla6i",
        "outputId": "948cd070-4a53-4ca5-8df0-b975216131b5",
        "colab": {
          "base_uri": "https://localhost:8080/"
        }
      },
      "outputs": [
        {
          "output_type": "stream",
          "name": "stdout",
          "text": [
            "Output shape: torch.Size([1, 5])\n",
            "Next hidden shape: torch.Size([1, 8])\n",
            "Output: tensor([[-1.4104, -1.8076, -1.5826, -1.7092, -1.5826]],\n",
            "       grad_fn=<LogSoftmaxBackward0>)\n",
            "Next hidden: tensor([[ 0.1095,  0.0932,  0.0919, -0.1875,  0.0783,  0.0904,  0.2849, -0.0138]],\n",
            "       grad_fn=<AddmmBackward0>)\n"
          ]
        }
      ],
      "source": [
        "n_categories = 18\n",
        "input_size = 10\n",
        "hidden_size = 8\n",
        "output_size = 5\n",
        "\n",
        "# Instantiate model\n",
        "model = RNN(input_size, hidden_size, output_size).to(device)\n",
        "\n",
        "# Dummy inputs for sanity check\n",
        "category = torch.zeros(1, n_categories, device=device)\n",
        "category[0, 0] = 1\n",
        "\n",
        "input_char = torch.zeros(1, input_size, device=device)\n",
        "input_char[0, 2] = 1\n",
        "\n",
        "hidden = model.initHidden()\n",
        "\n",
        "# Forward pass\n",
        "output, next_hidden = model(category, input_char, hidden)\n",
        "\n",
        "print(\"Output shape:\", output.shape)\n",
        "print(\"Next hidden shape:\", next_hidden.shape)\n",
        "print(\"Output:\", output)\n",
        "print(\"Next hidden:\", next_hidden)"
      ]
    },
    {
      "cell_type": "markdown",
      "metadata": {
        "id": "qoRULsuA_uAr"
      },
      "source": [
        "### 🎲 Generate Random Training Examples\n",
        "\n",
        "This cell defines helper functions for sampling training data:\n",
        "\n",
        "- `randomChoice(l)`: Returns a random element from a given list.\n",
        "\n",
        "- `randomTrainingPair()`:\n",
        "  - Randomly selects a language `category` from `all_categories`.\n",
        "  - Then randomly selects a name `line` from that category using `category_lines`.\n",
        "  - Returns both the category and the corresponding name.\n",
        "\n",
        "These functions are useful for preparing randomized training batches to prevent overfitting and promote generalization.\n"
      ]
    },
    {
      "cell_type": "code",
      "execution_count": null,
      "metadata": {
        "id": "4oo5lTA__uAr"
      },
      "outputs": [],
      "source": [
        "# Random item from a list\n",
        "def randomChoice(l):\n",
        "    return l[random.randint(0, len(l) - 1)]\n",
        "\n",
        "# Get a random category and random line from that category\n",
        "def randomTrainingPair():\n",
        "    category = randomChoice(all_categories)\n",
        "    line = randomChoice(category_lines[category])\n",
        "    return category, line"
      ]
    },
    {
      "cell_type": "markdown",
      "metadata": {
        "id": "ypvvQKD-_uAr"
      },
      "source": [
        "For each timestep (that is, for each letter in a training word) the\n",
        "inputs of the network will be `(category, current letter, hidden state)`\n",
        "and the outputs will be `(next letter, next hidden state)`. So for each\n",
        "training set, we\\'ll need the category, a set of input letters, and a\n",
        "set of output/target letters.\n",
        "\n",
        "Since we are predicting the next letter from the current letter for each\n",
        "timestep, the letter pairs are groups of consecutive letters from the\n",
        "line - e.g. for `\"ABCD<EOS>\"` we would create (\\\"A\\\", \\\"B\\\"), (\\\"B\\\",\n",
        "\\\"C\\\"), (\\\"C\\\", \\\"D\\\"), (\\\"D\\\", \\\"EOS\\\").\n",
        "\n",
        "![](https://i.imgur.com/JH58tXY.png)\n",
        "\n",
        "The category tensor is a [one-hot\n",
        "tensor](https://en.wikipedia.org/wiki/One-hot) of size\n",
        "`<1 x n_categories>`. When training we feed it to the network at every\n",
        "timestep - this is a design choice, it could have been included as part\n",
        "of initial hidden state or some other strategy.\n"
      ]
    },
    {
      "cell_type": "markdown",
      "metadata": {
        "id": "RtUiyf7HkJ-H"
      },
      "source": [
        "### 🔢 Tensor Encoding for Category, Input, and Target\n",
        "\n",
        "This cell defines functions to convert names and categories into tensor formats suitable for training:\n",
        "\n",
        "- `categoryTensor(category)`:\n",
        "  - Converts a language category into a one-hot vector of shape `(1, n_categories)`.\n",
        "  - The category index is set to 1; all others remain 0.\n",
        "\n",
        "- `inputTensor(line)`:\n",
        "  - Converts a name (string) into a sequence of one-hot encoded character vectors.\n",
        "  - Shape: `(line_length, 1, n_letters)`, where each character is represented by a one-hot vector.\n",
        "\n",
        "- `targetTensor(line)`:\n",
        "  - Converts the expected output (i.e., the next character at each time step) into indices.\n",
        "  - The sequence starts from the second character and ends with an **EOS** (End-of-Sequence) marker.\n",
        "  - Output is a `LongTensor` used for classification targets.\n",
        "\n",
        "These encoded representations allow the model to learn sequential character predictions based on category and character history.\n"
      ]
    },
    {
      "cell_type": "code",
      "execution_count": null,
      "metadata": {
        "id": "etVpVhye_uAs"
      },
      "outputs": [],
      "source": [
        "# One-hot vector for category\n",
        "def categoryTensor(category):\n",
        "    li = all_categories.index(category)\n",
        "    tensor = torch.zeros(1, n_categories)\n",
        "    tensor[0][li] = 1\n",
        "    return tensor.to(device)\n",
        "\n",
        "# One-hot matrix of first to last letters (not including EOS) for input\n",
        "def inputTensor(line):\n",
        "    tensor = torch.zeros(len(line), 1, n_letters)\n",
        "    for li in range(len(line)):\n",
        "        letter = line[li]\n",
        "        tensor[li][0][all_letters.find(letter)] = 1\n",
        "    return tensor.to(device)\n",
        "\n",
        "# ``LongTensor`` of second letter to end (EOS) for target\n",
        "def targetTensor(line):\n",
        "    letter_indexes = [all_letters.find(line[li]) for li in range(1, len(line))]\n",
        "    letter_indexes.append(n_letters - 1) # EOS\n",
        "    return torch.LongTensor(letter_indexes).to(device)"
      ]
    },
    {
      "cell_type": "code",
      "execution_count": null,
      "metadata": {
        "colab": {
          "base_uri": "https://localhost:8080/"
        },
        "id": "jZulogzmkhQs",
        "outputId": "d2a5df04-300f-4986-a813-202bfc810ae5"
      },
      "outputs": [
        {
          "output_type": "stream",
          "name": "stdout",
          "text": [
            "Category: German\n",
            "Name: Herbert\n",
            "\n",
            "Category Tensor Shape: torch.Size([1, 18])\n",
            "Category Tensor: tensor([[0., 0., 0., 0., 0., 0., 0., 0., 0., 0., 0., 0., 0., 1., 0., 0., 0., 0.]])\n",
            "\n",
            "Input Tensor Shape: torch.Size([7, 1, 59])\n",
            "First Input Character (one-hot): tensor([[0., 0., 0., 0., 0., 0., 0., 0., 0., 0., 0., 0., 0., 0., 0., 0., 0., 0.,\n",
            "         0., 0., 0., 0., 0., 0., 0., 0., 0., 0., 0., 0., 0., 0., 0., 1., 0., 0.,\n",
            "         0., 0., 0., 0., 0., 0., 0., 0., 0., 0., 0., 0., 0., 0., 0., 0., 0., 0.,\n",
            "         0., 0., 0., 0., 0.]])\n",
            "\n",
            "Target Tensor Shape: torch.Size([7])\n",
            "Target Indices: tensor([ 4, 17,  1,  4, 17, 19, 58])\n"
          ]
        }
      ],
      "source": [
        "# 🔍 Test the tensor conversion functions with an example\n",
        "example_category, example_line = randomTrainingPair()\n",
        "\n",
        "print(\"Category:\", example_category)\n",
        "print(\"Name:\", example_line)\n",
        "\n",
        "cat_tensor = categoryTensor(example_category)\n",
        "print(\"\\nCategory Tensor Shape:\", cat_tensor.shape)\n",
        "print(\"Category Tensor:\", cat_tensor)\n",
        "\n",
        "\n",
        "input_tensor = inputTensor(example_line)\n",
        "print(\"\\nInput Tensor Shape:\", input_tensor.shape)\n",
        "print(\"First Input Character (one-hot):\", input_tensor[0])\n",
        "\n",
        "target_tensor = targetTensor(example_line)\n",
        "print(\"\\nTarget Tensor Shape:\", target_tensor.shape)\n",
        "print(\"Target Indices:\", target_tensor)\n"
      ]
    },
    {
      "cell_type": "markdown",
      "metadata": {
        "id": "3H2cYj6e_uAs"
      },
      "source": [
        "### 🔄 Generate a Random Training Example (Tensors)\n",
        "\n",
        "This function creates a full training example from a randomly chosen name and language category:\n",
        "\n",
        "- `randomTrainingPair()`: Selects a random (category, name) pair.\n",
        "- `categoryTensor(category)`: One-hot encodes the language.\n",
        "- `inputTensor(line)`: Converts the name into a sequence of one-hot encoded character tensors.\n",
        "- `targetTensor(line)`: Converts the target sequence (next characters + EOS) into a tensor of indices.\n",
        "\n",
        "The function returns all three components:\n",
        "1. `category_tensor`: Tensor for the language category.\n",
        "2. `input_line_tensor`: One-hot encoded character sequence.\n",
        "3. `target_line_tensor`: Index sequence for the expected next characters.\n",
        "\n",
        "This function is used during training to dynamically create fresh examples.\n"
      ]
    },
    {
      "cell_type": "code",
      "execution_count": null,
      "metadata": {
        "id": "fmgmB7lU_uAs"
      },
      "outputs": [],
      "source": [
        "# Make category, input, and target tensors from a random category, line pair\n",
        "def randomTrainingExample():\n",
        "    category, line = randomTrainingPair()\n",
        "    category_tensor = categoryTensor(category)\n",
        "    input_line_tensor = inputTensor(line)\n",
        "    target_line_tensor = targetTensor(line)\n",
        "    return category_tensor.to(device), input_line_tensor.to(device), target_line_tensor.to(device)"
      ]
    },
    {
      "cell_type": "markdown",
      "metadata": {
        "id": "iDJdbWNi_uAt"
      },
      "source": [
        "### 🏋️ Simplified Training Step for One Name\n",
        "\n",
        "This function trains the RNN on a single (category, name) example:\n",
        "\n",
        "- **Loss**: Uses `nn.NLLLoss()` since the model outputs log-probabilities.\n",
        "- **Optimizer**: `Adam` is used to automatically handle parameter updates.\n",
        "\n",
        "#### 🔁 `train(...)` Workflow:\n",
        "1. Prepare tensors and initialize the hidden state.\n",
        "2. Zero gradients with `optimizer.zero_grad()`.\n",
        "3. Loop over characters in the input:\n",
        "   - Pass each character to the RNN.\n",
        "   - Accumulate loss using the predicted output and target.\n",
        "4. Call `loss.backward()` to compute gradients.\n",
        "5. Update parameters using `optimizer.step()`.\n",
        "\n",
        "This version is cleaner and leverages PyTorch’s optimizer for parameter updates.\n"
      ]
    },
    {
      "cell_type": "code",
      "execution_count": null,
      "metadata": {
        "id": "7kNzJiVj_uAt"
      },
      "outputs": [],
      "source": [
        "criterion = nn.NLLLoss()\n",
        "def train(category_tensor, input_line_tensor, target_line_tensor):\n",
        "    target_line_tensor = target_line_tensor.unsqueeze(-1)\n",
        "    hidden = rnn.initHidden()\n",
        "\n",
        "    optimizer.zero_grad()\n",
        "    loss = 0\n",
        "\n",
        "    for i in range(input_line_tensor.size(0)):\n",
        "        output, hidden = rnn(category_tensor, input_line_tensor[i], hidden)\n",
        "        l = criterion(output, target_line_tensor[i])\n",
        "        loss += l\n",
        "\n",
        "    loss.backward()\n",
        "    optimizer.step()\n",
        "\n",
        "    return output, loss.item() / input_line_tensor.size(0)\n"
      ]
    },
    {
      "cell_type": "markdown",
      "metadata": {
        "id": "i4_0CSN8_uAt"
      },
      "source": [
        "To keep track of how long training takes I am adding a\n",
        "`timeSince(timestamp)` function which returns a human readable string:\n"
      ]
    },
    {
      "cell_type": "code",
      "execution_count": null,
      "metadata": {
        "id": "kVnTWFOH_uAt"
      },
      "outputs": [],
      "source": [
        "def timeSince(since):\n",
        "    now = time.time()\n",
        "    s = now - since\n",
        "    m = math.floor(s / 60)\n",
        "    s -= m * 60\n",
        "    return '%dm %ds' % (m, s)"
      ]
    },
    {
      "cell_type": "markdown",
      "metadata": {
        "id": "rNaH60PO_uAt"
      },
      "source": [
        "### 🔁 Full Training Loop\n",
        "\n",
        "This cell runs the main training loop for the RNN:\n",
        "\n",
        "- **Model Initialization**:\n",
        "  - `rnn`: New instance of the RNN model.\n",
        "  - `optimizer`: Adam optimizer for automatic gradient updates.\n",
        "\n",
        "- **Training Parameters**:\n",
        "  - `n_iters = 100000`: Number of training iterations.\n",
        "  - `print_every = 5000`: Print training progress every 5,000 iterations.\n",
        "  - `plot_every = 500`: Track loss for plotting every 500 iterations.\n",
        "\n",
        "- **Training Process**:\n",
        "  - At each iteration, sample a random training example and train the model.\n",
        "  - Periodically log the loss and append averaged loss values for plotting later.\n",
        "  - Uses `timeSince` to display elapsed training time in a readable format.\n",
        "\n",
        "This loop trains the RNN to predict the next character in a name based on both the previous characters and the category (language).\n"
      ]
    },
    {
      "cell_type": "code",
      "execution_count": null,
      "metadata": {
        "colab": {
          "base_uri": "https://localhost:8080/"
        },
        "id": "Pbt-g4j3_uAt",
        "outputId": "76a29079-89b3-4d4b-b716-d4c838c2b464"
      },
      "outputs": [
        {
          "output_type": "stream",
          "name": "stdout",
          "text": [
            "0m 26s (5000 10%) 2.2061\n",
            "0m 52s (10000 20%) 3.2334\n",
            "1m 18s (15000 30%) 2.1280\n",
            "1m 44s (20000 40%) 2.6817\n",
            "2m 9s (25000 50%) 2.8770\n",
            "2m 34s (30000 60%) 3.1454\n",
            "2m 59s (35000 70%) 0.8254\n",
            "3m 24s (40000 80%) 3.0811\n",
            "3m 50s (45000 90%) 2.0763\n",
            "4m 16s (50000 100%) 2.5403\n"
          ]
        }
      ],
      "source": [
        "rnn = RNN(n_letters, 128, n_letters).to(device)\n",
        "optimizer = torch.optim.Adam(rnn.parameters(), lr=0.0005)\n",
        "n_iters = 50000\n",
        "print_every = 5000\n",
        "plot_every = 500\n",
        "all_losses = []\n",
        "total_loss = 0\n",
        "\n",
        "start = time.time()\n",
        "\n",
        "for iter in range(1, n_iters + 1):\n",
        "    output, loss = train(*randomTrainingExample())\n",
        "    total_loss += loss\n",
        "\n",
        "    if iter % print_every == 0:\n",
        "        print('%s (%d %d%%) %.4f' % (timeSince(start), iter, iter / n_iters * 100, loss))\n",
        "\n",
        "    if iter % plot_every == 0:\n",
        "        all_losses.append(total_loss / plot_every)\n",
        "        total_loss = 0"
      ]
    },
    {
      "cell_type": "markdown",
      "metadata": {
        "id": "q8AeD4od_uAu"
      },
      "source": [
        "Plotting the Losses\n",
        "===================\n",
        "\n",
        "Plotting the historical loss from all\\_losses shows the network\n",
        "learning:\n"
      ]
    },
    {
      "cell_type": "code",
      "execution_count": null,
      "metadata": {
        "id": "EdUpzgOf_uAu",
        "colab": {
          "base_uri": "https://localhost:8080/",
          "height": 578
        },
        "outputId": "2f6c1e2d-c404-4b41-aec8-82026c2b7f45"
      },
      "outputs": [
        {
          "output_type": "stream",
          "name": "stderr",
          "text": [
            "/tmp/ipython-input-15-1818037715.py:8: UserWarning: Glyph 128201 (\\N{CHART WITH DOWNWARDS TREND}) missing from font(s) DejaVu Sans.\n",
            "  plt.tight_layout()\n",
            "/usr/local/lib/python3.11/dist-packages/IPython/core/pylabtools.py:151: UserWarning: Glyph 128201 (\\N{CHART WITH DOWNWARDS TREND}) missing from font(s) DejaVu Sans.\n",
            "  fig.canvas.print_figure(bytes_io, **kw)\n"
          ]
        },
        {
          "output_type": "display_data",
          "data": {
            "text/plain": [
              "<Figure size 1000x500 with 1 Axes>"
            ],
            "image/png": "[encoded data removed]"
          },
          "metadata": {}
        }
      ],
      "source": [
        "plt.figure(figsize=(10, 5))\n",
        "plt.plot(all_losses, label='Training Loss')\n",
        "plt.title(\"📉 Average Loss During Training\")\n",
        "plt.xlabel(\"Iterations (×500)\")\n",
        "plt.ylabel(\"Loss\")\n",
        "plt.grid(True)\n",
        "plt.legend()\n",
        "plt.tight_layout()\n",
        "plt.show()\n"
      ]
    },
    {
      "cell_type": "markdown",
      "metadata": {
        "id": "hjJxTYyj_uAu"
      },
      "source": [
        "### ✨ Name Generation (Inference)\n",
        "\n",
        "This cell defines how to generate new names using the trained RNN model:\n",
        "\n",
        "#### 🔡 `sample(category, start_letter='A')`\n",
        "- Generates one name at a time, given a **language category** and a **starting letter**.\n",
        "- At each step:\n",
        "  - The model predicts the next character based on the previous one and the hidden state.\n",
        "  - Generation stops either when:\n",
        "    - The model outputs the EOS token, or\n",
        "    - The maximum length (`max_length = 20`) is reached.\n",
        "\n",
        "#### 🔁 `samples(category, start_letters='ABC')`\n",
        "- Generates multiple names per category, each starting with a different letter.\n",
        "- Useful for visualizing how the model behaves with different prefixes.\n",
        "\n",
        "#### 📦 Example Outputs\n",
        "This code calls `samples()` on various categories and initials to showcase generated names:\n",
        "- Russian: Starting with R, U, S\n",
        "- German: G, E, R\n",
        "- Spanish: S, P, A\n",
        "- Chinese: C, H, I\n",
        "- Arabic: H, A, R\n",
        "\n",
        "The output shows how well the model has learned character patterns for each language.\n"
      ]
    },
    {
      "cell_type": "code",
      "execution_count": null,
      "metadata": {
        "id": "bWp-lqFc_uAu",
        "colab": {
          "base_uri": "https://localhost:8080/"
        },
        "outputId": "e0779f8d-6853-4029-c611-029bb9efd783"
      },
      "outputs": [
        {
          "output_type": "stream",
          "name": "stdout",
          "text": [
            "Romanik\n",
            "Urinov\n",
            "Salovan\n",
            "---------------------------------------\n",
            "Gres\n",
            "Estev\n",
            "Rompa\n",
            "---------------------------------------\n",
            "Salaman\n",
            "Parez\n",
            "Aberquezi\n",
            "---------------------------------------\n",
            "Cha\n",
            "Hun\n",
            "Iwa\n",
            "---------------------------------------\n",
            "Harde\n",
            "Abara\n",
            "Rosha\n",
            "Abara\n"
          ]
        }
      ],
      "source": [
        "max_length = 20\n",
        "\n",
        "# Sample from a category and starting letter\n",
        "def sample(category, start_letter='A'):\n",
        "    with torch.no_grad():  # no need to track history in sampling\n",
        "        category_tensor = categoryTensor(category)\n",
        "        input = inputTensor(start_letter)\n",
        "        hidden = rnn.initHidden()\n",
        "\n",
        "        output_name = start_letter\n",
        "\n",
        "        for i in range(max_length):\n",
        "            output, hidden = rnn(category_tensor, input[0], hidden)\n",
        "            topv, topi = output.topk(1)\n",
        "            topi = topi[0][0]\n",
        "            if topi == n_letters - 1:\n",
        "                break\n",
        "            else:\n",
        "                letter = all_letters[topi]\n",
        "                output_name += letter\n",
        "            input = inputTensor(letter)\n",
        "\n",
        "        return output_name\n",
        "\n",
        "# Get multiple samples from one category and multiple starting letters\n",
        "def samples(category, start_letters='ABC'):\n",
        "    for start_letter in start_letters:\n",
        "        print(sample(category, start_letter))\n",
        "\n",
        "samples('Russian', 'RUS')\n",
        "print(\"---------------------------------------\")\n",
        "samples('German', 'GER')\n",
        "print(\"---------------------------------------\")\n",
        "samples('Spanish', 'SPA')\n",
        "print(\"---------------------------------------\")\n",
        "samples('Chinese', 'CHI')\n",
        "print(\"---------------------------------------\")\n",
        "samples('Arabic', 'HARA')"
      ]
    },
    {
      "cell_type": "markdown",
      "metadata": {
        "id": "MxWgk20P_uAu"
      },
      "source": [
        "### Contirbuted by Yazan Alshoibi\n"
      ]
    },
    {
      "cell_type": "code",
      "source": [],
      "metadata": {
        "id": "s3JZJexgnZLy"
      },
      "execution_count": null,
      "outputs": []
    }
  ],
  "metadata": {
    "colab": {
      "provenance": []
    },
    "kernelspec": {
      "display_name": "Python 3",
      "name": "python3"
    },
    "language_info": {
      "codemirror_mode": {
        "name": "ipython",
        "version": 3
      },
      "file_extension": ".py",
      "mimetype": "text/x-python",
      "name": "python",
      "nbconvert_exporter": "python",
      "pygments_lexer": "ipython3",
      "version": "3.12.7"
    }
  },
  "nbformat": 4,
  "nbformat_minor": 0
}